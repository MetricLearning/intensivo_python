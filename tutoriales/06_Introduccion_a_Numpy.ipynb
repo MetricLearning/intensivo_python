{
 "cells": [
  {
   "cell_type": "markdown",
   "metadata": {},
   "source": [
    "# Introducción a  Numpy\n",
    "\n",
    "**Autor:** Roberto Muñoz <br />\n",
    "**E-mail:** <rmunoz@metricarts.com> <br />\n",
    "**Github:** <https://github.com/rpmunoz> <br />\n",
    "\n",
    "Uno de los módulos más importantes de Python es **[Numpy](http://www.numpy.org/)**. El origen de Numpy se debe principalmente al diseñador de software Jim Hugunin quien diseñó el módulo Numeric para dotar a Python de capacidades de cálculo similares a las de otros softwares como MATLAB. Posteriormente, mejoró Numeric incorporando nuevas funcionalidades naciendo lo que hoy conocemos como Numpy.\n",
    "\n",
    "Numpy es el encargado de añadir toda la capacidad matemática y vectorial a Python haciendo posible operar con cualquier dato numérico o array (posteriormente veremos qué es un array). Incorpora operaciones tan básicas como la suma o la multiplicación u otras mucho más complejas como la transformada de Fourier o el álgebra lineal. Además incorpora herramientas que nos permiten incorporar código fuente de otros lenguajes de programación como C/C++ o Fortran lo que incrementa notablemente su compatibilidad e implementación.\n"
   ]
  },
  {
   "cell_type": "markdown",
   "metadata": {},
   "source": [
    "## ¿Porqué usar Numpy?\n",
    "\n",
    "En múltiples ocasiones necesitamos hacer operaciones numéricas sobre datos provenientes de archivos Excel o Bases de datos que contienen múltiples campos (columnas) y múltiples registros (filas).\n",
    "\n",
    "Vimos que en Python existen las listas, tuplas y diccionarios, las cuales son de gran ayuda para almacenar y adminsitrar datos. Veamos qué sucede cuando queremos sumar los elementos almacenados en dos listas."
   ]
  },
  {
   "cell_type": "code",
   "execution_count": 1,
   "metadata": {},
   "outputs": [
    {
     "name": "stdout",
     "output_type": "stream",
     "text": [
      "[1, 2, 3, 4, 5, 6, 7, 8]\n"
     ]
    }
   ],
   "source": [
    "x=[1,2,3,4]\n",
    "y=[5,6,7,8]\n",
    "print(x+y)"
   ]
  },
  {
   "cell_type": "markdown",
   "metadata": {},
   "source": [
    "Como podemos notar, el operador + simplemente concatena las dos listas.\n",
    "¿Alguien sugiere como podriamos sumar los elmentos de las dos listas, elemento por elemento?"
   ]
  },
  {
   "cell_type": "code",
   "execution_count": 2,
   "metadata": {},
   "outputs": [
    {
     "name": "stdout",
     "output_type": "stream",
     "text": [
      "[6, 8, 10, 12]\n"
     ]
    }
   ],
   "source": [
    "res=[]\n",
    "for i in range(4):\n",
    "    res.append(x[i]+y[i])\n",
    "    \n",
    "print(res)"
   ]
  },
  {
   "cell_type": "markdown",
   "metadata": {},
   "source": [
    "## Cómo importar el paquete Numpy\n",
    "\n",
    "Partimos importando el paquete numpy usando la función import. En este caso usaremos el alias np para referirnos de manera más abreviada a las clases y  métodos implementados en numpy."
   ]
  },
  {
   "cell_type": "code",
   "execution_count": 3,
   "metadata": {
    "collapsed": true
   },
   "outputs": [],
   "source": [
    "import numpy"
   ]
  },
  {
   "cell_type": "code",
   "execution_count": 4,
   "metadata": {},
   "outputs": [
    {
     "name": "stdout",
     "output_type": "stream",
     "text": [
      "1.13.3\n"
     ]
    }
   ],
   "source": [
    "import numpy as np\n",
    "print(np.__version__)"
   ]
  },
  {
   "cell_type": "code",
   "execution_count": 5,
   "metadata": {},
   "outputs": [
    {
     "name": "stderr",
     "output_type": "stream",
     "text": [
      "IOPub data rate exceeded.\n",
      "The notebook server will temporarily stop sending output\n",
      "to the client in order to avoid crashing it.\n",
      "To change this limit, set the config variable\n",
      "`--NotebookApp.iopub_data_rate_limit`.\n"
     ]
    }
   ],
   "source": [
    "help(np)"
   ]
  },
  {
   "cell_type": "markdown",
   "metadata": {},
   "source": [
    "## Definición de arreglos en Numpy"
   ]
  },
  {
   "cell_type": "code",
   "execution_count": 6,
   "metadata": {},
   "outputs": [
    {
     "name": "stdout",
     "output_type": "stream",
     "text": [
      "[[1 2 3 4]\n",
      " [5 6 7 8]]\n",
      "type(x):  <class 'numpy.ndarray'>\n",
      "x.dtype:  int64\n",
      "x.size:  8\n",
      "x.shape:  (2, 4)\n"
     ]
    }
   ],
   "source": [
    "# Definir un arreglo 1D\n",
    "\n",
    "x = np.array([[1,2,3,4],[5,6,7,8]])\n",
    "print(x)\n",
    "print('type(x): ', type(x))\n",
    "print('x.dtype: ', x.dtype)\n",
    "print('x.size: ', x.size)\n",
    "print('x.shape: ', x.shape)"
   ]
  },
  {
   "cell_type": "code",
   "execution_count": 7,
   "metadata": {},
   "outputs": [
    {
     "name": "stdout",
     "output_type": "stream",
     "text": [
      "[ 1.  2.  3.  4.]\n",
      "type(x):  <class 'numpy.ndarray'>\n",
      "x.dtype:  float32\n",
      "x.size:  4\n",
      "x.shape:  (4,)\n"
     ]
    }
   ],
   "source": [
    "# Definir un arreglo 1D como tipo de dato de punto flotante\n",
    "\n",
    "x = np.array([1,2,3,4], dtype=np.float32)\n",
    "print(x)\n",
    "print('type(x): ', type(x))\n",
    "print('x.dtype: ', x.dtype)\n",
    "print('x.size: ', x.size)\n",
    "print('x.shape: ', x.shape)"
   ]
  },
  {
   "cell_type": "code",
   "execution_count": 8,
   "metadata": {},
   "outputs": [
    {
     "name": "stdout",
     "output_type": "stream",
     "text": [
      "x:  [ 1.  2.  3.  4.]\n",
      "y:  [5 6 7 8]\n",
      "Suma:  [  6.   8.  10.  12.]\n"
     ]
    }
   ],
   "source": [
    "# Sumar los arreglos x e y\n",
    "y = np.array([5,6,7,8])\n",
    "print('x: ', x)\n",
    "print('y: ', y)\n",
    "print('Suma: ', x+y)"
   ]
  },
  {
   "cell_type": "code",
   "execution_count": 9,
   "metadata": {},
   "outputs": [
    {
     "name": "stdout",
     "output_type": "stream",
     "text": [
      "[[1 2 3 4]\n",
      " [5 6 7 8]]\n",
      "<class 'numpy.ndarray'>\n",
      "8\n",
      "(2, 4)\n"
     ]
    }
   ],
   "source": [
    "# Definir un arreglo 2D\n",
    "\n",
    "x= np.array([[1,2,3,4],[5,6,7,8]])\n",
    "print(x)\n",
    "print(type(x))\n",
    "print(x.size)\n",
    "print(x.shape)"
   ]
  },
  {
   "cell_type": "code",
   "execution_count": 10,
   "metadata": {},
   "outputs": [
    {
     "data": {
      "text/plain": [
       "array([[1, 2, 3],\n",
       "       [5, 6, 7]])"
      ]
     },
     "execution_count": 10,
     "metadata": {},
     "output_type": "execute_result"
    }
   ],
   "source": [
    "x[0:2,0:3]"
   ]
  },
  {
   "cell_type": "markdown",
   "metadata": {},
   "source": [
    "**See Figure 1 for an illustration of indexing on a 2D array.**<br />\n",
    "<img src=\"images/numpy_indexing.png\" width=\"400\">"
   ]
  },
  {
   "cell_type": "code",
   "execution_count": 11,
   "metadata": {},
   "outputs": [
    {
     "name": "stdout",
     "output_type": "stream",
     "text": [
      "x:  [ 0.  0.  0.  0.  0.  0.  0.  0.  0.  0.]\n",
      "y: [[ 0.  0.  0.  0.]\n",
      " [ 0.  0.  0.  0.]]\n"
     ]
    }
   ],
   "source": [
    "# Inicializar un arreglo 1D y otro 2D con ceros. Notar que usamos Y por X\n",
    "\n",
    "x=np.zeros(10)\n",
    "print('x: ', x)\n",
    "\n",
    "y=np.zeros([2,4])\n",
    "print('y:', y)"
   ]
  },
  {
   "cell_type": "code",
   "execution_count": 12,
   "metadata": {},
   "outputs": [
    {
     "name": "stdout",
     "output_type": "stream",
     "text": [
      "[ 0.73926851  0.11473639  0.37088776  0.43945536  0.83440559  0.53022378\n",
      "  0.52455149  0.57880582  0.27502712  0.43475714  0.51994183  0.50988842\n",
      "  0.56187807  0.36986869  0.57595122  0.92095389  0.4225486   0.81421703\n",
      "  0.51661524  0.47833252  0.58577896  0.32894398  0.58151882  0.98168211\n",
      "  0.42588015  0.82537563  0.18002079  0.66461639  0.46778583  0.65144369\n",
      "  0.63945793  0.89308326  0.15513044  0.33262435  0.8136705   0.48405356\n",
      "  0.03720531  0.02165298  0.3040792   0.85541855  0.76033978  0.13787335\n",
      "  0.84037706  0.34078624  0.01772856  0.6345478   0.90203023  0.64199139\n",
      "  0.68019032  0.47092847  0.93853027  0.28991906  0.21066371  0.15533964\n",
      "  0.62975638  0.14527755  0.55628802  0.99530432  0.75240186  0.57257417\n",
      "  0.76254686  0.78171484  0.59762733  0.29726701  0.14440671  0.04210246\n",
      "  0.88840673  0.04298589  0.30246314  0.33348978  0.70250305  0.24102694\n",
      "  0.44720109  0.48360861  0.93810384  0.87987036  0.61494445  0.83779452\n",
      "  0.20542033  0.29368944  0.47831599  0.61127952  0.04673656  0.07235128\n",
      "  0.36078482  0.34247128  0.65211932  0.02284056  0.59401412  0.78909744\n",
      "  0.41014328  0.43536426  0.02876902  0.81355771  0.66998671  0.01507113\n",
      "  0.32761411  0.47187601  0.79241668  0.4534962 ]\n"
     ]
    }
   ],
   "source": [
    "# Crear un arreglo usando valores aleatorios entre 0 y 1\n",
    "\n",
    "x=np.random.random(100)\n",
    "print(x)"
   ]
  },
  {
   "cell_type": "code",
   "execution_count": 13,
   "metadata": {},
   "outputs": [
    {
     "name": "stdout",
     "output_type": "stream",
     "text": [
      "[[ 1  2  3  4]\n",
      " [ 5  6  7  8]\n",
      " [ 9 10 11 12]]\n",
      "\n",
      "x[0,3]:  4\n",
      "\n",
      "x[:,0]:  [1 5 9]\n",
      "\n",
      "x[0,:]:  [1 2 3 4]\n"
     ]
    }
   ],
   "source": [
    "# Extraer valores de un arreglo Numpy usando indices\n",
    "\n",
    "x= np.array([[1,2,3,4],\n",
    "            [5,6,7,8],\n",
    "             [9,10,11,12]])\n",
    "print(x)\n",
    "\n",
    "print('\\nx[0,3]: ', x[0,3])\n",
    "\n",
    "print('\\nx[:,0]: ', x[:,0])\n",
    "print('\\nx[0,:]: ', x[0,:])"
   ]
  },
  {
   "cell_type": "code",
   "execution_count": 14,
   "metadata": {},
   "outputs": [
    {
     "name": "stdout",
     "output_type": "stream",
     "text": [
      "[[False False False False]\n",
      " [False False  True  True]\n",
      " [ True  True  True  True]]\n"
     ]
    }
   ],
   "source": [
    "# Numpy permite crear máscaras fácilmente usando condiciones booleanas\n",
    "\n",
    "a=x>6\n",
    "print(a)"
   ]
  },
  {
   "cell_type": "code",
   "execution_count": 15,
   "metadata": {},
   "outputs": [
    {
     "name": "stdout",
     "output_type": "stream",
     "text": [
      "[ 7  8  9 10 11 12]\n"
     ]
    }
   ],
   "source": [
    "# Extraer los valores de x que satisfacen la condición booleana. Para ello usamos la máscara\n",
    "\n",
    "print(x[a])"
   ]
  },
  {
   "cell_type": "markdown",
   "metadata": {},
   "source": [
    "**See Figure 2 for an illustration of boolean indexing on a 2D array.**<br />\n",
    "<img src=\"images/boolean_indexing.png\" width=\"400\">"
   ]
  },
  {
   "cell_type": "code",
   "execution_count": 16,
   "metadata": {},
   "outputs": [
    {
     "data": {
      "text/plain": [
       "(3, 4)"
      ]
     },
     "execution_count": 16,
     "metadata": {},
     "output_type": "execute_result"
    }
   ],
   "source": [
    "x.shape"
   ]
  },
  {
   "cell_type": "code",
   "execution_count": 17,
   "metadata": {},
   "outputs": [
    {
     "data": {
      "text/plain": [
       "array([15, 18, 21, 24])"
      ]
     },
     "execution_count": 17,
     "metadata": {},
     "output_type": "execute_result"
    }
   ],
   "source": [
    "# Sumar los valores de un arreglo 2D a lo largo del eje Y (columnas)\n",
    "\n",
    "np.sum(x, axis=0)"
   ]
  },
  {
   "cell_type": "code",
   "execution_count": 18,
   "metadata": {},
   "outputs": [
    {
     "data": {
      "text/plain": [
       "array([10, 26, 42])"
      ]
     },
     "execution_count": 18,
     "metadata": {},
     "output_type": "execute_result"
    }
   ],
   "source": [
    "# Sumar los valores de un arrego 2D a lo largo del eje X (filas)\n",
    "\n",
    "np.sum(x, axis=1)"
   ]
  },
  {
   "cell_type": "code",
   "execution_count": 19,
   "metadata": {},
   "outputs": [
    {
     "name": "stdout",
     "output_type": "stream",
     "text": [
      "[[ 1  5  9]\n",
      " [ 2  6 10]\n",
      " [ 3  7 11]\n",
      " [ 4  8 12]] (4, 3)\n"
     ]
    }
   ],
   "source": [
    "# Crear la transpuesta de la matriz x\n",
    "\n",
    "y= x.T\n",
    "print(y, y.shape)\n"
   ]
  },
  {
   "cell_type": "markdown",
   "metadata": {},
   "source": [
    "## Funciones matemáticas"
   ]
  },
  {
   "cell_type": "code",
   "execution_count": 23,
   "metadata": {},
   "outputs": [
    {
     "name": "stdout",
     "output_type": "stream",
     "text": [
      "Mean:  0.492190015794\n",
      "StdDev:  0.294716342357\n"
     ]
    }
   ],
   "source": [
    "x=np.random.random(1000)\n",
    "#print(x)\n",
    "print('Mean: ', np.mean(x))\n",
    "print('StdDev: ', np.std(x))"
   ]
  },
  {
   "cell_type": "code",
   "execution_count": 25,
   "metadata": {},
   "outputs": [
    {
     "name": "stdout",
     "output_type": "stream",
     "text": [
      "Mean:  0.0190993309608\n",
      "StdDev:  1.00050180752\n"
     ]
    }
   ],
   "source": [
    "x=np.random.randn(1000)\n",
    "print('Mean: ', np.mean(x))\n",
    "print('StdDev: ', np.std(x))"
   ]
  },
  {
   "cell_type": "code",
   "execution_count": 26,
   "metadata": {
    "collapsed": true
   },
   "outputs": [],
   "source": [
    "# También es posible importar algunas funciones directamente desde las librerías\n",
    "# Para ello usamos la sintaxis from <nombre_libreria> import <nombre_funcion>\n",
    "\n",
    "from numpy.random import random"
   ]
  },
  {
   "cell_type": "code",
   "execution_count": 27,
   "metadata": {},
   "outputs": [
    {
     "data": {
      "text/plain": [
       "array([  3.84633666e-01,   2.65525405e-01,   5.81052053e-02,\n",
       "         4.56509695e-01,   6.53703395e-01,   5.39579716e-01,\n",
       "         6.19478503e-01,   1.71207310e-01,   4.38585313e-01,\n",
       "         9.57525892e-01,   3.83767820e-01,   3.06310987e-01,\n",
       "         5.06350263e-01,   6.08563379e-01,   8.51263591e-02,\n",
       "         7.00184575e-01,   5.15866542e-01,   6.43557373e-01,\n",
       "         3.86006578e-01,   9.86573895e-01,   1.80621494e-01,\n",
       "         5.89229584e-02,   6.10065694e-04,   5.40597457e-01,\n",
       "         6.31389367e-01,   1.98030212e-01,   6.60640678e-01,\n",
       "         2.35530139e-01,   6.29351014e-01,   8.22125157e-01,\n",
       "         9.00191145e-02,   1.20698235e-01,   8.84534839e-01,\n",
       "         6.41398052e-01,   2.40558859e-01,   4.15128861e-01,\n",
       "         8.89625425e-01,   6.02287270e-01,   5.51655809e-01,\n",
       "         7.36846050e-01,   2.30148885e-01,   9.64455318e-02,\n",
       "         3.85289247e-01,   5.49656485e-01,   9.99467819e-01,\n",
       "         3.36334333e-01,   5.20410538e-01,   1.00366485e-01,\n",
       "         4.95430906e-01,   1.16407172e-01,   4.28858262e-01,\n",
       "         3.67026953e-02,   1.77085608e-02,   2.43541296e-01,\n",
       "         1.18367121e-01,   4.23496053e-01,   7.36254607e-01,\n",
       "         7.23810496e-01,   1.53382657e-01,   1.57994542e-01,\n",
       "         9.75651061e-01,   9.66911343e-01,   6.95136488e-01,\n",
       "         3.43405926e-01,   9.05950362e-01,   1.24785494e-01,\n",
       "         1.81976765e-01,   2.24068796e-01,   1.19426289e-02,\n",
       "         9.92901091e-01,   1.99865683e-01,   7.01036556e-01,\n",
       "         6.45440273e-01,   1.01635656e-02,   4.52219298e-01,\n",
       "         8.90788605e-01,   2.59104203e-01,   2.19305895e-01,\n",
       "         1.10285594e-01,   1.73712557e-01,   8.27183006e-01,\n",
       "         4.37244238e-01,   9.13780954e-01,   4.70984749e-01,\n",
       "         4.19971681e-01,   5.65927326e-01,   3.58516520e-01,\n",
       "         4.82225451e-01,   4.69659619e-02,   2.74481080e-01,\n",
       "         4.30160558e-01,   5.24668412e-01,   3.26102306e-01,\n",
       "         4.78032384e-01,   6.21599324e-01,   5.43815715e-01,\n",
       "         6.40307444e-01,   3.21560267e-01,   1.66619195e-01,\n",
       "         6.47198076e-01])"
      ]
     },
     "execution_count": 27,
     "metadata": {},
     "output_type": "execute_result"
    }
   ],
   "source": [
    "random(100)"
   ]
  },
  {
   "cell_type": "code",
   "execution_count": 28,
   "metadata": {},
   "outputs": [
    {
     "name": "stdout",
     "output_type": "stream",
     "text": [
      "[0 1 2 3 4 5 6 7 8 9]\n"
     ]
    }
   ],
   "source": [
    "# Crear un arreglo de enteros que comience en 0 y termine en 10 (no incluído)\n",
    "\n",
    "x=np.arange(0,10)\n",
    "print(x)"
   ]
  },
  {
   "cell_type": "code",
   "execution_count": 29,
   "metadata": {},
   "outputs": [
    {
     "name": "stdout",
     "output_type": "stream",
     "text": [
      "[ 0.   0.5  1.   1.5  2.   2.5  3.   3.5  4.   4.5  5.   5.5  6.   6.5  7.\n",
      "  7.5  8.   8.5  9.   9.5]\n",
      "float64\n"
     ]
    }
   ],
   "source": [
    "# Crear un arreglo de punto flotante que comience en 0 y termine en 10, con paso de 0.5\n",
    "\n",
    "x=np.arange(0,10,0.5, dtype=np.float64)\n",
    "print(x)\n",
    "print(x.dtype)"
   ]
  },
  {
   "cell_type": "code",
   "execution_count": 31,
   "metadata": {
    "scrolled": false
   },
   "outputs": [
    {
     "name": "stdout",
     "output_type": "stream",
     "text": [
      "[  0.00000000e+00   1.00000000e+00   1.22464680e-16  -1.00000000e+00\n",
      "  -2.44929360e-16   1.00000000e+00   3.67394040e-16  -1.00000000e+00\n",
      "  -4.89858720e-16   1.00000000e+00   6.12323400e-16  -1.00000000e+00\n",
      "  -7.34788079e-16   1.00000000e+00   8.57252759e-16  -1.00000000e+00\n",
      "  -9.79717439e-16   1.00000000e+00   1.10218212e-15  -1.00000000e+00]\n"
     ]
    }
   ],
   "source": [
    "# Usar funciones trigonométricas\n",
    "# Numpy contiene una serie de constantes matemáticas. Usaremos Pi\n",
    "\n",
    "y=np.sin(x*np.pi)\n",
    "print(y)"
   ]
  },
  {
   "cell_type": "code",
   "execution_count": 32,
   "metadata": {},
   "outputs": [
    {
     "name": "stdout",
     "output_type": "stream",
     "text": [
      "[  0.     0.25   1.     2.25   4.     6.25   9.    12.25  16.    20.25  25.\n",
      "  30.25  36.    42.25  49.    56.25  64.    72.25  81.    90.25]\n"
     ]
    }
   ],
   "source": [
    "# Usar funciones como potencia\n",
    "\n",
    "y=np.power(x,2) # elevar cada elemento del arreglo x, a la segunda potencia\n",
    "print(y)"
   ]
  },
  {
   "cell_type": "code",
   "execution_count": 33,
   "metadata": {},
   "outputs": [
    {
     "name": "stdout",
     "output_type": "stream",
     "text": [
      "[ 0.          0.70710678  1.          1.22474487  1.41421356  1.58113883\n",
      "  1.73205081  1.87082869  2.          2.12132034  2.23606798  2.34520788\n",
      "  2.44948974  2.54950976  2.64575131  2.73861279  2.82842712  2.91547595\n",
      "  3.          3.082207  ]\n"
     ]
    }
   ],
   "source": [
    "# Usar funciones como raíz cuadrada\n",
    "\n",
    "y=np.sqrt(x) # raíz de a, del inglés \"square root\"\n",
    "print(y)"
   ]
  },
  {
   "cell_type": "markdown",
   "metadata": {},
   "source": [
    "Escribir *np.sqrt(x)* es mucho más breve que la alternativa de usar funciones nativas de Python: Calcular una a una las raíces cuadradas de cada elemento de *x*."
   ]
  },
  {
   "cell_type": "code",
   "execution_count": 34,
   "metadata": {},
   "outputs": [
    {
     "name": "stdout",
     "output_type": "stream",
     "text": [
      "\n",
      "Usando Python built-in:  [0.0, 0.70710678118654757, 1.0, 1.2247448713915889, 1.4142135623730951, 1.5811388300841898, 1.7320508075688772, 1.8708286933869707, 2.0, 2.1213203435596424, 2.2360679774997898, 2.3452078799117149, 2.4494897427831779, 2.5495097567963922, 2.6457513110645907, 2.7386127875258306, 2.8284271247461903, 2.9154759474226504, 3.0, 3.082207001484488]\n",
      "\n",
      "Usando Numpy:  [ 0.          0.70710678  1.          1.22474487  1.41421356  1.58113883\n",
      "  1.73205081  1.87082869  2.          2.12132034  2.23606798  2.34520788\n",
      "  2.44948974  2.54950976  2.64575131  2.73861279  2.82842712  2.91547595\n",
      "  3.          3.082207  ]\n"
     ]
    }
   ],
   "source": [
    "result = []\n",
    "for el in x:\n",
    "    result.append(el**0.5)\n",
    "\n",
    "print(\"\\nUsando Python built-in: \", result)\n",
    "print(\"\\nUsando Numpy: \", y)"
   ]
  },
  {
   "cell_type": "code",
   "execution_count": null,
   "metadata": {
    "collapsed": true
   },
   "outputs": [],
   "source": []
  }
 ],
 "metadata": {
  "kernelspec": {
   "display_name": "Python 3",
   "language": "python",
   "name": "python3"
  },
  "language_info": {
   "codemirror_mode": {
    "name": "ipython",
    "version": 3
   },
   "file_extension": ".py",
   "mimetype": "text/x-python",
   "name": "python",
   "nbconvert_exporter": "python",
   "pygments_lexer": "ipython3",
   "version": "3.6.3"
  }
 },
 "nbformat": 4,
 "nbformat_minor": 2
}
