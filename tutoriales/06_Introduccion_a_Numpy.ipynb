{
 "cells": [
  {
   "cell_type": "markdown",
   "metadata": {},
   "source": [
    "# Introducción a  Numpy\n",
    "\n",
    "**Autor:** Roberto Muñoz <br />\n",
    "**E-mail:** <rmunoz@metricarts.com>\n",
    "\n",
    "Uno de los módulos más importantes de Python es **[Numpy](http://www.numpy.org/)**. El origen de Numpy se debe principalmente al diseñador de software Jim Hugunin quien diseñó el módulo Numeric para dotar a Python de capacidades de cálculo similares a las de otros softwares como MATLAB. Posteriormente, mejoró Numeric incorporando nuevas funcionalidades naciendo lo que hoy conocemos como Numpy.\n",
    "\n",
    "Numpy es el encargado de añadir toda la capacidad matemática y vectorial a Python haciendo posible operar con cualquier dato numérico o array (posteriormente veremos qué es un array). Incorpora operaciones tan básicas como la suma o la multiplicación u otras mucho más complejas como la transformada de Fourier o el álgebra lineal. Además incorpora herramientas que nos permiten incorporar código fuente de otros lenguajes de programación como C/C++ o Fortran lo que incrementa notablemente su compatibilidad e implementación.\n"
   ]
  },
  {
   "cell_type": "markdown",
   "metadata": {},
   "source": [
    "## ¿Porqué usar Numpy?\n",
    "\n",
    "En múltiples ocasiones necesitamos hacer operaciones numéricas sobre datos provenientes de archivos Excel o Bases de datos que contienen múltiples campos (columnas) y múltiples registros (filas).\n",
    "\n",
    "Vimos que en Python existen las listas, tuplas y diccionarios, las cuales son de gran ayuda para almacenar y adminsitrar datos. Veamos qué sucede cuando queremos sumar los elementos almacenados en dos listas."
   ]
  },
  {
   "cell_type": "code",
   "execution_count": 1,
   "metadata": {},
   "outputs": [
    {
     "name": "stdout",
     "output_type": "stream",
     "text": [
      "[1, 2, 3, 4, 5, 6, 7, 8]\n"
     ]
    }
   ],
   "source": [
    "x=[1,2,3,4]\n",
    "y=[5,6,7,8]\n",
    "print(x+y)"
   ]
  },
  {
   "cell_type": "markdown",
   "metadata": {},
   "source": [
    "Como podemos notar, el operador + simplemente concatena las dos listas.\n",
    "¿Alguien sugiere como podriamos sumar los elmentos de las dos listas, elemento por elemento?"
   ]
  },
  {
   "cell_type": "code",
   "execution_count": null,
   "metadata": {
    "collapsed": true
   },
   "outputs": [],
   "source": []
  },
  {
   "cell_type": "markdown",
   "metadata": {},
   "source": [
    "## Cómo importar el paquete Numpy\n",
    "\n",
    "Partimos importando el paquete numpy usando la función import. En este caso usaremos el alias np para referirnos de manera más abreviada a las clases y  métodos implementados en numpy."
   ]
  },
  {
   "cell_type": "code",
   "execution_count": 2,
   "metadata": {},
   "outputs": [
    {
     "name": "stdout",
     "output_type": "stream",
     "text": [
      "1.13.3\n"
     ]
    }
   ],
   "source": [
    "import numpy as np\n",
    "print(np.__version__)"
   ]
  },
  {
   "cell_type": "markdown",
   "metadata": {},
   "source": [
    "## Definición de arreglos en Numpy"
   ]
  },
  {
   "cell_type": "code",
   "execution_count": 3,
   "metadata": {},
   "outputs": [
    {
     "name": "stdout",
     "output_type": "stream",
     "text": [
      "[1 2 3 4]\n",
      "type(x):  <class 'numpy.ndarray'>\n",
      "x.dtype:  int64\n",
      "x.size:  4\n",
      "x.shape:  (4,)\n"
     ]
    }
   ],
   "source": [
    "# Definir un arreglo 1D\n",
    "\n",
    "x = np.array([1,2,3,4])\n",
    "print(x)\n",
    "print('type(x): ', type(x))\n",
    "print('x.dtype: ', x.dtype)\n",
    "print('x.size: ', x.size)\n",
    "print('x.shape: ', x.shape)"
   ]
  },
  {
   "cell_type": "code",
   "execution_count": 4,
   "metadata": {},
   "outputs": [
    {
     "name": "stdout",
     "output_type": "stream",
     "text": [
      "[ 1.  2.  3.  4.]\n",
      "type(x):  <class 'numpy.ndarray'>\n",
      "x.dtype:  float32\n",
      "x.size:  4\n",
      "x.shape:  (4,)\n"
     ]
    }
   ],
   "source": [
    "# Definir un arreglo 1D como tipo de dato de punto flotante\n",
    "\n",
    "x = np.array([1,2,3,4], dtype=np.float32)\n",
    "print(x)\n",
    "print('type(x): ', type(x))\n",
    "print('x.dtype: ', x.dtype)\n",
    "print('x.size: ', x.size)\n",
    "print('x.shape: ', x.shape)"
   ]
  },
  {
   "cell_type": "code",
   "execution_count": 6,
   "metadata": {},
   "outputs": [
    {
     "name": "stdout",
     "output_type": "stream",
     "text": [
      "x:  [ 1.  2.  3.  4.]\n",
      "y:  [5 6 7 8]\n",
      "Suma:  [  6.   8.  10.  12.]\n"
     ]
    }
   ],
   "source": [
    "# Sumar los arreglos x e y\n",
    "y = np.array([5,6,7,8])\n",
    "print('x: ', x)\n",
    "print('y: ', y)\n",
    "print('Suma: ', x+y)"
   ]
  },
  {
   "cell_type": "code",
   "execution_count": 7,
   "metadata": {},
   "outputs": [
    {
     "name": "stdout",
     "output_type": "stream",
     "text": [
      "[[1 2 3 4]\n",
      " [5 6 7 8]]\n",
      "<class 'numpy.ndarray'>\n",
      "8\n",
      "(2, 4)\n"
     ]
    }
   ],
   "source": [
    "# Definir un arreglo 2D\n",
    "\n",
    "x= np.array([[1,2,3,4],[5,6,7,8]])\n",
    "print(x)\n",
    "print(type(x))\n",
    "print(x.size)\n",
    "print(x.shape)"
   ]
  },
  {
   "cell_type": "markdown",
   "metadata": {},
   "source": [
    "**See Figure 1 for an illustration of indexing on a 2D array.**<br />\n",
    "<img src=\"images/numpy_indexing.png\" width=\"400\">"
   ]
  },
  {
   "cell_type": "code",
   "execution_count": 9,
   "metadata": {},
   "outputs": [
    {
     "name": "stdout",
     "output_type": "stream",
     "text": [
      "x:  [ 0.  0.  0.  0.  0.  0.  0.  0.  0.  0.]\n",
      "y: [[ 0.  0.  0.  0.]\n",
      " [ 0.  0.  0.  0.]]\n"
     ]
    }
   ],
   "source": [
    "# Inicializar un arreglo 1D y otro 2D con ceros. Notar que usamos Y por X\n",
    "\n",
    "x=np.zeros(10)\n",
    "print('x: ', x)\n",
    "\n",
    "y=np.zeros([2,4])\n",
    "print('y:', y)"
   ]
  },
  {
   "cell_type": "code",
   "execution_count": 10,
   "metadata": {},
   "outputs": [
    {
     "name": "stdout",
     "output_type": "stream",
     "text": [
      "[ 0.18644596  0.11978201  0.45932489  0.60218122  0.67845962  0.77170906\n",
      "  0.01825457  0.43402624  0.8720491   0.36946698  0.12174092  0.16447172\n",
      "  0.72765008  0.81408774  0.47911381  0.37276242  0.280329    0.84179052\n",
      "  0.36446668  0.75561317  0.58464192  0.09391143  0.42719673  0.56814132\n",
      "  0.36698071  0.09778505  0.79592703  0.44472448  0.13098522  0.63667042\n",
      "  0.03539714  0.80490903  0.85646922  0.12886414  0.95726444  0.05520466\n",
      "  0.8334231   0.76823933  0.86318634  0.08379661  0.56989208  0.55652717\n",
      "  0.54033675  0.10000419  0.3130859   0.30027249  0.58526039  0.27144703\n",
      "  0.7684797   0.15058883  0.50537582  0.8898797   0.63479515  0.29452624\n",
      "  0.93326675  0.68074722  0.4082173   0.00390034  0.55380688  0.79312782\n",
      "  0.69432483  0.65932335  0.16560557  0.10596857  0.33449932  0.4616263\n",
      "  0.85194317  0.36610575  0.80438785  0.18955674  0.84313768  0.36134556\n",
      "  0.84682747  0.54266355  0.42064723  0.72389733  0.86650687  0.17969603\n",
      "  0.17550061  0.46003963  0.91128903  0.74745197  0.26739453  0.40008382\n",
      "  0.55156879  0.11772444  0.07423039  0.63721664  0.00114167  0.19325415\n",
      "  0.21183624  0.79971075  0.06569262  0.6762396   0.47722806  0.95244224\n",
      "  0.93424374  0.25351927  0.36023329  0.44453258]\n"
     ]
    }
   ],
   "source": [
    "# Crear un arreglo usando valores aleatorios entre 0 y 1\n",
    "\n",
    "x=np.random.random(100)\n",
    "print(x)"
   ]
  },
  {
   "cell_type": "code",
   "execution_count": 11,
   "metadata": {},
   "outputs": [
    {
     "name": "stdout",
     "output_type": "stream",
     "text": [
      "[[ 1  2  3  4]\n",
      " [ 5  6  7  8]\n",
      " [ 9 10 11 12]]\n",
      "\n",
      "x[0,3]:  4\n",
      "\n",
      "x[:,0]:  [1 5 9]\n",
      "\n",
      "x[0,:]:  [1 2 3 4]\n"
     ]
    }
   ],
   "source": [
    "# Extraer valores de un arreglo Numpy usando indices\n",
    "\n",
    "x= np.array([[1,2,3,4],[5,6,7,8],[9,10,11,12]])\n",
    "print(x)\n",
    "\n",
    "print('\\nx[0,3]: ', x[0,3])\n",
    "\n",
    "print('\\nx[:,0]: ', x[:,0])\n",
    "print('\\nx[0,:]: ', x[0,:])"
   ]
  },
  {
   "cell_type": "code",
   "execution_count": 12,
   "metadata": {},
   "outputs": [
    {
     "name": "stdout",
     "output_type": "stream",
     "text": [
      "[[False False False False]\n",
      " [False False  True  True]\n",
      " [ True  True  True  True]]\n"
     ]
    }
   ],
   "source": [
    "# Numpy permite crear máscaras fácilmente usando condiciones booleanas\n",
    "\n",
    "mask=x>6\n",
    "print(mask)"
   ]
  },
  {
   "cell_type": "code",
   "execution_count": 13,
   "metadata": {},
   "outputs": [
    {
     "name": "stdout",
     "output_type": "stream",
     "text": [
      "[ 7  8  9 10 11 12]\n"
     ]
    }
   ],
   "source": [
    "# Extraer los valores de x que satisfacen la condición booleana. Para ello usamos la máscara\n",
    "\n",
    "print(x[mask])"
   ]
  },
  {
   "cell_type": "markdown",
   "metadata": {},
   "source": [
    "**See Figure 2 for an illustration of boolean indexing on a 2D array.**<br />\n",
    "<img src=\"images/boolean_indexing.png\" width=\"400\">"
   ]
  },
  {
   "cell_type": "code",
   "execution_count": 14,
   "metadata": {},
   "outputs": [
    {
     "data": {
      "text/plain": [
       "array([15, 18, 21, 24])"
      ]
     },
     "execution_count": 14,
     "metadata": {},
     "output_type": "execute_result"
    }
   ],
   "source": [
    "# Sumar los valores de un arreglo 2D a lo largo del eje Y (columnas)\n",
    "\n",
    "np.sum(x, axis=0)"
   ]
  },
  {
   "cell_type": "code",
   "execution_count": 15,
   "metadata": {},
   "outputs": [
    {
     "data": {
      "text/plain": [
       "array([10, 26, 42])"
      ]
     },
     "execution_count": 15,
     "metadata": {},
     "output_type": "execute_result"
    }
   ],
   "source": [
    "# Sumar los valores de un arrego 2D a lo largo del eje X (filas)\n",
    "\n",
    "np.sum(x, axis=1)"
   ]
  },
  {
   "cell_type": "code",
   "execution_count": 17,
   "metadata": {},
   "outputs": [
    {
     "name": "stdout",
     "output_type": "stream",
     "text": [
      "[[ 1  5  9]\n",
      " [ 2  6 10]\n",
      " [ 3  7 11]\n",
      " [ 4  8 12]]\n"
     ]
    }
   ],
   "source": [
    "# Crear la transpuesta de la matriz x\n",
    "\n",
    "print(x.T)"
   ]
  },
  {
   "cell_type": "markdown",
   "metadata": {},
   "source": [
    "## Funciones matemáticas"
   ]
  },
  {
   "cell_type": "code",
   "execution_count": 140,
   "metadata": {},
   "outputs": [
    {
     "name": "stdout",
     "output_type": "stream",
     "text": [
      "[ 0.16852557  0.82759454  0.93759721  0.07421415  0.85399033  0.83944451\n",
      "  0.25900282  0.48627497  0.56235866  0.41246581  0.09896005  0.14704253\n",
      "  0.81548291  0.78049575  0.31792487  0.43920356  0.73220208  0.39944968\n",
      "  0.65861462  0.54794291  0.46803529  0.14599528  0.36812081  0.41239581\n",
      "  0.53538923  0.90910926  0.85707638  0.94846572  0.15874429  0.92798357\n",
      "  0.41309719  0.07004492  0.98632908  0.2025232   0.89298945  0.35516346\n",
      "  0.50338437  0.50102249  0.6962746   0.62248414  0.09299552  0.07330075\n",
      "  0.00775958  0.82813582  0.84053548  0.04052015  0.72023627  0.4663367\n",
      "  0.46895887  0.59586113  0.07944606  0.77911098  0.21965164  0.33617147\n",
      "  0.86488798  0.20143473  0.15293794  0.2427127   0.77599941  0.67177719\n",
      "  0.37889744  0.77107805  0.01198106  0.89370284  0.18645281  0.25157948\n",
      "  0.58602298  0.96914209  0.12029104  0.56623824  0.14085224  0.42975567\n",
      "  0.06112192  0.4212431   0.5146792   0.99622001  0.22183457  0.80181196\n",
      "  0.02091808  0.43428728  0.44167097  0.07997137  0.96178554  0.43259951\n",
      "  0.79709125  0.80405049  0.64294467  0.99089154  0.61952246  0.01549973\n",
      "  0.19786921  0.28543023  0.85447534  0.52607358  0.18984474  0.83159782\n",
      "  0.35973689  0.04538417  0.2483429   0.84734658]\n",
      "Mean:  0.487424255248\n",
      "StdDev:  0.30163404461\n"
     ]
    }
   ],
   "source": [
    "x=np.random.random(100)\n",
    "print(x)\n",
    "print('Mean: ', np.mean(x))\n",
    "print('StdDev: ', np.std(x))"
   ]
  },
  {
   "cell_type": "code",
   "execution_count": 141,
   "metadata": {},
   "outputs": [
    {
     "name": "stdout",
     "output_type": "stream",
     "text": [
      "[ 0.18652597  1.55256971  1.14283458 -1.35914885  1.21468996 -0.4615599\n",
      " -0.28772215 -0.43918754  3.51730497 -0.11726413 -0.53531477  0.92511971\n",
      " -1.13513868 -0.75701252  2.46231794 -0.67093379 -0.59329276  0.11307838\n",
      "  1.84918723 -0.35901512  1.1781521   0.93129658  0.39098745 -0.70786513\n",
      "  0.36882945  0.1228113  -1.20879409  1.05315516  0.33192098 -0.06635965\n",
      "  0.31379955  0.77870529  1.05223656 -2.48163903 -0.1372486   0.40161139\n",
      " -0.25653979  1.07119289  1.0913657   1.02538293 -1.02598548 -1.99115923\n",
      "  0.51534132  0.68832854  0.71679205  0.10138614 -1.36732822  0.55832126\n",
      " -1.20533372  0.37914936 -2.88310559 -0.7302587   0.16269835 -0.44063943\n",
      " -0.20150943 -0.1316026  -1.39300834  0.35909068 -0.78927575 -0.5462339\n",
      "  0.31067815 -1.16837954  0.10088436  0.08102672 -0.80075645 -0.20105449\n",
      " -0.49678653 -1.12840697  1.73212738  0.73188236 -1.70208828 -1.65167087\n",
      " -2.09354782  0.05051982  1.16470419  0.22498895 -0.15133103 -0.65246578\n",
      "  1.03371634  1.59368135 -0.84576994  0.19385223  0.7755046  -0.45523672\n",
      "  0.67494282 -0.5413638  -0.83436285  0.56779708  1.37709729 -0.00944807\n",
      " -0.2242331   0.05522205  1.44729972  0.59677088 -1.20775152  0.12660249\n",
      "  0.34900274 -0.66178261  1.47268292  0.46249467]\n",
      "Mean:  0.0257374932541\n",
      "StdDev:  1.03766447021\n"
     ]
    }
   ],
   "source": [
    "x=np.random.randn(100)\n",
    "print(x)\n",
    "print('Mean: ', np.mean(x))\n",
    "print('StdDev: ', np.std(x))"
   ]
  },
  {
   "cell_type": "code",
   "execution_count": 20,
   "metadata": {},
   "outputs": [
    {
     "name": "stdout",
     "output_type": "stream",
     "text": [
      "[0 1 2 3 4 5 6 7 8 9]\n"
     ]
    }
   ],
   "source": [
    "# Crear un arreglo de enteros que comience en 0 y termine en 10 (no incluído)\n",
    "\n",
    "x=np.arange(0,10)\n",
    "print(x)"
   ]
  },
  {
   "cell_type": "code",
   "execution_count": 26,
   "metadata": {},
   "outputs": [
    {
     "name": "stdout",
     "output_type": "stream",
     "text": [
      "[ 0.   0.5  1.   1.5  2.   2.5  3.   3.5  4.   4.5  5.   5.5  6.   6.5  7.\n",
      "  7.5  8.   8.5  9.   9.5]\n"
     ]
    }
   ],
   "source": [
    "# Crear un arreglo de punto flotante que comience en 0 y termine en 10, con paso de 0.5\n",
    "\n",
    "x=np.arange(0,10,0.5)\n",
    "print(x)"
   ]
  },
  {
   "cell_type": "code",
   "execution_count": 27,
   "metadata": {
    "scrolled": false
   },
   "outputs": [
    {
     "name": "stdout",
     "output_type": "stream",
     "text": [
      "[  0.00000000e+00   1.00000000e+00   1.22464680e-16  -1.00000000e+00\n",
      "  -2.44929360e-16   1.00000000e+00   3.67394040e-16  -1.00000000e+00\n",
      "  -4.89858720e-16   1.00000000e+00   6.12323400e-16  -1.00000000e+00\n",
      "  -7.34788079e-16   1.00000000e+00   8.57252759e-16  -1.00000000e+00\n",
      "  -9.79717439e-16   1.00000000e+00   1.10218212e-15  -1.00000000e+00]\n"
     ]
    }
   ],
   "source": [
    "# Usar funciones trigonométricas\n",
    "\n",
    "y=np.sin(x*np.pi)\n",
    "print(y)"
   ]
  },
  {
   "cell_type": "code",
   "execution_count": 28,
   "metadata": {},
   "outputs": [
    {
     "name": "stdout",
     "output_type": "stream",
     "text": [
      "[  0.     0.25   1.     2.25   4.     6.25   9.    12.25  16.    20.25  25.\n",
      "  30.25  36.    42.25  49.    56.25  64.    72.25  81.    90.25]\n"
     ]
    }
   ],
   "source": [
    "# Usar funciones como potencia\n",
    "\n",
    "y=np.power(x,2) # elevar cada elemento del arreglo x, a la segunda potencia\n",
    "print(y)"
   ]
  },
  {
   "cell_type": "code",
   "execution_count": 30,
   "metadata": {},
   "outputs": [
    {
     "name": "stdout",
     "output_type": "stream",
     "text": [
      "[ 0.          0.70710678  1.          1.22474487  1.41421356  1.58113883\n",
      "  1.73205081  1.87082869  2.          2.12132034  2.23606798  2.34520788\n",
      "  2.44948974  2.54950976  2.64575131  2.73861279  2.82842712  2.91547595\n",
      "  3.          3.082207  ]\n"
     ]
    }
   ],
   "source": [
    "# Usar funciones como raíz cuadrada\n",
    "\n",
    "y=np.sqrt(x) # raíz de a, del inglés \"square root\"\n",
    "print(y)"
   ]
  },
  {
   "cell_type": "markdown",
   "metadata": {},
   "source": [
    "Escribir *np.sqrt(x)* es mucho más breve que la alternativa de usar funciones nativas de Python: Calcular una a una las raíces cuadradas de cada elemento de *x*."
   ]
  },
  {
   "cell_type": "code",
   "execution_count": 32,
   "metadata": {},
   "outputs": [
    {
     "name": "stdout",
     "output_type": "stream",
     "text": [
      "\n",
      "Usando Python built-in:  [0.0, 0.70710678118654757, 1.0, 1.2247448713915889, 1.4142135623730951, 1.5811388300841898, 1.7320508075688772, 1.8708286933869707, 2.0, 2.1213203435596424, 2.2360679774997898, 2.3452078799117149, 2.4494897427831779, 2.5495097567963922, 2.6457513110645907, 2.7386127875258306, 2.8284271247461903, 2.9154759474226504, 3.0, 3.082207001484488]\n",
      "\n",
      "Usando Numpy:  [ 0.          0.70710678  1.          1.22474487  1.41421356  1.58113883\n",
      "  1.73205081  1.87082869  2.          2.12132034  2.23606798  2.34520788\n",
      "  2.44948974  2.54950976  2.64575131  2.73861279  2.82842712  2.91547595\n",
      "  3.          3.082207  ]\n"
     ]
    }
   ],
   "source": [
    "result = []\n",
    "for el in x:\n",
    "    result.append(el**0.5)\n",
    "\n",
    "print(\"\\nUsando Python built-in: \", result)\n",
    "print(\"\\nUsando Numpy: \", y)"
   ]
  },
  {
   "cell_type": "code",
   "execution_count": null,
   "metadata": {
    "collapsed": true
   },
   "outputs": [],
   "source": []
  }
 ],
 "metadata": {
  "kernelspec": {
   "display_name": "Python 3",
   "language": "python",
   "name": "python3"
  },
  "language_info": {
   "codemirror_mode": {
    "name": "ipython",
    "version": 3
   },
   "file_extension": ".py",
   "mimetype": "text/x-python",
   "name": "python",
   "nbconvert_exporter": "python",
   "pygments_lexer": "ipython3",
   "version": "3.6.3"
  }
 },
 "nbformat": 4,
 "nbformat_minor": 2
}
