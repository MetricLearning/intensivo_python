{
 "cells": [
  {
   "cell_type": "markdown",
   "metadata": {},
   "source": [
    "# Análisis exploratorio usando Pandas y Matplotlib\n",
    "\n",
    "**Autor:** Roberto Muñoz <br />\n",
    "**E-mail:** <rmunoz@metricarts.com>\n"
   ]
  },
  {
   "cell_type": "markdown",
   "metadata": {},
   "source": [
    "Para visualizar datos en Python debemos cargar algunas librerías. Las librerías más empleadas para analizar y visualizar datos son las siguientes,\n",
    "\n",
    "- **numpy**: Numpy es una librería de Python usada para cálculo numérico y científico. Abreviatura de Numerical Python.\n",
    "\n",
    "\n",
    "- **pandas**: Pandas es una librería de Python usada para el análisis de datos. Ofrece estructuras de datos flexibles y permite trabajar con ellos de forma muy eficiente.\n",
    "\n",
    "\n",
    "- **matplotlib**: Matplotlib es la librería más popular de Python para hacer visualizaciones y gráficos. Matplotlib posee gran flexibilidad para generar diferentes tipos de gráficos.\n",
    "\n",
    "\n",
    "- **seaborn**: Seaborn es una librería de visualización basada en matplotlib. La idea de Seaborn es que los científicos de datos dispongan de una interfaz para hacer gráficos estadísticos atractivos e explicativos."
   ]
  },
  {
   "cell_type": "code",
   "execution_count": null,
   "metadata": {
    "collapsed": true
   },
   "outputs": [],
   "source": [
    "import numpy as np\n",
    "import pandas as pd\n",
    "import matplotlib.pyplot as plt\n",
    "import seaborn as sns\n",
    "\n",
    "%matplotlib inline\n",
    "params = {'legend.fontsize': 'x-large',\n",
    "          'figure.figsize': (10, 7.5),\n",
    "         'axes.labelsize': 'x-large',\n",
    "         'axes.titlesize':'x-large',\n",
    "         'xtick.labelsize':'x-large',\n",
    "         'ytick.labelsize':'x-large'}\n",
    "plt.rcParams.update(params)"
   ]
  },
  {
   "cell_type": "markdown",
   "metadata": {},
   "source": [
    "## Lectura de datos\n",
    "\n",
    "Para este tutorial usaremos una base de datos de vuelos áreos publicada por el sitio web [Openflights](https://openflights.org/data.html). La base de datos contiene una tabla de los aeropuertos en el mundo (**`aeropuertos.csv`**), una tabla de las aerolíneas en el mundo (**`aerolineas.csv`**) y una tabla de las rutas de vuelos comerciales (**`rutas.csv`**).\n",
    "\n",
    "Más información en https://github.com/jpatokal/openflights"
   ]
  },
  {
   "cell_type": "code",
   "execution_count": null,
   "metadata": {
    "collapsed": true
   },
   "outputs": [],
   "source": [
    "aeropuertos_file='data/aeropuertos.csv'\n",
    "aerolineas_file='data/aerolineas.csv'\n",
    "rutas_file='data/rutas.csv'\n",
    "\n",
    "aeropuertos=pd.read_csv(aeropuertos_file)\n",
    "aerolineas=pd.read_csv(aerolineas_file)\n",
    "rutas=pd.read_csv(rutas_file)"
   ]
  },
  {
   "cell_type": "code",
   "execution_count": null,
   "metadata": {},
   "outputs": [],
   "source": [
    "aeropuertos.head()"
   ]
  },
  {
   "cell_type": "code",
   "execution_count": null,
   "metadata": {},
   "outputs": [],
   "source": [
    "aerolineas.head()"
   ]
  },
  {
   "cell_type": "code",
   "execution_count": null,
   "metadata": {},
   "outputs": [],
   "source": [
    "rutas.head()"
   ]
  },
  {
   "cell_type": "code",
   "execution_count": null,
   "metadata": {},
   "outputs": [],
   "source": [
    "rutas[rutas['Pais_origen'] == 'Argentina']"
   ]
  },
  {
   "cell_type": "markdown",
   "metadata": {},
   "source": [
    "## Visualización de datos\n",
    "\n",
    "### 1. Histograma de frecuencia absoluta\n",
    "\n",
    "Uno de los gráficos más usados para la visualización de datos es el **histograma**. Un histograma es una representación gráfica de una variable en forma de barras, donde la superficie de cada barra es proporcional a la frecuencia de los valores representados. Sirven para obtener una primera vista general de la distribución de la muestra de datos respecto a una característica.\n",
    "\n",
    "Supongamos que nos interesa contar el número de vuelos de acuerdo a la distancia recorrida en kilómetros. Para ello construimos un histograma de la Distancia de los vuelos."
   ]
  },
  {
   "cell_type": "code",
   "execution_count": null,
   "metadata": {},
   "outputs": [],
   "source": [
    "n, bins, patches = plt.hist(rutas['Distancia_km'], bins=20)\n",
    "plt.xlabel('Distancia recorrida (km)')\n",
    "plt.ylabel('Número de vuelos')\n",
    "plt.title('Histograma - Frecuencia absoluta')"
   ]
  },
  {
   "cell_type": "markdown",
   "metadata": {},
   "source": [
    "Es importante notar que los histogramas se contruyen usando variables cuantitativas, como es el caso de la variable **Distancia recorrida (km)**."
   ]
  },
  {
   "cell_type": "markdown",
   "metadata": {},
   "source": [
    "### 2. Histograma de frecuencia relativa"
   ]
  },
  {
   "cell_type": "code",
   "execution_count": null,
   "metadata": {},
   "outputs": [],
   "source": [
    "sns.distplot(rutas['Distancia_km'], bins=20)\n",
    "plt.xlabel('Distancia recorrida (km)')\n",
    "plt.ylabel('Número de vuelos')\n",
    "plt.title('Histograma - Frecuencia relativa')"
   ]
  },
  {
   "cell_type": "markdown",
   "metadata": {},
   "source": [
    "### 3. Gráfico de barras\n",
    "\n",
    "Otro gráfico ampliamente usado es el **diagrama de barras** o **gráfico de barras**. Es una representación gráfica de un conjunto de datos o valores, y está conformado por barras rectangulares de longitudes proporcionales a los valores representados.\n",
    "\n",
    "A diferencia de un histograma, el gráfico de barras se construye usando variables categóricas o cualitativas.\n",
    "\n",
    "Digamos que nos interesa separar los vuelos en cortos, intermedios y largos de acuerdo a la distancia recorrida. Para ello, creamos tres categorías y hacemos un gráfico de barras."
   ]
  },
  {
   "cell_type": "code",
   "execution_count": null,
   "metadata": {
    "collapsed": true
   },
   "outputs": [],
   "source": [
    "bins = [0, 2000, 10000, 1000000]\n",
    "group_names = ['Vuelo corto', 'Vuelo intermedio', 'Vuelo largo']\n",
    "rutas['Tipo_vuelo'] = pd.cut(rutas['Distancia_km'], bins, labels=group_names)"
   ]
  },
  {
   "cell_type": "code",
   "execution_count": null,
   "metadata": {},
   "outputs": [],
   "source": [
    "sns.countplot(x=\"Tipo_vuelo\", order=group_names, data=rutas)\n",
    "plt.xlabel('Tipo de vuelo')\n",
    "plt.ylabel('Número de vuelos')\n",
    "plt.title('Gráfico de barras')\n",
    "plt.xticks(size = 15, rotation=60)"
   ]
  },
  {
   "cell_type": "markdown",
   "metadata": {},
   "source": [
    "Digamos que nos interesa conocer el número de vuelos que parten desde algún país en Sudamérica. La mejor manera de visualizar el número de vuelos por país es usando un gráfico de barras."
   ]
  },
  {
   "cell_type": "code",
   "execution_count": null,
   "metadata": {
    "collapsed": true
   },
   "outputs": [],
   "source": [
    "paises_sudamerica=['Brazil','Colombia','Argentina','Peru','Venezuela','Chile','Ecuador','Bolivia','Paraguay','Uruguay','Guyana','Suriname','French Guiana']\n",
    "rutas_sudamerica=rutas[rutas['Pais_origen'].isin(paises_sudamerica)]\n",
    "rutas_sudamerica_pais=rutas_sudamerica.groupby('Pais_origen')['Linea_aerea'].agg('count').sort_values(ascending=False)"
   ]
  },
  {
   "cell_type": "code",
   "execution_count": null,
   "metadata": {},
   "outputs": [],
   "source": [
    "sns.countplot(x=\"Pais_origen\", order=rutas_sudamerica_pais.index.tolist(), data=rutas_sudamerica)\n",
    "plt.xlabel('País de origen')\n",
    "plt.ylabel('Número de vuelos')\n",
    "plt.title('Gráfico de barras')\n",
    "plt.xticks(size = 15, rotation=60)"
   ]
  },
  {
   "cell_type": "markdown",
   "metadata": {},
   "source": [
    "### 4. Gráfico de cajas\n",
    "\n",
    "Otro gráfico usado es el **diagrama de caja** o **gráfico de caja**. Es un gráfico que está basado en cuartiles y mediante el cual se visualiza la distribución de un conjunto de datos. Está compuesto por un rectángulo (caja) y dos brazos (bigotes).\n",
    "\n",
    "Digamos que nos interesa conocer cómo se distribuyen los vuelos en cada país de Sudamérica. Para ello usamos la variable *País de origen* como variable categórica y la variable *Distancia recorrida* para estudiar su distribución."
   ]
  },
  {
   "cell_type": "code",
   "execution_count": null,
   "metadata": {},
   "outputs": [],
   "source": [
    "sns.boxplot(x='Pais_origen', y='Distancia_km', order=rutas_sudamerica_pais.index.tolist(), data=rutas_sudamerica)\n",
    "plt.xlabel('País de origen')\n",
    "plt.ylabel('Distancia recorrida (km)')\n",
    "plt.title('Gráfico de cajas')\n",
    "plt.xticks(size = 15, rotation=60)"
   ]
  },
  {
   "cell_type": "markdown",
   "metadata": {},
   "source": [
    "### 4. Gráfico de puntos\n",
    "\n",
    "Otro gráfico usado es el **diagrama de dispersión** o **gráfico de puntos**. Es un gráfico que utiliza las coordenadas cartesianas para mostrar los valores de dos variables de un conjunto de datos.\n",
    "\n",
    "Cabe notar que un gráfico de puntos se construye usando variables cuantitativas.\n",
    "\n",
    "Supongamos que nos interesa saber si los vuelos que parten desde el hemisferio Norte son más largos que los vuelos que parten desde el hemisferio Sur. Para ello usamos la variable *Latitud País de origen* como variable dependiente y la variable *Distancia recorrida* como variable independiente."
   ]
  },
  {
   "cell_type": "code",
   "execution_count": null,
   "metadata": {
    "collapsed": true
   },
   "outputs": [],
   "source": [
    "rutas_coordenadas=rutas.merge(aeropuertos[['Id','Latitud','Longitud']], how='inner', left_on='Aeropuerto_origen_Id', right_on='Id')\n",
    "rutas_coordenadas=rutas_coordenadas.sample(10000)"
   ]
  },
  {
   "cell_type": "code",
   "execution_count": null,
   "metadata": {},
   "outputs": [],
   "source": [
    "rutas_coordenadas.plot.scatter(x='Latitud', y='Distancia_km', s=3);\n",
    "plt.xlim(-90,90)\n",
    "plt.xlabel('Latitud País de origen')\n",
    "plt.ylabel('Distancia recorrida (km)')\n",
    "plt.title('Gráfico de puntos - Vuelos')\n",
    "plt.xticks(size = 15, rotation=0);"
   ]
  },
  {
   "cell_type": "markdown",
   "metadata": {},
   "source": [
    "Digamos que nos interesa saber como están distribuidos los aeropuertos en el mundo. Para ello usamos las variables `Longitud` y `Latitud` de la tabla aeropuertos."
   ]
  },
  {
   "cell_type": "code",
   "execution_count": null,
   "metadata": {
    "scrolled": false
   },
   "outputs": [],
   "source": [
    "aeropuertos.plot.scatter(x='Longitud', y='Latitud', s=3);\n",
    "plt.xlim(-180,180)\n",
    "plt.ylim(-90,90)\n",
    "plt.xlabel('Longitud')\n",
    "plt.ylabel('Latitud')\n",
    "plt.title('Gráfico de puntos - Aeropuertos')\n",
    "plt.xticks(size = 15, rotation=0);"
   ]
  },
  {
   "cell_type": "markdown",
   "metadata": {},
   "source": [
    "## Gracias por su atención"
   ]
  },
  {
   "cell_type": "code",
   "execution_count": null,
   "metadata": {
    "collapsed": true
   },
   "outputs": [],
   "source": []
  },
  {
   "cell_type": "code",
   "execution_count": null,
   "metadata": {
    "collapsed": true
   },
   "outputs": [],
   "source": []
  },
  {
   "cell_type": "code",
   "execution_count": null,
   "metadata": {
    "collapsed": true
   },
   "outputs": [],
   "source": []
  },
  {
   "cell_type": "code",
   "execution_count": null,
   "metadata": {
    "collapsed": true
   },
   "outputs": [],
   "source": []
  },
  {
   "cell_type": "markdown",
   "metadata": {},
   "source": [
    "## Preparación de datasets"
   ]
  },
  {
   "cell_type": "code",
   "execution_count": null,
   "metadata": {
    "collapsed": true
   },
   "outputs": [],
   "source": [
    "aeropuertos_file='data/airports.dat'\n",
    "aeropuertos=pd.read_csv(aeropuertos_file, header=None)\n",
    "\n",
    "aeropuertos.head()"
   ]
  },
  {
   "cell_type": "code",
   "execution_count": null,
   "metadata": {
    "collapsed": true
   },
   "outputs": [],
   "source": [
    "columnas=['Id','Nombre','Ciudad','Pais','IATA','OACI','Latitud','Longitud','Altitud','Zona_horaria','Horario_verano','Zona_horaria_lugar','Tipo','Fuente']\n",
    "aeropuertos.columns = columnas\n",
    "aeropuertos = aeropuertos.replace(\"\\\\N\", value=np.nan)\n",
    "aeropuertos['Altitud']=np.round(aeropuertos['Altitud']*0.3048,1)\n",
    "aeropuertos[['Zona_horaria','Altitud']] = aeropuertos[['Zona_horaria','Altitud']].apply(pd.to_numeric)\n",
    "aeropuertos.head()"
   ]
  },
  {
   "cell_type": "code",
   "execution_count": null,
   "metadata": {
    "collapsed": true
   },
   "outputs": [],
   "source": [
    "aeropuertos.dtypes"
   ]
  },
  {
   "cell_type": "code",
   "execution_count": null,
   "metadata": {
    "collapsed": true
   },
   "outputs": [],
   "source": [
    "aeropuertos.to_csv('data/aeropuertos.csv', index=False)"
   ]
  },
  {
   "cell_type": "code",
   "execution_count": null,
   "metadata": {
    "collapsed": true
   },
   "outputs": [],
   "source": []
  },
  {
   "cell_type": "code",
   "execution_count": null,
   "metadata": {
    "collapsed": true
   },
   "outputs": [],
   "source": [
    "rutas_file='data/routes.dat'\n",
    "rutas=pd.read_csv(rutas_file, header=None)\n",
    "\n",
    "rutas.head()"
   ]
  },
  {
   "cell_type": "code",
   "execution_count": null,
   "metadata": {
    "collapsed": true
   },
   "outputs": [],
   "source": [
    "columnas=['Linea_aerea','Linea_aerea_Id','Aeropuerto_origen','Aeropuerto_origen_Id','Aeropuerto_destino','Aeropuerto_destino_Id','Vuelo_operado','Numero_paradas','Modelo_avion']\n",
    "rutas.columns = columnas\n",
    "rutas = rutas[(rutas[\"Linea_aerea_Id\"] != \"\\\\N\") & (rutas[\"Aeropuerto_origen_Id\"] != \"\\\\N\") & (rutas[\"Aeropuerto_destino_Id\"] != \"\\\\N\")]\n",
    "rutas[['Linea_aerea_Id','Aeropuerto_origen_Id','Aeropuerto_destino_Id']] = rutas[['Linea_aerea_Id','Aeropuerto_origen_Id','Aeropuerto_destino_Id']].apply(pd.to_numeric)\n",
    "rutas.head()"
   ]
  },
  {
   "cell_type": "code",
   "execution_count": null,
   "metadata": {
    "collapsed": true
   },
   "outputs": [],
   "source": [
    "rutas.dtypes"
   ]
  },
  {
   "cell_type": "code",
   "execution_count": null,
   "metadata": {
    "collapsed": true
   },
   "outputs": [],
   "source": [
    "def pais_aeropuerto(row, name):\n",
    "    result='Unknown'\n",
    "    try:\n",
    "        result = aeropuertos[aeropuertos[\"Id\"] == row[name]].iloc[0]\n",
    "        result = result['Pais']\n",
    "    except (ValueError, IndexError):\n",
    "        pass\n",
    "    return result"
   ]
  },
  {
   "cell_type": "code",
   "execution_count": null,
   "metadata": {
    "collapsed": true
   },
   "outputs": [],
   "source": [
    "rutas['Pais_origen']=rutas.apply(pais_aeropuerto, name='Aeropuerto_origen_Id', axis=1)\n",
    "rutas['Pais_destino']=rutas.apply(pais_aeropuerto, name='Aeropuerto_destino_Id', axis=1)"
   ]
  },
  {
   "cell_type": "code",
   "execution_count": null,
   "metadata": {
    "collapsed": true
   },
   "outputs": [],
   "source": [
    "import math\n",
    "\n",
    "def haversine(lon1, lat1, lon2, lat2):\n",
    "    # Convert coordinates to floats.\n",
    "    lon1, lat1, lon2, lat2 = [float(lon1), float(lat1), float(lon2), float(lat2)]\n",
    "    # Convert to radians from degrees.\n",
    "    lon1, lat1, lon2, lat2 = map(math.radians, [lon1, lat1, lon2, lat2])\n",
    "    # Compute distance.\n",
    "    dlon = lon2 - lon1 \n",
    "    dlat = lat2 - lat1 \n",
    "    a = math.sin(dlat/2)**2 + math.cos(lat1) * math.cos(lat2) * math.sin(dlon/2)**2\n",
    "    c = 2 * math.asin(math.sqrt(a)) \n",
    "    km = 6367 * c\n",
    "    return km\n",
    "\n",
    "def calcular_distancia(row):\n",
    "    dist = 0\n",
    "    try:\n",
    "        # Match source and destination to get coordinates.\n",
    "        source = aeropuertos[aeropuertos[\"Id\"] == row[\"Aeropuerto_origen_Id\"]].iloc[0]\n",
    "        dest = aeropuertos[aeropuertos[\"Id\"] == row[\"Aeropuerto_destino_Id\"]].iloc[0]\n",
    "        # Use coordinates to compute distance.\n",
    "        dist = haversine(dest[\"Longitud\"], dest[\"Latitud\"], source[\"Longitud\"], source[\"Latitud\"])\n",
    "    except (ValueError, IndexError):\n",
    "        pass\n",
    "    return dist"
   ]
  },
  {
   "cell_type": "code",
   "execution_count": null,
   "metadata": {
    "collapsed": true
   },
   "outputs": [],
   "source": [
    "rutas['Distancia_km'] = rutas.apply(calcular_distancia, axis=1)"
   ]
  },
  {
   "cell_type": "code",
   "execution_count": null,
   "metadata": {
    "collapsed": true
   },
   "outputs": [],
   "source": [
    "rutas.to_csv('data/rutas.csv', index=False)"
   ]
  },
  {
   "cell_type": "code",
   "execution_count": null,
   "metadata": {
    "collapsed": true
   },
   "outputs": [],
   "source": []
  },
  {
   "cell_type": "code",
   "execution_count": null,
   "metadata": {
    "collapsed": true
   },
   "outputs": [],
   "source": [
    "aerolineas_file='data/airlines.dat'\n",
    "aerolineas=pd.read_csv(aerolineas_file, header=None)\n",
    "\n",
    "aerolineas.head()"
   ]
  },
  {
   "cell_type": "code",
   "execution_count": null,
   "metadata": {
    "collapsed": true
   },
   "outputs": [],
   "source": [
    "columnas=['Linea_aerea_Id','Linea_aerea','Alias','IATA','OACI','Sigla_identificacion','Pais','Activa']\n",
    "aerolineas.columns = columnas\n",
    "aerolineas = aerolineas.replace(\"\\\\N\", value=np.nan)\n",
    "aerolineas['Linea_aerea_Id'] = aerolineas['Linea_aerea_Id'].apply(pd.to_numeric)\n",
    "aerolineas.head()"
   ]
  },
  {
   "cell_type": "code",
   "execution_count": null,
   "metadata": {
    "collapsed": true
   },
   "outputs": [],
   "source": [
    "aerolineas.dtypes"
   ]
  },
  {
   "cell_type": "code",
   "execution_count": null,
   "metadata": {
    "collapsed": true
   },
   "outputs": [],
   "source": [
    "aerolineas.to_csv('data/aerolineas.csv', index=False)"
   ]
  },
  {
   "cell_type": "code",
   "execution_count": null,
   "metadata": {
    "collapsed": true
   },
   "outputs": [],
   "source": []
  },
  {
   "cell_type": "markdown",
   "metadata": {},
   "source": [
    "## Gráficos extras"
   ]
  },
  {
   "cell_type": "code",
   "execution_count": null,
   "metadata": {
    "collapsed": true
   },
   "outputs": [],
   "source": [
    "rutas['Largo_km'].plot.hist(alpha=0.5, bins=20)"
   ]
  }
 ],
 "metadata": {
  "kernelspec": {
   "display_name": "Python 3",
   "language": "python",
   "name": "python3"
  },
  "language_info": {
   "codemirror_mode": {
    "name": "ipython",
    "version": 3
   },
   "file_extension": ".py",
   "mimetype": "text/x-python",
   "name": "python",
   "nbconvert_exporter": "python",
   "pygments_lexer": "ipython3",
   "version": "3.6.3"
  }
 },
 "nbformat": 4,
 "nbformat_minor": 2
}
