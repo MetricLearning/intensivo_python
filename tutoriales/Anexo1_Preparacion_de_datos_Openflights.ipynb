{
 "cells": [
  {
   "cell_type": "markdown",
   "metadata": {},
   "source": [
    "# Anexo 1. Preparación de dataset Openflights\n",
    "\n",
    "Preparación de dataset de vuelos áreos publicada por el sitio web [Openflights](https://openflights.org/data.html). La base de datos contiene una tabla de los aeropuertos en el mundo (**`aeropuertos.csv`**), una tabla de las aerolíneas en el mundo (**`aerolineas.csv`**) y una tabla de las rutas de vuelos comerciales (**`rutas.csv`**).\n",
    "\n",
    "Más información en https://github.com/jpatokal/openflights"
   ]
  },
  {
   "cell_type": "code",
   "execution_count": null,
   "metadata": {
    "collapsed": true
   },
   "outputs": [],
   "source": [
    "aeropuertos_file='data/airports.dat'\n",
    "aeropuertos=pd.read_csv(aeropuertos_file, header=None)\n",
    "\n",
    "aeropuertos.head()"
   ]
  },
  {
   "cell_type": "code",
   "execution_count": null,
   "metadata": {
    "collapsed": true
   },
   "outputs": [],
   "source": [
    "columnas=['Id','Nombre','Ciudad','Pais','IATA','OACI','Latitud','Longitud','Altitud','Zona_horaria','Horario_verano','Zona_horaria_lugar','Tipo','Fuente']\n",
    "aeropuertos.columns = columnas\n",
    "aeropuertos = aeropuertos.replace(\"\\\\N\", value=np.nan)\n",
    "aeropuertos['Altitud']=np.round(aeropuertos['Altitud']*0.3048,1)\n",
    "aeropuertos[['Zona_horaria','Altitud']] = aeropuertos[['Zona_horaria','Altitud']].apply(pd.to_numeric)\n",
    "aeropuertos.head()"
   ]
  },
  {
   "cell_type": "code",
   "execution_count": null,
   "metadata": {
    "collapsed": true
   },
   "outputs": [],
   "source": [
    "aeropuertos.dtypes"
   ]
  },
  {
   "cell_type": "code",
   "execution_count": null,
   "metadata": {
    "collapsed": true
   },
   "outputs": [],
   "source": [
    "aeropuertos.to_csv('data/aeropuertos.csv', index=False)"
   ]
  },
  {
   "cell_type": "code",
   "execution_count": null,
   "metadata": {
    "collapsed": true
   },
   "outputs": [],
   "source": []
  },
  {
   "cell_type": "code",
   "execution_count": null,
   "metadata": {
    "collapsed": true
   },
   "outputs": [],
   "source": [
    "rutas_file='data/routes.dat'\n",
    "rutas=pd.read_csv(rutas_file, header=None)\n",
    "\n",
    "rutas.head()"
   ]
  },
  {
   "cell_type": "code",
   "execution_count": null,
   "metadata": {
    "collapsed": true
   },
   "outputs": [],
   "source": [
    "columnas=['Linea_aerea','Linea_aerea_Id','Aeropuerto_origen','Aeropuerto_origen_Id','Aeropuerto_destino','Aeropuerto_destino_Id','Vuelo_operado','Numero_paradas','Modelo_avion']\n",
    "rutas.columns = columnas\n",
    "rutas = rutas[(rutas[\"Linea_aerea_Id\"] != \"\\\\N\") & (rutas[\"Aeropuerto_origen_Id\"] != \"\\\\N\") & (rutas[\"Aeropuerto_destino_Id\"] != \"\\\\N\")]\n",
    "rutas[['Linea_aerea_Id','Aeropuerto_origen_Id','Aeropuerto_destino_Id']] = rutas[['Linea_aerea_Id','Aeropuerto_origen_Id','Aeropuerto_destino_Id']].apply(pd.to_numeric)\n",
    "rutas.head()"
   ]
  },
  {
   "cell_type": "code",
   "execution_count": null,
   "metadata": {
    "collapsed": true
   },
   "outputs": [],
   "source": [
    "rutas.dtypes"
   ]
  },
  {
   "cell_type": "code",
   "execution_count": null,
   "metadata": {
    "collapsed": true
   },
   "outputs": [],
   "source": [
    "def pais_aeropuerto(row, name):\n",
    "    result='Unknown'\n",
    "    try:\n",
    "        result = aeropuertos[aeropuertos[\"Id\"] == row[name]].iloc[0]\n",
    "        result = result['Pais']\n",
    "    except (ValueError, IndexError):\n",
    "        pass\n",
    "    return result"
   ]
  },
  {
   "cell_type": "code",
   "execution_count": null,
   "metadata": {
    "collapsed": true
   },
   "outputs": [],
   "source": [
    "rutas['Pais_origen']=rutas.apply(pais_aeropuerto, name='Aeropuerto_origen_Id', axis=1)\n",
    "rutas['Pais_destino']=rutas.apply(pais_aeropuerto, name='Aeropuerto_destino_Id', axis=1)"
   ]
  },
  {
   "cell_type": "code",
   "execution_count": null,
   "metadata": {
    "collapsed": true
   },
   "outputs": [],
   "source": [
    "import math\n",
    "\n",
    "def haversine(lon1, lat1, lon2, lat2):\n",
    "    # Convert coordinates to floats.\n",
    "    lon1, lat1, lon2, lat2 = [float(lon1), float(lat1), float(lon2), float(lat2)]\n",
    "    # Convert to radians from degrees.\n",
    "    lon1, lat1, lon2, lat2 = map(math.radians, [lon1, lat1, lon2, lat2])\n",
    "    # Compute distance.\n",
    "    dlon = lon2 - lon1 \n",
    "    dlat = lat2 - lat1 \n",
    "    a = math.sin(dlat/2)**2 + math.cos(lat1) * math.cos(lat2) * math.sin(dlon/2)**2\n",
    "    c = 2 * math.asin(math.sqrt(a)) \n",
    "    km = 6367 * c\n",
    "    return km\n",
    "\n",
    "def calcular_distancia(row):\n",
    "    dist = 0\n",
    "    try:\n",
    "        # Match source and destination to get coordinates.\n",
    "        source = aeropuertos[aeropuertos[\"Id\"] == row[\"Aeropuerto_origen_Id\"]].iloc[0]\n",
    "        dest = aeropuertos[aeropuertos[\"Id\"] == row[\"Aeropuerto_destino_Id\"]].iloc[0]\n",
    "        # Use coordinates to compute distance.\n",
    "        dist = haversine(dest[\"Longitud\"], dest[\"Latitud\"], source[\"Longitud\"], source[\"Latitud\"])\n",
    "    except (ValueError, IndexError):\n",
    "        pass\n",
    "    return dist"
   ]
  },
  {
   "cell_type": "code",
   "execution_count": null,
   "metadata": {
    "collapsed": true
   },
   "outputs": [],
   "source": [
    "rutas['Distancia_km'] = rutas.apply(calcular_distancia, axis=1)"
   ]
  },
  {
   "cell_type": "code",
   "execution_count": null,
   "metadata": {
    "collapsed": true
   },
   "outputs": [],
   "source": [
    "rutas.to_csv('data/rutas.csv', index=False)"
   ]
  },
  {
   "cell_type": "code",
   "execution_count": null,
   "metadata": {
    "collapsed": true
   },
   "outputs": [],
   "source": []
  },
  {
   "cell_type": "code",
   "execution_count": null,
   "metadata": {
    "collapsed": true
   },
   "outputs": [],
   "source": [
    "aerolineas_file='data/airlines.dat'\n",
    "aerolineas=pd.read_csv(aerolineas_file, header=None)\n",
    "\n",
    "aerolineas.head()"
   ]
  },
  {
   "cell_type": "code",
   "execution_count": null,
   "metadata": {
    "collapsed": true
   },
   "outputs": [],
   "source": [
    "columnas=['Linea_aerea_Id','Linea_aerea','Alias','IATA','OACI','Sigla_identificacion','Pais','Activa']\n",
    "aerolineas.columns = columnas\n",
    "aerolineas = aerolineas.replace(\"\\\\N\", value=np.nan)\n",
    "aerolineas['Linea_aerea_Id'] = aerolineas['Linea_aerea_Id'].apply(pd.to_numeric)\n",
    "aerolineas.head()"
   ]
  },
  {
   "cell_type": "code",
   "execution_count": null,
   "metadata": {
    "collapsed": true
   },
   "outputs": [],
   "source": [
    "aerolineas.dtypes"
   ]
  },
  {
   "cell_type": "code",
   "execution_count": null,
   "metadata": {
    "collapsed": true
   },
   "outputs": [],
   "source": [
    "aerolineas.to_csv('data/aerolineas.csv', index=False)"
   ]
  },
  {
   "cell_type": "code",
   "execution_count": null,
   "metadata": {
    "collapsed": true
   },
   "outputs": [],
   "source": []
  }
 ],
 "metadata": {
  "kernelspec": {
   "display_name": "Python 3",
   "language": "python",
   "name": "python3"
  },
  "language_info": {
   "codemirror_mode": {
    "name": "ipython",
    "version": 3
   },
   "file_extension": ".py",
   "mimetype": "text/x-python",
   "name": "python",
   "nbconvert_exporter": "python",
   "pygments_lexer": "ipython3",
   "version": "3.6.3"
  }
 },
 "nbformat": 4,
 "nbformat_minor": 2
}
