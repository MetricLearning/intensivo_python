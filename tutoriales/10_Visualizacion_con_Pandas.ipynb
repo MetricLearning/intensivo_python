{
 "cells": [
  {
   "cell_type": "markdown",
   "metadata": {},
   "source": [
    "# Visualización con Pandas\n",
    "\n",
    "**Autor:** Roberto Muñoz <br />\n",
    "**E-mail:** <rmunoz@metricarts.com>\n",
    "\n",
    "[Pandas](http://pandas.pydata.org/) puede ser usado en conjunto a los paquetes de matplotlib y seaborn para generar visualizaciones de gran calidad y con poco esfuerzo."
   ]
  },
  {
   "cell_type": "code",
   "execution_count": null,
   "metadata": {},
   "outputs": [],
   "source": [
    "import numpy as np\n",
    "import pandas as pd\n",
    "import matplotlib.pyplot as plt\n",
    "import seaborn as sns\n",
    "\n",
    "%matplotlib inline\n",
    "params = {'legend.fontsize': 'x-large',\n",
    "          'figure.figsize': (15, 10),\n",
    "         'axes.labelsize': 'x-large',\n",
    "         'axes.titlesize':'x-large',\n",
    "         'xtick.labelsize':'x-large',\n",
    "         'ytick.labelsize':'x-large',\n",
    "         'axes.titlepad': 20,\n",
    "         'axes.titlesize': 24,\n",
    "         'axes.labelpad': 20,\n",
    "         'axes.labelsize': 20,\n",
    "         'lines.linewidth': 3,\n",
    "         'lines.markersize': 10,\n",
    "         'xtick.labelsize': 16,\n",
    "         'ytick.labelsize': 16}\n",
    "plt.rcParams.update(params)\n",
    "sns.color_palette(\"bright\")\n",
    "\n",
    "pd.set_option('display.max_rows', 500)"
   ]
  },
  {
   "cell_type": "markdown",
   "metadata": {},
   "source": [
    "## Fondecyt Postdoctorado"
   ]
  },
  {
   "cell_type": "code",
   "execution_count": null,
   "metadata": {
    "scrolled": true
   },
   "outputs": [],
   "source": [
    "fondecyt = pd.read_csv('data/tabular/fondecyt postdoc 2007-2017.csv')\n",
    "fondecyt.head()"
   ]
  },
  {
   "cell_type": "code",
   "execution_count": null,
   "metadata": {},
   "outputs": [],
   "source": [
    "fondecyt=fondecyt.rename(columns = {'año':'Año', 'n_concursados':'Concursados', 'n_aprobados':'Aprobados', \n",
    "                                   'monto_solicitado':'Recursos solicitados', 'monto_aprobado':'Recursos aprobados'})\n",
    "fondecyt['Tasa de aprobación']=np.round(fondecyt['Aprobados']/fondecyt['Concursados']*100,decimals=1)\n",
    "fondecyt_postdoc=fondecyt.copy()\n",
    "fondecyt.head()"
   ]
  },
  {
   "cell_type": "code",
   "execution_count": null,
   "metadata": {},
   "outputs": [],
   "source": [
    "fig, ax = plt.subplots(figsize=(15, 10))\n",
    "ax2 = ax.twinx()\n",
    "\n",
    "fondecyt.plot(kind='line', x='Año', y='Concursados', marker='o', markersize=10, ax=ax, label='Postdoc Concursados')\n",
    "fondecyt.plot(kind='line', x='Año', y='Aprobados', marker='o', markersize=10, ax=ax, label='Postdoc Aprobados')\n",
    "ax.set_xlim([2006.5,2017.5])\n",
    "ax.set_ylim([0,1300])\n",
    "ax.yaxis.set_ticks(np.arange(0, 1400, 100))\n",
    "ax.legend(loc=2)\n",
    "\n",
    "fondecyt.plot(kind='line', x='Año', y='Tasa de aprobación', color='red', grid=True, ax=ax2)\n",
    "ax2.set_ylim([0,100])\n",
    "ax2.yaxis.set_ticks(np.arange(0,110,10))\n",
    "ax2.set_xlim([2006.5,2017.5])\n",
    "ax2.xaxis.set_ticks(np.arange(2007, 2018, 1))\n",
    "ax2.grid(linestyle='--')\n",
    "ax2.legend(loc=1)\n",
    "\n",
    "ax.set_title('Estadística Proyectos Fondecyt de Postdoctorado')\n",
    "ax.set_ylabel('Número de proyectos / año')\n",
    "ax2.set_ylabel('Tasa (%)')\n",
    "\n",
    "fig.savefig('figures/estadistica_proyectos_fondecyt_postdoc.pdf')\n",
    "fig.savefig('figures/estadistica_proyectos_fondecyt_postdoc.png')"
   ]
  },
  {
   "cell_type": "markdown",
   "metadata": {},
   "source": [
    "## Fondecyt Iniciación"
   ]
  },
  {
   "cell_type": "code",
   "execution_count": null,
   "metadata": {},
   "outputs": [],
   "source": [
    "fondecyt = pd.read_csv('data/tabular/fondecyt iniciacion 2007-2017.csv')\n",
    "fondecyt.head()"
   ]
  },
  {
   "cell_type": "code",
   "execution_count": null,
   "metadata": {},
   "outputs": [],
   "source": [
    "fondecyt=fondecyt.rename(columns = {'año':'Año', 'n_concursados':'Concursados', 'n_aprobados':'Aprobados', \n",
    "                                   'monto_solicitado':'Recursos solicitados', 'monto_aprobado':'Recursos aprobados'})\n",
    "fondecyt['Tasa de aprobación']=np.round(fondecyt['Aprobados']/fondecyt['Concursados']*100,decimals=1)\n",
    "fondecyt_iniciacion=fondecyt.copy()\n",
    "fondecyt.head()"
   ]
  },
  {
   "cell_type": "code",
   "execution_count": null,
   "metadata": {},
   "outputs": [],
   "source": [
    "fig, ax = plt.subplots(figsize=(15, 10))\n",
    "ax2 = ax.twinx()\n",
    "\n",
    "fondecyt.plot(kind='line', x='Año', y='Concursados', marker='o', markersize=10, ax=ax, label='Proyectos Concursados')\n",
    "fondecyt.plot(kind='line', x='Año', y='Aprobados', marker='o', markersize=10, ax=ax, label='Proyectos Aprobados')\n",
    "ax.set_xlim([2006.5,2017.5])\n",
    "ax.set_ylim([0,1300])\n",
    "ax.yaxis.set_ticks(np.arange(0, 1400, 100))\n",
    "ax.legend(loc=2)\n",
    "\n",
    "fondecyt.plot(kind='line', x='Año', y='Tasa de aprobación', color='red', grid=False, ax=ax2)\n",
    "ax2.set_ylim([0,100])\n",
    "ax2.yaxis.set_ticks(np.arange(0,110,10))\n",
    "ax2.set_xlim([2006.5,2017.5])\n",
    "ax2.xaxis.set_ticks(np.arange(2007, 2018, 1))\n",
    "ax2.grid(linestyle='--')\n",
    "ax2.legend(loc=1)\n",
    "\n",
    "ax.set_title('Estadística Proyectos Fondecyt de Iniciación')\n",
    "ax.set_ylabel('Número de proyectos / año')\n",
    "ax2.set_ylabel('Tasa (%)')\n",
    "\n",
    "fig.savefig('figures/estadistica_proyectos_fondecyt_iniciacion.pdf')\n",
    "fig.savefig('figures/estadistica_proyectos_fondecyt_iniciacion.png')"
   ]
  },
  {
   "cell_type": "code",
   "execution_count": null,
   "metadata": {
    "collapsed": true
   },
   "outputs": [],
   "source": []
  },
  {
   "cell_type": "code",
   "execution_count": null,
   "metadata": {
    "collapsed": true
   },
   "outputs": [],
   "source": []
  }
 ],
 "metadata": {
  "kernelspec": {
   "display_name": "Python 3",
   "language": "python",
   "name": "python3"
  },
  "language_info": {
   "codemirror_mode": {
    "name": "ipython",
    "version": 3
   },
   "file_extension": ".py",
   "mimetype": "text/x-python",
   "name": "python",
   "nbconvert_exporter": "python",
   "pygments_lexer": "ipython3",
   "version": "3.6.3"
  }
 },
 "nbformat": 4,
 "nbformat_minor": 2
}
