{
 "cells": [
  {
   "cell_type": "markdown",
   "metadata": {},
   "source": [
    "# Introducción a Matplotlib\n",
    "\n",
    "**Autor:** Roberto Muñoz <br />\n",
    "**E-mail:** <rmunoz@metricarts.com>\n",
    "\n",
    "[Matplotlib](http://matplotlib.org/) es el módulo de dibujo de gráficas 2D y 3D que vamos a utilizar aunque no es el único existente. Matplotlib tiene multitud de librerías de las cuales nosotros, por semejanza a Matlab, utilizaremos pyplot.\n",
    "\n",
    "En el sitio web http://matplotlib.org/ se pueden encontrar multitud de programas y ejemplos de como hacer dibujos con Matplotlib."
   ]
  },
  {
   "cell_type": "markdown",
   "metadata": {},
   "source": [
    "## Cómo importar el paquete Matplotlib\n",
    "\n",
    "Partimos importando el paquete matplotlib usando la función import. En este curso usaremos matplotlib.pyplot, la cual es una colección de funciones tipo comandos que permiten que matplotlib funcione de manera similar a como se hacen gráficos en MATLAB.\n",
    "\n",
    "En este caso usaremos el alias plt para referirnos de manera más abreviada a matplot.pyplot"
   ]
  },
  {
   "cell_type": "code",
   "execution_count": null,
   "metadata": {
    "collapsed": true
   },
   "outputs": [],
   "source": [
    "import numpy as np\n",
    "import matplotlib.pyplot as plt"
   ]
  },
  {
   "cell_type": "markdown",
   "metadata": {},
   "source": [
    "Partamos haciendo un gráfico sencillo. Generemos una variable x que contenga 100 número de punto flotante entre los valores 0 y 2."
   ]
  },
  {
   "cell_type": "markdown",
   "metadata": {},
   "source": [
    "## Crear gráficos de líneas"
   ]
  },
  {
   "cell_type": "code",
   "execution_count": null,
   "metadata": {},
   "outputs": [],
   "source": [
    "x = np.linspace(0, 2, 100)\n",
    "print(x)"
   ]
  },
  {
   "cell_type": "code",
   "execution_count": null,
   "metadata": {},
   "outputs": [],
   "source": [
    "# Go ahead and explicitly create a figure and an axes\n",
    "fig, ax = plt.subplots(1, 1)\n",
    "\n",
    "# Plot our x variable on the x-axis and x^2 on the y-axis\n",
    "ax.plot(x, x**2)"
   ]
  },
  {
   "cell_type": "markdown",
   "metadata": {},
   "source": [
    "Como pueden notar, el gráfico fue creado y almacenado como un objeto del tipo Line2D. Para poder visualizar el gráfico debemos ejecutar el siguiente comando."
   ]
  },
  {
   "cell_type": "code",
   "execution_count": null,
   "metadata": {},
   "outputs": [],
   "source": [
    "plt.show()"
   ]
  },
  {
   "cell_type": "markdown",
   "metadata": {},
   "source": [
    "Para graficar directamente en el notebook y evitar tener que llarma plot.show() cada vez, ejecutamos la siguiente línea."
   ]
  },
  {
   "cell_type": "code",
   "execution_count": null,
   "metadata": {},
   "outputs": [],
   "source": [
    "%matplotlib inline# Add some labels to the plot# Add some labels to the plot"
   ]
  },
  {
   "cell_type": "code",
   "execution_count": null,
   "metadata": {},
   "outputs": [],
   "source": [
    "ax.set_xlabel('x')\n",
    "ax.set_ylabel('f(x)')\n",
    "\n",
    "# Needed to reuse and see the updated plot while using inline\n",
    "display(fig)"
   ]
  },
  {
   "cell_type": "code",
   "execution_count": null,
   "metadata": {
    "slideshow": {
     "slide_type": "subslide"
    }
   },
   "outputs": [],
   "source": [
    "# Let's add a title with a bit of latex syntax\n",
    "ax.set_title('$y = x^2$', fontdict={'size':22})\n",
    "\n",
    "display(fig)"
   ]
  },
  {
   "cell_type": "markdown",
   "metadata": {},
   "source": [
    "## Hacer varios gráficos en la misma figura"
   ]
  },
  {
   "cell_type": "code",
   "execution_count": null,
   "metadata": {
    "scrolled": false,
    "slideshow": {
     "slide_type": "subslide"
    }
   },
   "outputs": [],
   "source": [
    "fig, ax = plt.subplots(1, 1)\n",
    "\n",
    "# Plot a set of different polynomials.\n",
    "# The label argument is used when generating a legend.\n",
    "ax.plot(x, x, label='$x$')\n",
    "ax.plot(x, x * x, label='$x^2$')\n",
    "ax.plot(x, x**3, label='$x^3$')\n",
    "\n",
    "# Add labels and title\n",
    "ax.set_xlabel('x')\n",
    "ax.set_ylabel('f(x)')\n",
    "ax.set_title('Polynomials')\n",
    "\n",
    "# Add gridlines\n",
    "ax.grid(True)\n",
    "\n",
    "# Add a legend to the upper left corner of the plot\n",
    "ax.legend(loc='upper left')"
   ]
  },
  {
   "cell_type": "markdown",
   "metadata": {},
   "source": [
    "## También es posible cambiar el tipo de línea"
   ]
  },
  {
   "cell_type": "code",
   "execution_count": null,
   "metadata": {},
   "outputs": [],
   "source": [
    "fig, ax = plt.subplots(1, 1)\n",
    "\n",
    "# Plot a set of different polynomials.\n",
    "# The label argument is used when generating a legend.\n",
    "ax.plot(x, x, '-', label='$x$')\n",
    "ax.plot(x, x * x, '--', label='$x^2$')\n",
    "ax.plot(x, x**3, '.', label='$x^3$')\n",
    "\n",
    "# Add labels and title\n",
    "ax.set_xlabel('x')\n",
    "ax.set_ylabel('f(x)')\n",
    "ax.set_title('Polynomials')\n",
    "\n",
    "# Add gridlines\n",
    "ax.grid(True)\n",
    "\n",
    "# Add a legend to the upper left corner of the plot\n",
    "ax.legend(loc='upper left')"
   ]
  },
  {
   "cell_type": "markdown",
   "metadata": {},
   "source": [
    "# Ejercicio 1\n",
    "\n",
    "Realice los siguientes ejercicios. En caso de tener dudas, puede apoyarse con sus compañeros, preguntarle al profesor y hacer búsquedas en internet.\n"
   ]
  },
  {
   "cell_type": "markdown",
   "metadata": {
    "collapsed": true
   },
   "source": [
    "1. Defina una arreglo 1D llamado x que vaya entre los valores 0 y 2*np.pi. Use al menos 100 puntos intermedios entre este rango de valores.\n",
    "2. Use la variable x antes definida para generar una figura con los siguientes 3 gráficos. Para el primer gráfico use la función np.sin(x), para el segundo la función np.exp() y para el tercero la función np.sqrt(). Use un color distinto para cada gráfico.\n",
    "3. Agregue etiquetas a los ejes X e Y, y también un título al gráfico"
   ]
  },
  {
   "cell_type": "code",
   "execution_count": null,
   "metadata": {
    "collapsed": true
   },
   "outputs": [],
   "source": []
  },
  {
   "cell_type": "markdown",
   "metadata": {},
   "source": [
    "## Ejercicio 2\n",
    "\n",
    "A continuación, están definidos dos arreglos que contienen información de los ocho planetas del Sistema Solar, desde Mercurio, hasta Neptuno, además de incluir información de Plutón (ahora considerado planetoide en vez de planeta).\n",
    "\n",
    "La variable *p* contiene el periodo de cada planeta en años, mientras que la variable *a* contiene el tamaño de la órbita en unidades astronómicas. Con estos datos, usted construirá un gráfico en dos dimensiones, como los de los ejemplos superiores, con los que comprobará experimentalmente la 3era ley de Kepler, cuya forma matemática dice $p = a^k$, con $k$ una constante (no necesariamente entera) que usted debe determinar tras ensayo y error.\n",
    "\n",
    "Para ello, grafique los arreglos entregados, junto con una curva de la forma $y=x^k$ para distinto valores de $k$, y vea cuál es la que más se acerca. ¿Cuál es el valor de $k$ que usted obtiene?"
   ]
  },
  {
   "cell_type": "code",
   "execution_count": null,
   "metadata": {
    "collapsed": true
   },
   "outputs": [],
   "source": [
    "# Mediciones del periodo y semieje mayor de los planetas del Sistema Solar\n",
    "\n",
    "p = np.array([0.214,0.615,1,1.88,11.9,29.4,83.7,163.7,247.9])\n",
    "a = np.array([0.387,0.723,1,1.52,5.2,9.58,19.2,30.05,39.48])"
   ]
  },
  {
   "cell_type": "code",
   "execution_count": null,
   "metadata": {
    "collapsed": true
   },
   "outputs": [],
   "source": []
  },
  {
   "cell_type": "code",
   "execution_count": null,
   "metadata": {
    "collapsed": true
   },
   "outputs": [],
   "source": []
  },
  {
   "cell_type": "code",
   "execution_count": null,
   "metadata": {
    "collapsed": true
   },
   "outputs": [],
   "source": []
  }
 ],
 "metadata": {
  "kernelspec": {
   "display_name": "Python 3",
   "language": "python",
   "name": "python3"
  },
  "language_info": {
   "codemirror_mode": {
    "name": "ipython",
    "version": 3
   },
   "file_extension": ".py",
   "mimetype": "text/x-python",
   "name": "python",
   "nbconvert_exporter": "python",
   "pygments_lexer": "ipython3",
   "version": "3.6.3"
  }
 },
 "nbformat": 4,
 "nbformat_minor": 2
}
