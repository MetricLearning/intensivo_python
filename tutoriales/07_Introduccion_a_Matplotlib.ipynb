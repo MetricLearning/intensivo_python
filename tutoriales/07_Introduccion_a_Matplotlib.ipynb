{
 "cells": [
  {
   "cell_type": "markdown",
   "metadata": {},
   "source": [
    "# Introducción a Matplotlib\n",
    "\n",
    "**Autor:** Roberto Muñoz <br />\n",
    "**E-mail:** <rmunoz@metricarts.com>\n",
    "\n",
    "[Matplotlib](http://matplotlib.org/) es el módulo de dibujo de gráficas 2D y 3D que vamos a utilizar aunque no es el único existente. Matplotlib tiene multitud de librerías de las cuales nosotros, por semejanza a Matlab, utilizaremos pyplot.\n",
    "\n",
    "En el sitio web http://matplotlib.org/ se pueden encontrar multitud de programas y ejemplos de como hacer dibujos con Matplotlib."
   ]
  },
  {
   "cell_type": "markdown",
   "metadata": {},
   "source": [
    "¿Cómo verificar gráficamente si numpy está haciendo bien las cosas? Existe otro paquete de python que permite hacer visualización de datos, *matplotlib*. Estos dos paquetes permiten hacer maravillas. La siguiente línea importa el paquete matplotlib.pyplot (parte dedicada a graficar) con el alias *plt*, mientras que la segunda permite ver las figuras graficadas dentro de este mismo navegador, en vez de abrirlas en otra ventana."
   ]
  },
  {
   "cell_type": "code",
   "execution_count": 12,
   "metadata": {
    "collapsed": true
   },
   "outputs": [],
   "source": [
    "import matplotlib.pyplot as plt\n",
    "%matplotlib inline"
   ]
  },
  {
   "cell_type": "markdown",
   "metadata": {},
   "source": [
    "Para graficar en las dos dimensiones de un plano cartesiano, sólo necesitamos decirle a la función *plot* de matplotlib los valores de x e y que queremos graficar, muy intuitivo. Por supuesto, estos dos arreglos deben tener la misma dimensión, o sea, el mismo número de elementos. Una vez que el gráfico se genera, no se muestra automáticamente. Para eso, usamos la función *show* de matplotlib, como muestra el siguiente ejemplo. Como se imaginarán, todos los nombres de funciones están basados en palabras en inglés: plot significa \"graficar\", show significa \"mostrar\"."
   ]
  },
  {
   "cell_type": "code",
   "execution_count": 13,
   "metadata": {},
   "outputs": [
    {
     "data": {
      "image/png": "[encoded data removed]",
      "text/plain": [
       "<matplotlib.figure.Figure at 0x1083ffac8>"
      ]
     },
     "metadata": {},
     "output_type": "display_data"
    }
   ],
   "source": [
    "plt.plot(a,10*b, c=\"blue\") # en azul\n",
    "plt.plot(a,5*c, c=\"green\") # en verde\n",
    "plt.plot(a,d, c=\"red\") # en rojo\n",
    "plt.show()"
   ]
  },
  {
   "cell_type": "markdown",
   "metadata": {
    "collapsed": true
   },
   "source": [
    "## Ejercicio 1\n",
    "Genere un arreglo *x* con números desde el -5 hasta el 10 con separación de 0.2, y un arreglo *y* desde 0 a 15, con separación de 0.2, y grafique *x* vérsus *y*. ¿Qué espera obtener?"
   ]
  },
  {
   "cell_type": "code",
   "execution_count": null,
   "metadata": {
    "collapsed": true
   },
   "outputs": [],
   "source": [
    "# escriba el código acá\n"
   ]
  },
  {
   "cell_type": "markdown",
   "metadata": {},
   "source": [
    "## Ejercicio 2\n",
    "A continuación, están definidos dos arreglos que contienen información de los ocho planetas del Sistema Solar, desde Mercurio, hasta Neptuno, además de incluir información de Plutón (ahora considerado planetoide en vez de planeta). El primero, *p*, contiene el periodo de cada planeta en años, mientras que el segundo, *a*, contiene el tamaño de la órbita en unidades astronómicas. Con estos datos, usted construirá un gráfico en dos dimensiones, como los de los ejemplos superiores, con los que comprobará experimentalmente la 3era ley de Kepler, cuya forma matemática dice $p = a^k$, con $k$ una constante (no necesariamente entera) que ud. debe determinar tras ensayo y error. Para eso, grafique los arreglos entregados, junto con una curva de la forma $y=x^k$ para distinto valores de $k$, y vea cuál es la que más se acerca. ¿Cuál es el valor de $k$ que usted obtiene?"
   ]
  },
  {
   "cell_type": "code",
   "execution_count": null,
   "metadata": {
    "collapsed": true
   },
   "outputs": [],
   "source": [
    "p = np.array([0.214,0.615,1,1.88,11.9,29.4,83.7,163.7,247.9])\n",
    "a = np.array([0.387,0.723,1,1.52,5.2,9.58,19.2,30.05,39.48])\n",
    "# escriba acá el resto del código\n"
   ]
  },
  {
   "cell_type": "markdown",
   "metadata": {},
   "source": [
    "## Ejercicio propuesto 1\n",
    "En el caso de que ud. conozca ya la forma matemática de la 3era ley de Kepler, realice el gráfico de todas maneras, pero antes de la línea *plt.show()*, introduzca las líneas que se entregan acá abajo. ¿Qué hacen esas líneas? ¿Qué obtiene? ¿Por qué ocurre eso?"
   ]
  },
  {
   "cell_type": "code",
   "execution_count": null,
   "metadata": {
    "collapsed": true
   },
   "outputs": [],
   "source": [
    "# introduzca estas líneas en el código de la pregunta anterior\n",
    "plt.xscale('log')\n",
    "plt.yscale('log')\n"
   ]
  },
  {
   "cell_type": "code",
   "execution_count": null,
   "metadata": {
    "collapsed": true
   },
   "outputs": [],
   "source": [
    "¿Cómo verificar gráficamente si numpy está haciendo bien las cosas? Existe otro paquete de python que permite hacer visualización de datos, *matplotlib*. Estos dos paquetes permiten hacer maravillas. La siguiente línea importa el paquete matplotlib.pyplot (parte dedicada a graficar) con el alias *plt*, mientras que la segunda permite ver las figuras graficadas dentro de este mismo navegador, en vez de abrirlas en otra ventana.\n",
    "\n",
    "import matplotlib.pyplot as plt\n",
    "%matplotlib inline\n",
    "\n",
    "Para graficar en las dos dimensiones de un plano cartesiano, sólo necesitamos decirle a la función *plot* de matplotlib los valores de x e y que queremos graficar, muy intuitivo. Por supuesto, estos dos arreglos deben tener la misma dimensión, o sea, el mismo número de elementos. Una vez que el gráfico se genera, no se muestra automáticamente. Para eso, usamos la función *show* de matplotlib, como muestra el siguiente ejemplo. Como se imaginarán, todos los nombres de funciones están basados en palabras en inglés: plot significa \"graficar\", show significa \"mostrar\".\n",
    "\n",
    "plt.plot(a,10*b, c=\"blue\") # en azul\n",
    "plt.plot(a,5*c, c=\"green\") # en verde\n",
    "plt.plot(a,d, c=\"red\") # en rojo\n",
    "plt.show()\n",
    "\n",
    "## Ejercicio 1\n",
    "Genere un arreglo *x* con números desde el -5 hasta el 10 con separación de 0.2, y un arreglo *y* desde 0 a 15, con separación de 0.2, y grafique *x* vérsus *y*. ¿Qué espera obtener?\n",
    "\n",
    "# escriba el código acá\n",
    "\n",
    "\n",
    "## Ejercicio 2\n",
    "A continuación, están definidos dos arreglos que contienen información de los ocho planetas del Sistema Solar, desde Mercurio, hasta Neptuno, además de incluir información de Plutón (ahora considerado planetoide en vez de planeta). El primero, *p*, contiene el periodo de cada planeta en años, mientras que el segundo, *a*, contiene el tamaño de la órbita en unidades astronómicas. Con estos datos, usted construirá un gráfico en dos dimensiones, como los de los ejemplos superiores, con los que comprobará experimentalmente la 3era ley de Kepler, cuya forma matemática dice $p = a^k$, con $k$ una constante (no necesariamente entera) que ud. debe determinar tras ensayo y error. Para eso, grafique los arreglos entregados, junto con una curva de la forma $y=x^k$ para distinto valores de $k$, y vea cuál es la que más se acerca. ¿Cuál es el valor de $k$ que usted obtiene?\n",
    "\n",
    "p = np.array([0.214,0.615,1,1.88,11.9,29.4,83.7,163.7,247.9])\n",
    "a = np.array([0.387,0.723,1,1.52,5.2,9.58,19.2,30.05,39.48])\n",
    "# escriba acá el resto del código\n",
    "\n",
    "\n",
    "## Ejercicio propuesto 1\n",
    "En el caso de que ud. conozca ya la forma matemática de la 3era ley de Kepler, realice el gráfico de todas maneras, pero antes de la línea *plt.show()*, introduzca las líneas que se entregan acá abajo. ¿Qué hacen esas líneas? ¿Qué obtiene? ¿Por qué ocurre eso?\n",
    "\n",
    "# introduzca estas líneas en el código de la pregunta anterior\n",
    "plt.xscale('log')\n",
    "plt.yscale('log')\n"
   ]
  }
 ],
 "metadata": {
  "kernelspec": {
   "display_name": "Python 3",
   "language": "python",
   "name": "python3"
  },
  "language_info": {
   "codemirror_mode": {
    "name": "ipython",
    "version": 3
   },
   "file_extension": ".py",
   "mimetype": "text/x-python",
   "name": "python",
   "nbconvert_exporter": "python",
   "pygments_lexer": "ipython3",
   "version": "3.6.3"
  }
 },
 "nbformat": 4,
 "nbformat_minor": 2
}
