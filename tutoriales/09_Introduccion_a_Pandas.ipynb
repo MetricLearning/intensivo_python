{
 "cells": [
  {
   "cell_type": "markdown",
   "metadata": {},
   "source": [
    "# Introducción a Pandas\n",
    "\n",
    "**Autor:** Roberto Muñoz <br />\n",
    "**E-mail:** <rmunoz@metricarts.com> <br />\n",
    "**Github:** <https://github.com/rpmunoz> <br />\n",
    "\n",
    "[Pandas](http://pandas.pydata.org/) es un paquete de Python que proporciona estructuras de datos similares a los dataframes de R. Pandas depende de Numpy, la librería que añade un potente tipo matricial a Python. Los principales tipos de datos que pueden representarse con pandas son:\n",
    "\n",
    "- Datos tabulares con columnas de tipo heterogéneo con etiquetas en columnas y filas.\n",
    "- Series temporales.\n",
    "\n",
    "Pandas proporciona herramientas que permiten:\n",
    "\n",
    "- leer y escribir datos en diferentes formatos: CSV, Microsoft Excel, bases SQL y formato HDF5\n",
    "- seleccionar y filtrar de manera sencilla tablas de datos en función de posición, valor o etiquetas\n",
    "- fusionar y unir datos\n",
    "- transformar datos aplicando funciones tanto en global como por ventanas\n",
    "- manipulación de series temporales\n",
    "- hacer gráficas\n",
    "\n",
    "En pandas existen tres tipos básicos de objetos todos ellos basados a su vez en Numpy:\n",
    "\n",
    "- Series (listas, 1D),\n",
    "- DataFrame (tablas, 2D) y\n",
    "- Panels (tablas 3D)."
   ]
  },
  {
   "cell_type": "code",
   "execution_count": 1,
   "metadata": {},
   "outputs": [
    {
     "data": {
      "text/plain": [
       "'0.20.3'"
      ]
     },
     "execution_count": 1,
     "metadata": {},
     "output_type": "execute_result"
    }
   ],
   "source": [
    "import numpy as np\n",
    "import pandas as pd\n",
    "pd.__version__"
   ]
  },
  {
   "cell_type": "markdown",
   "metadata": {},
   "source": [
    "## 1.  Series\n",
    "\n",
    "A Pandas Series is a one-dimensional array of indexed data. It can be created from a list or array as follows:"
   ]
  },
  {
   "cell_type": "code",
   "execution_count": 2,
   "metadata": {},
   "outputs": [
    {
     "data": {
      "text/plain": [
       "0    0.25\n",
       "1    0.50\n",
       "2    0.75\n",
       "3    1.00\n",
       "dtype: float64"
      ]
     },
     "execution_count": 2,
     "metadata": {},
     "output_type": "execute_result"
    }
   ],
   "source": [
    "data = pd.Series([0.25, 0.5, 0.75, 1.0])\n",
    "data"
   ]
  },
  {
   "cell_type": "markdown",
   "metadata": {},
   "source": [
    "As we see in the output, the Series wraps both a sequence of values and a sequence of indices, which we can access with the values and index attributes. The values are simply a familiar NumPy array:"
   ]
  },
  {
   "cell_type": "code",
   "execution_count": 3,
   "metadata": {},
   "outputs": [
    {
     "data": {
      "text/plain": [
       "array([ 0.25,  0.5 ,  0.75,  1.  ])"
      ]
     },
     "execution_count": 3,
     "metadata": {},
     "output_type": "execute_result"
    }
   ],
   "source": [
    "data.values"
   ]
  },
  {
   "cell_type": "markdown",
   "metadata": {},
   "source": [
    "The index is an array-like object of type pd.Index, which we'll discuss in more detail momentarily."
   ]
  },
  {
   "cell_type": "code",
   "execution_count": 4,
   "metadata": {},
   "outputs": [
    {
     "data": {
      "text/plain": [
       "RangeIndex(start=0, stop=4, step=1)"
      ]
     },
     "execution_count": 4,
     "metadata": {},
     "output_type": "execute_result"
    }
   ],
   "source": [
    "data.index"
   ]
  },
  {
   "cell_type": "markdown",
   "metadata": {},
   "source": [
    "Like with a NumPy array, data can be accessed by the associated index via the familiar Python square-bracket notation:"
   ]
  },
  {
   "cell_type": "code",
   "execution_count": 5,
   "metadata": {},
   "outputs": [
    {
     "data": {
      "text/plain": [
       "0.5"
      ]
     },
     "execution_count": 5,
     "metadata": {},
     "output_type": "execute_result"
    }
   ],
   "source": [
    "data[1]"
   ]
  },
  {
   "cell_type": "markdown",
   "metadata": {},
   "source": [
    "### Series as generalized NumPy array"
   ]
  },
  {
   "cell_type": "markdown",
   "metadata": {},
   "source": [
    "From what we've seen so far, it may look like the Series object is basically interchangeable with a one-dimensional NumPy array. The essential difference is the presence of the index: while the Numpy Array has an implicitly defined integer index used to access the values, the Pandas Series has an explicitly defined index associated with the values."
   ]
  },
  {
   "cell_type": "code",
   "execution_count": 6,
   "metadata": {},
   "outputs": [
    {
     "data": {
      "text/plain": [
       "a    0.25\n",
       "b    0.50\n",
       "c    0.75\n",
       "d    1.00\n",
       "dtype: float64"
      ]
     },
     "execution_count": 6,
     "metadata": {},
     "output_type": "execute_result"
    }
   ],
   "source": [
    "data = pd.Series([0.25, 0.5, 0.75, 1.0],\n",
    "                 index=['a', 'b', 'c', 'd'])\n",
    "data"
   ]
  },
  {
   "cell_type": "markdown",
   "metadata": {},
   "source": [
    "And the item access works as expected:"
   ]
  },
  {
   "cell_type": "code",
   "execution_count": 7,
   "metadata": {},
   "outputs": [
    {
     "data": {
      "text/plain": [
       "0.5"
      ]
     },
     "execution_count": 7,
     "metadata": {},
     "output_type": "execute_result"
    }
   ],
   "source": [
    "data['b']"
   ]
  },
  {
   "cell_type": "markdown",
   "metadata": {},
   "source": [
    "### Series as specialized dictionary\n",
    "\n",
    "In this way, you can think of a Pandas Series a bit like a specialization of a Python dictionary. A dictionary is a structure that maps arbitrary keys to a set of arbitrary values, and a Series is a structure which maps typed keys to a set of typed values. This typing is important: just as the type-specific compiled code behind a NumPy array makes it more efficient than a Python list for certain operations, the type information of a Pandas Series makes it much more efficient than Python dictionaries for certain operations."
   ]
  },
  {
   "cell_type": "code",
   "execution_count": 8,
   "metadata": {},
   "outputs": [
    {
     "data": {
      "text/plain": [
       "Antofagasta                        631875\n",
       "Arica y Parinacota                 243149\n",
       "Bíobío                            2127902\n",
       "Magallanes y Antártica Chilena     165547\n",
       "Metropolitana de Santiago         7399042\n",
       "Valparaiso                        1842880\n",
       "dtype: int64"
      ]
     },
     "execution_count": 8,
     "metadata": {},
     "output_type": "execute_result"
    }
   ],
   "source": [
    "population_dict = {'Arica y Parinacota': 243149,\n",
    "                   'Antofagasta': 631875,\n",
    "                   'Metropolitana de Santiago': 7399042,\n",
    "                   'Valparaiso': 1842880,\n",
    "                   'Bíobío': 2127902,\n",
    "                   'Magallanes y Antártica Chilena': 165547}\n",
    "population = pd.Series(population_dict)\n",
    "population"
   ]
  },
  {
   "cell_type": "markdown",
   "metadata": {},
   "source": [
    "You can notice the indexes were sorted lexicographically. That's the default behaviour in Pandas"
   ]
  },
  {
   "cell_type": "code",
   "execution_count": 9,
   "metadata": {},
   "outputs": [
    {
     "data": {
      "text/plain": [
       "243149"
      ]
     },
     "execution_count": 9,
     "metadata": {},
     "output_type": "execute_result"
    }
   ],
   "source": [
    "population['Arica y Parinacota']"
   ]
  },
  {
   "cell_type": "markdown",
   "metadata": {},
   "source": [
    "Unlike a dictionary, though, the Series also supports array-style operations such as slicing:"
   ]
  },
  {
   "cell_type": "code",
   "execution_count": 10,
   "metadata": {},
   "outputs": [
    {
     "data": {
      "text/plain": [
       "Metropolitana de Santiago    7399042\n",
       "Valparaiso                   1842880\n",
       "dtype: int64"
      ]
     },
     "execution_count": 10,
     "metadata": {},
     "output_type": "execute_result"
    }
   ],
   "source": [
    "population['Metropolitana':'Valparaíso']"
   ]
  },
  {
   "cell_type": "markdown",
   "metadata": {},
   "source": [
    "## 2. DataFrame\n",
    "\n",
    "The next fundamental structure in Pandas is the DataFrame. Like the Series object discussed in the previous section, the DataFrame can be thought of either as a generalization of a NumPy array, or as a specialization of a Python dictionary. We'll now take a look at each of these perspectives."
   ]
  },
  {
   "cell_type": "markdown",
   "metadata": {},
   "source": [
    "### DataFrame as a generalized NumPy array\n",
    "\n",
    "If a Series is an analog of a one-dimensional array with flexible indices, a DataFrame is an analog of a two-dimensional array with both flexible row indices and flexible column names."
   ]
  },
  {
   "cell_type": "code",
   "execution_count": 11,
   "metadata": {},
   "outputs": [
    {
     "data": {
      "text/plain": [
       "Antofagasta                        126049.1\n",
       "Arica y Parinacota                  16873.3\n",
       "Bíobío                              37068.7\n",
       "Magallanes y Antártica Chilena    1382291.1\n",
       "Metropolitana de Santiago           15403.2\n",
       "Valparaiso                          16396.1\n",
       "dtype: float64"
      ]
     },
     "execution_count": 11,
     "metadata": {},
     "output_type": "execute_result"
    }
   ],
   "source": [
    "# Area in km^2\n",
    "area_dict = {'Arica y Parinacota': 16873.3,\n",
    "             'Antofagasta': 126049.1,\n",
    "             'Metropolitana de Santiago': 15403.2,\n",
    "             'Valparaiso': 16396.1,\n",
    "             'Bíobío': 37068.7,\n",
    "             'Magallanes y Antártica Chilena': 1382291.1}\n",
    "area = pd.Series(area_dict)\n",
    "area"
   ]
  },
  {
   "cell_type": "markdown",
   "metadata": {},
   "source": [
    "Now that we have this along with the population Series from before, we can use a dictionary to construct a single two-dimensional object containing this information:"
   ]
  },
  {
   "cell_type": "code",
   "execution_count": 12,
   "metadata": {},
   "outputs": [
    {
     "data": {
      "text/html": [
       "<div>\n",
       "<style>\n",
       "    .dataframe thead tr:only-child th {\n",
       "        text-align: right;\n",
       "    }\n",
       "\n",
       "    .dataframe thead th {\n",
       "        text-align: left;\n",
       "    }\n",
       "\n",
       "    .dataframe tbody tr th {\n",
       "        vertical-align: top;\n",
       "    }\n",
       "</style>\n",
       "<table border=\"1\" class=\"dataframe\">\n",
       "  <thead>\n",
       "    <tr style=\"text-align: right;\">\n",
       "      <th></th>\n",
       "      <th>area</th>\n",
       "      <th>population</th>\n",
       "    </tr>\n",
       "  </thead>\n",
       "  <tbody>\n",
       "    <tr>\n",
       "      <th>Antofagasta</th>\n",
       "      <td>126049.1</td>\n",
       "      <td>631875</td>\n",
       "    </tr>\n",
       "    <tr>\n",
       "      <th>Arica y Parinacota</th>\n",
       "      <td>16873.3</td>\n",
       "      <td>243149</td>\n",
       "    </tr>\n",
       "    <tr>\n",
       "      <th>Bíobío</th>\n",
       "      <td>37068.7</td>\n",
       "      <td>2127902</td>\n",
       "    </tr>\n",
       "    <tr>\n",
       "      <th>Magallanes y Antártica Chilena</th>\n",
       "      <td>1382291.1</td>\n",
       "      <td>165547</td>\n",
       "    </tr>\n",
       "    <tr>\n",
       "      <th>Metropolitana de Santiago</th>\n",
       "      <td>15403.2</td>\n",
       "      <td>7399042</td>\n",
       "    </tr>\n",
       "    <tr>\n",
       "      <th>Valparaiso</th>\n",
       "      <td>16396.1</td>\n",
       "      <td>1842880</td>\n",
       "    </tr>\n",
       "  </tbody>\n",
       "</table>\n",
       "</div>"
      ],
      "text/plain": [
       "                                     area  population\n",
       "Antofagasta                      126049.1      631875\n",
       "Arica y Parinacota                16873.3      243149\n",
       "Bíobío                            37068.7     2127902\n",
       "Magallanes y Antártica Chilena  1382291.1      165547\n",
       "Metropolitana de Santiago         15403.2     7399042\n",
       "Valparaiso                        16396.1     1842880"
      ]
     },
     "execution_count": 12,
     "metadata": {},
     "output_type": "execute_result"
    }
   ],
   "source": [
    "regions = pd.DataFrame({'population': population,\n",
    "                       'area': area})\n",
    "regions"
   ]
  },
  {
   "cell_type": "code",
   "execution_count": 13,
   "metadata": {},
   "outputs": [
    {
     "data": {
      "text/plain": [
       "Index(['Antofagasta', 'Arica y Parinacota', 'Bíobío',\n",
       "       'Magallanes y Antártica Chilena', 'Metropolitana de Santiago',\n",
       "       'Valparaiso'],\n",
       "      dtype='object')"
      ]
     },
     "execution_count": 13,
     "metadata": {},
     "output_type": "execute_result"
    }
   ],
   "source": [
    "regions.index"
   ]
  },
  {
   "cell_type": "code",
   "execution_count": 14,
   "metadata": {},
   "outputs": [
    {
     "data": {
      "text/plain": [
       "Index(['area', 'population'], dtype='object')"
      ]
     },
     "execution_count": 14,
     "metadata": {},
     "output_type": "execute_result"
    }
   ],
   "source": [
    "regions.columns"
   ]
  },
  {
   "cell_type": "markdown",
   "metadata": {},
   "source": [
    "### DataFrame as specialized dictionary\n",
    "\n",
    "Similarly, we can also think of a DataFrame as a specialization of a dictionary. Where a dictionary maps a key to a value, a DataFrame maps a column name to a Series of column data. For example, asking for the 'area' attribute returns the Series object containing the areas we saw earlier:"
   ]
  },
  {
   "cell_type": "code",
   "execution_count": 15,
   "metadata": {},
   "outputs": [
    {
     "data": {
      "text/plain": [
       "Antofagasta                        126049.1\n",
       "Arica y Parinacota                  16873.3\n",
       "Bíobío                              37068.7\n",
       "Magallanes y Antártica Chilena    1382291.1\n",
       "Metropolitana de Santiago           15403.2\n",
       "Valparaiso                          16396.1\n",
       "Name: area, dtype: float64"
      ]
     },
     "execution_count": 15,
     "metadata": {},
     "output_type": "execute_result"
    }
   ],
   "source": [
    "regions['area']"
   ]
  },
  {
   "cell_type": "markdown",
   "metadata": {},
   "source": [
    "### Constructing DataFrame objects\n",
    "A Pandas DataFrame can be constructed in a variety of ways. Here we'll give several examples."
   ]
  },
  {
   "cell_type": "markdown",
   "metadata": {},
   "source": [
    "### From a single Series object¶\n",
    "A DataFrame is a collection of Series objects, and a single-column DataFrame can be constructed from a single Series:"
   ]
  },
  {
   "cell_type": "code",
   "execution_count": 16,
   "metadata": {},
   "outputs": [
    {
     "data": {
      "text/html": [
       "<div>\n",
       "<style>\n",
       "    .dataframe thead tr:only-child th {\n",
       "        text-align: right;\n",
       "    }\n",
       "\n",
       "    .dataframe thead th {\n",
       "        text-align: left;\n",
       "    }\n",
       "\n",
       "    .dataframe tbody tr th {\n",
       "        vertical-align: top;\n",
       "    }\n",
       "</style>\n",
       "<table border=\"1\" class=\"dataframe\">\n",
       "  <thead>\n",
       "    <tr style=\"text-align: right;\">\n",
       "      <th></th>\n",
       "      <th>poblacion</th>\n",
       "    </tr>\n",
       "  </thead>\n",
       "  <tbody>\n",
       "    <tr>\n",
       "      <th>Antofagasta</th>\n",
       "      <td>631875</td>\n",
       "    </tr>\n",
       "    <tr>\n",
       "      <th>Arica y Parinacota</th>\n",
       "      <td>243149</td>\n",
       "    </tr>\n",
       "    <tr>\n",
       "      <th>Bíobío</th>\n",
       "      <td>2127902</td>\n",
       "    </tr>\n",
       "    <tr>\n",
       "      <th>Magallanes y Antártica Chilena</th>\n",
       "      <td>165547</td>\n",
       "    </tr>\n",
       "    <tr>\n",
       "      <th>Metropolitana de Santiago</th>\n",
       "      <td>7399042</td>\n",
       "    </tr>\n",
       "    <tr>\n",
       "      <th>Valparaiso</th>\n",
       "      <td>1842880</td>\n",
       "    </tr>\n",
       "  </tbody>\n",
       "</table>\n",
       "</div>"
      ],
      "text/plain": [
       "                                poblacion\n",
       "Antofagasta                        631875\n",
       "Arica y Parinacota                 243149\n",
       "Bíobío                            2127902\n",
       "Magallanes y Antártica Chilena     165547\n",
       "Metropolitana de Santiago         7399042\n",
       "Valparaiso                        1842880"
      ]
     },
     "execution_count": 16,
     "metadata": {},
     "output_type": "execute_result"
    }
   ],
   "source": [
    "pd.DataFrame(population, columns=['poblacion'])"
   ]
  },
  {
   "cell_type": "markdown",
   "metadata": {},
   "source": [
    "### From a dictionary of Series objects\n",
    "As we saw before, a DataFrame can be constructed from a dictionary of Series objects as well:"
   ]
  },
  {
   "cell_type": "code",
   "execution_count": 17,
   "metadata": {},
   "outputs": [
    {
     "data": {
      "text/html": [
       "<div>\n",
       "<style>\n",
       "    .dataframe thead tr:only-child th {\n",
       "        text-align: right;\n",
       "    }\n",
       "\n",
       "    .dataframe thead th {\n",
       "        text-align: left;\n",
       "    }\n",
       "\n",
       "    .dataframe tbody tr th {\n",
       "        vertical-align: top;\n",
       "    }\n",
       "</style>\n",
       "<table border=\"1\" class=\"dataframe\">\n",
       "  <thead>\n",
       "    <tr style=\"text-align: right;\">\n",
       "      <th></th>\n",
       "      <th>poblacion</th>\n",
       "      <th>area</th>\n",
       "    </tr>\n",
       "  </thead>\n",
       "  <tbody>\n",
       "    <tr>\n",
       "      <th>Antofagasta</th>\n",
       "      <td>631875</td>\n",
       "      <td>126049.1</td>\n",
       "    </tr>\n",
       "    <tr>\n",
       "      <th>Arica y Parinacota</th>\n",
       "      <td>243149</td>\n",
       "      <td>16873.3</td>\n",
       "    </tr>\n",
       "    <tr>\n",
       "      <th>Bíobío</th>\n",
       "      <td>2127902</td>\n",
       "      <td>37068.7</td>\n",
       "    </tr>\n",
       "    <tr>\n",
       "      <th>Magallanes y Antártica Chilena</th>\n",
       "      <td>165547</td>\n",
       "      <td>1382291.1</td>\n",
       "    </tr>\n",
       "    <tr>\n",
       "      <th>Metropolitana de Santiago</th>\n",
       "      <td>7399042</td>\n",
       "      <td>15403.2</td>\n",
       "    </tr>\n",
       "    <tr>\n",
       "      <th>Valparaiso</th>\n",
       "      <td>1842880</td>\n",
       "      <td>16396.1</td>\n",
       "    </tr>\n",
       "  </tbody>\n",
       "</table>\n",
       "</div>"
      ],
      "text/plain": [
       "                                poblacion       area\n",
       "Antofagasta                        631875   126049.1\n",
       "Arica y Parinacota                 243149    16873.3\n",
       "Bíobío                            2127902    37068.7\n",
       "Magallanes y Antártica Chilena     165547  1382291.1\n",
       "Metropolitana de Santiago         7399042    15403.2\n",
       "Valparaiso                        1842880    16396.1"
      ]
     },
     "execution_count": 17,
     "metadata": {},
     "output_type": "execute_result"
    }
   ],
   "source": [
    "pd.DataFrame({'poblacion': population,\n",
    "              'area': area}, columns=['poblacion', 'area'])"
   ]
  },
  {
   "cell_type": "markdown",
   "metadata": {
    "collapsed": true
   },
   "source": [
    "## 3. Reading a CSV file and doing common Pandas operations"
   ]
  },
  {
   "cell_type": "code",
   "execution_count": 18,
   "metadata": {
    "collapsed": true
   },
   "outputs": [],
   "source": [
    "regiones_file='data/chile_regiones.csv'\n",
    "provincias_file='data/chile_provincias.csv'\n",
    "comunas_file='data/chile_comunas.csv'\n",
    "\n",
    "regiones=pd.read_csv(regiones_file, header=0, sep=',')\n",
    "\n",
    "provincias=pd.read_csv(provincias_file, header=0, sep=',')\n",
    "comunas=pd.read_csv(comunas_file, header=0, sep=',')"
   ]
  },
  {
   "cell_type": "code",
   "execution_count": 19,
   "metadata": {},
   "outputs": [
    {
     "name": "stdout",
     "output_type": "stream",
     "text": [
      "regiones table:  ['RegionID', 'RegionNombre', 'RegionOrdinal']\n",
      "provincias table:  ['ProvinciaID', 'ProvinciaNombre', 'RegionID']\n",
      "comunas table:  ['ComunaID', 'ComunaNombre', 'ProvinciaID']\n"
     ]
    }
   ],
   "source": [
    "print('regiones table: ', regiones.columns.values.tolist())\n",
    "print('provincias table: ', provincias.columns.values.tolist())\n",
    "print('comunas table: ', comunas.columns.values.tolist())"
   ]
  },
  {
   "cell_type": "code",
   "execution_count": 20,
   "metadata": {},
   "outputs": [
    {
     "data": {
      "text/html": [
       "<div>\n",
       "<style>\n",
       "    .dataframe thead tr:only-child th {\n",
       "        text-align: right;\n",
       "    }\n",
       "\n",
       "    .dataframe thead th {\n",
       "        text-align: left;\n",
       "    }\n",
       "\n",
       "    .dataframe tbody tr th {\n",
       "        vertical-align: top;\n",
       "    }\n",
       "</style>\n",
       "<table border=\"1\" class=\"dataframe\">\n",
       "  <thead>\n",
       "    <tr style=\"text-align: right;\">\n",
       "      <th></th>\n",
       "      <th>RegionID</th>\n",
       "      <th>RegionNombre</th>\n",
       "      <th>RegionOrdinal</th>\n",
       "    </tr>\n",
       "  </thead>\n",
       "  <tbody>\n",
       "    <tr>\n",
       "      <th>0</th>\n",
       "      <td>1</td>\n",
       "      <td>'Arica y Parinacota'</td>\n",
       "      <td>'XV'</td>\n",
       "    </tr>\n",
       "    <tr>\n",
       "      <th>1</th>\n",
       "      <td>2</td>\n",
       "      <td>'Tarapacá'</td>\n",
       "      <td>'I'</td>\n",
       "    </tr>\n",
       "    <tr>\n",
       "      <th>2</th>\n",
       "      <td>3</td>\n",
       "      <td>'Antofagasta'</td>\n",
       "      <td>'II'</td>\n",
       "    </tr>\n",
       "    <tr>\n",
       "      <th>3</th>\n",
       "      <td>4</td>\n",
       "      <td>'Atacama'</td>\n",
       "      <td>'III'</td>\n",
       "    </tr>\n",
       "    <tr>\n",
       "      <th>4</th>\n",
       "      <td>5</td>\n",
       "      <td>'Coquimbo'</td>\n",
       "      <td>'IV'</td>\n",
       "    </tr>\n",
       "  </tbody>\n",
       "</table>\n",
       "</div>"
      ],
      "text/plain": [
       "   RegionID          RegionNombre RegionOrdinal\n",
       "0         1  'Arica y Parinacota'          'XV'\n",
       "1         2            'Tarapacá'           'I'\n",
       "2         3         'Antofagasta'          'II'\n",
       "3         4             'Atacama'         'III'\n",
       "4         5            'Coquimbo'          'IV'"
      ]
     },
     "execution_count": 20,
     "metadata": {},
     "output_type": "execute_result"
    }
   ],
   "source": [
    "regiones.head()"
   ]
  },
  {
   "cell_type": "code",
   "execution_count": 21,
   "metadata": {},
   "outputs": [
    {
     "data": {
      "text/html": [
       "<div>\n",
       "<style>\n",
       "    .dataframe thead tr:only-child th {\n",
       "        text-align: right;\n",
       "    }\n",
       "\n",
       "    .dataframe thead th {\n",
       "        text-align: left;\n",
       "    }\n",
       "\n",
       "    .dataframe tbody tr th {\n",
       "        vertical-align: top;\n",
       "    }\n",
       "</style>\n",
       "<table border=\"1\" class=\"dataframe\">\n",
       "  <thead>\n",
       "    <tr style=\"text-align: right;\">\n",
       "      <th></th>\n",
       "      <th>ProvinciaID</th>\n",
       "      <th>ProvinciaNombre</th>\n",
       "      <th>RegionID</th>\n",
       "    </tr>\n",
       "  </thead>\n",
       "  <tbody>\n",
       "    <tr>\n",
       "      <th>0</th>\n",
       "      <td>1</td>\n",
       "      <td>'Arica'</td>\n",
       "      <td>1</td>\n",
       "    </tr>\n",
       "    <tr>\n",
       "      <th>1</th>\n",
       "      <td>2</td>\n",
       "      <td>'Parinacota'</td>\n",
       "      <td>1</td>\n",
       "    </tr>\n",
       "    <tr>\n",
       "      <th>2</th>\n",
       "      <td>3</td>\n",
       "      <td>'Iquique'</td>\n",
       "      <td>2</td>\n",
       "    </tr>\n",
       "    <tr>\n",
       "      <th>3</th>\n",
       "      <td>4</td>\n",
       "      <td>'El Tamarugal'</td>\n",
       "      <td>2</td>\n",
       "    </tr>\n",
       "    <tr>\n",
       "      <th>4</th>\n",
       "      <td>5</td>\n",
       "      <td>'Antofagasta'</td>\n",
       "      <td>3</td>\n",
       "    </tr>\n",
       "  </tbody>\n",
       "</table>\n",
       "</div>"
      ],
      "text/plain": [
       "   ProvinciaID ProvinciaNombre  RegionID\n",
       "0            1         'Arica'         1\n",
       "1            2    'Parinacota'         1\n",
       "2            3       'Iquique'         2\n",
       "3            4  'El Tamarugal'         2\n",
       "4            5   'Antofagasta'         3"
      ]
     },
     "execution_count": 21,
     "metadata": {},
     "output_type": "execute_result"
    }
   ],
   "source": [
    "provincias.head()"
   ]
  },
  {
   "cell_type": "code",
   "execution_count": 22,
   "metadata": {},
   "outputs": [
    {
     "data": {
      "text/html": [
       "<div>\n",
       "<style>\n",
       "    .dataframe thead tr:only-child th {\n",
       "        text-align: right;\n",
       "    }\n",
       "\n",
       "    .dataframe thead th {\n",
       "        text-align: left;\n",
       "    }\n",
       "\n",
       "    .dataframe tbody tr th {\n",
       "        vertical-align: top;\n",
       "    }\n",
       "</style>\n",
       "<table border=\"1\" class=\"dataframe\">\n",
       "  <thead>\n",
       "    <tr style=\"text-align: right;\">\n",
       "      <th></th>\n",
       "      <th>ComunaID</th>\n",
       "      <th>ProvinciaID</th>\n",
       "    </tr>\n",
       "  </thead>\n",
       "  <tbody>\n",
       "    <tr>\n",
       "      <th>count</th>\n",
       "      <td>345.000000</td>\n",
       "      <td>345.000000</td>\n",
       "    </tr>\n",
       "    <tr>\n",
       "      <th>mean</th>\n",
       "      <td>173.000000</td>\n",
       "      <td>29.368116</td>\n",
       "    </tr>\n",
       "    <tr>\n",
       "      <th>std</th>\n",
       "      <td>99.737155</td>\n",
       "      <td>11.853791</td>\n",
       "    </tr>\n",
       "    <tr>\n",
       "      <th>min</th>\n",
       "      <td>1.000000</td>\n",
       "      <td>1.000000</td>\n",
       "    </tr>\n",
       "    <tr>\n",
       "      <th>25%</th>\n",
       "      <td>87.000000</td>\n",
       "      <td>22.000000</td>\n",
       "    </tr>\n",
       "    <tr>\n",
       "      <th>50%</th>\n",
       "      <td>173.000000</td>\n",
       "      <td>31.000000</td>\n",
       "    </tr>\n",
       "    <tr>\n",
       "      <th>75%</th>\n",
       "      <td>259.000000</td>\n",
       "      <td>38.000000</td>\n",
       "    </tr>\n",
       "    <tr>\n",
       "      <th>max</th>\n",
       "      <td>345.000000</td>\n",
       "      <td>53.000000</td>\n",
       "    </tr>\n",
       "  </tbody>\n",
       "</table>\n",
       "</div>"
      ],
      "text/plain": [
       "         ComunaID  ProvinciaID\n",
       "count  345.000000   345.000000\n",
       "mean   173.000000    29.368116\n",
       "std     99.737155    11.853791\n",
       "min      1.000000     1.000000\n",
       "25%     87.000000    22.000000\n",
       "50%    173.000000    31.000000\n",
       "75%    259.000000    38.000000\n",
       "max    345.000000    53.000000"
      ]
     },
     "execution_count": 22,
     "metadata": {},
     "output_type": "execute_result"
    }
   ],
   "source": [
    "comunas.describe()"
   ]
  },
  {
   "cell_type": "code",
   "execution_count": 23,
   "metadata": {},
   "outputs": [
    {
     "data": {
      "text/html": [
       "<div>\n",
       "<style>\n",
       "    .dataframe thead tr:only-child th {\n",
       "        text-align: right;\n",
       "    }\n",
       "\n",
       "    .dataframe thead th {\n",
       "        text-align: left;\n",
       "    }\n",
       "\n",
       "    .dataframe tbody tr th {\n",
       "        vertical-align: top;\n",
       "    }\n",
       "</style>\n",
       "<table border=\"1\" class=\"dataframe\">\n",
       "  <thead>\n",
       "    <tr style=\"text-align: right;\">\n",
       "      <th></th>\n",
       "      <th>RegionID</th>\n",
       "      <th>RegionNombre</th>\n",
       "      <th>RegionOrdinal</th>\n",
       "      <th>ProvinciaID</th>\n",
       "      <th>ProvinciaNombre</th>\n",
       "    </tr>\n",
       "  </thead>\n",
       "  <tbody>\n",
       "    <tr>\n",
       "      <th>0</th>\n",
       "      <td>1</td>\n",
       "      <td>'Arica y Parinacota'</td>\n",
       "      <td>'XV'</td>\n",
       "      <td>1</td>\n",
       "      <td>'Arica'</td>\n",
       "    </tr>\n",
       "    <tr>\n",
       "      <th>1</th>\n",
       "      <td>1</td>\n",
       "      <td>'Arica y Parinacota'</td>\n",
       "      <td>'XV'</td>\n",
       "      <td>2</td>\n",
       "      <td>'Parinacota'</td>\n",
       "    </tr>\n",
       "    <tr>\n",
       "      <th>2</th>\n",
       "      <td>2</td>\n",
       "      <td>'Tarapacá'</td>\n",
       "      <td>'I'</td>\n",
       "      <td>3</td>\n",
       "      <td>'Iquique'</td>\n",
       "    </tr>\n",
       "    <tr>\n",
       "      <th>3</th>\n",
       "      <td>2</td>\n",
       "      <td>'Tarapacá'</td>\n",
       "      <td>'I'</td>\n",
       "      <td>4</td>\n",
       "      <td>'El Tamarugal'</td>\n",
       "    </tr>\n",
       "    <tr>\n",
       "      <th>4</th>\n",
       "      <td>3</td>\n",
       "      <td>'Antofagasta'</td>\n",
       "      <td>'II'</td>\n",
       "      <td>5</td>\n",
       "      <td>'Antofagasta'</td>\n",
       "    </tr>\n",
       "  </tbody>\n",
       "</table>\n",
       "</div>"
      ],
      "text/plain": [
       "   RegionID          RegionNombre RegionOrdinal  ProvinciaID ProvinciaNombre\n",
       "0         1  'Arica y Parinacota'          'XV'            1         'Arica'\n",
       "1         1  'Arica y Parinacota'          'XV'            2    'Parinacota'\n",
       "2         2            'Tarapacá'           'I'            3       'Iquique'\n",
       "3         2            'Tarapacá'           'I'            4  'El Tamarugal'\n",
       "4         3         'Antofagasta'          'II'            5   'Antofagasta'"
      ]
     },
     "execution_count": 23,
     "metadata": {},
     "output_type": "execute_result"
    }
   ],
   "source": [
    "regiones_provincias=pd.merge(regiones, provincias, how='outer')\n",
    "regiones_provincias.head()"
   ]
  },
  {
   "cell_type": "code",
   "execution_count": 24,
   "metadata": {},
   "outputs": [
    {
     "data": {
      "text/html": [
       "<div>\n",
       "<style>\n",
       "    .dataframe thead tr:only-child th {\n",
       "        text-align: right;\n",
       "    }\n",
       "\n",
       "    .dataframe thead th {\n",
       "        text-align: left;\n",
       "    }\n",
       "\n",
       "    .dataframe tbody tr th {\n",
       "        vertical-align: top;\n",
       "    }\n",
       "</style>\n",
       "<table border=\"1\" class=\"dataframe\">\n",
       "  <thead>\n",
       "    <tr style=\"text-align: right;\">\n",
       "      <th></th>\n",
       "      <th>ProvinciaID</th>\n",
       "      <th>ProvinciaNombre</th>\n",
       "      <th>RegionID</th>\n",
       "      <th>ComunaID</th>\n",
       "      <th>ComunaNombre</th>\n",
       "    </tr>\n",
       "  </thead>\n",
       "  <tbody>\n",
       "    <tr>\n",
       "      <th>0</th>\n",
       "      <td>1</td>\n",
       "      <td>'Arica'</td>\n",
       "      <td>1</td>\n",
       "      <td>1</td>\n",
       "      <td>'Arica'</td>\n",
       "    </tr>\n",
       "    <tr>\n",
       "      <th>1</th>\n",
       "      <td>1</td>\n",
       "      <td>'Arica'</td>\n",
       "      <td>1</td>\n",
       "      <td>2</td>\n",
       "      <td>'Camarones'</td>\n",
       "    </tr>\n",
       "    <tr>\n",
       "      <th>2</th>\n",
       "      <td>2</td>\n",
       "      <td>'Parinacota'</td>\n",
       "      <td>1</td>\n",
       "      <td>3</td>\n",
       "      <td>'General Lagos'</td>\n",
       "    </tr>\n",
       "    <tr>\n",
       "      <th>3</th>\n",
       "      <td>2</td>\n",
       "      <td>'Parinacota'</td>\n",
       "      <td>1</td>\n",
       "      <td>4</td>\n",
       "      <td>'Putre'</td>\n",
       "    </tr>\n",
       "    <tr>\n",
       "      <th>4</th>\n",
       "      <td>3</td>\n",
       "      <td>'Iquique'</td>\n",
       "      <td>2</td>\n",
       "      <td>5</td>\n",
       "      <td>'Alto Hospicio'</td>\n",
       "    </tr>\n",
       "  </tbody>\n",
       "</table>\n",
       "</div>"
      ],
      "text/plain": [
       "   ProvinciaID ProvinciaNombre  RegionID  ComunaID     ComunaNombre\n",
       "0            1         'Arica'         1         1          'Arica'\n",
       "1            1         'Arica'         1         2      'Camarones'\n",
       "2            2    'Parinacota'         1         3  'General Lagos'\n",
       "3            2    'Parinacota'         1         4          'Putre'\n",
       "4            3       'Iquique'         2         5  'Alto Hospicio'"
      ]
     },
     "execution_count": 24,
     "metadata": {},
     "output_type": "execute_result"
    }
   ],
   "source": [
    "provincias_comunas=pd.merge(provincias, comunas, how='outer')\n",
    "provincias_comunas.head()"
   ]
  },
  {
   "cell_type": "code",
   "execution_count": 25,
   "metadata": {},
   "outputs": [
    {
     "data": {
      "text/html": [
       "<div>\n",
       "<style>\n",
       "    .dataframe thead tr:only-child th {\n",
       "        text-align: right;\n",
       "    }\n",
       "\n",
       "    .dataframe thead th {\n",
       "        text-align: left;\n",
       "    }\n",
       "\n",
       "    .dataframe tbody tr th {\n",
       "        vertical-align: top;\n",
       "    }\n",
       "</style>\n",
       "<table border=\"1\" class=\"dataframe\">\n",
       "  <thead>\n",
       "    <tr style=\"text-align: right;\">\n",
       "      <th></th>\n",
       "      <th>RegionID</th>\n",
       "      <th>RegionNombre</th>\n",
       "      <th>RegionOrdinal</th>\n",
       "      <th>ProvinciaID</th>\n",
       "      <th>ProvinciaNombre</th>\n",
       "      <th>ComunaID</th>\n",
       "      <th>ComunaNombre</th>\n",
       "    </tr>\n",
       "    <tr>\n",
       "      <th>ID</th>\n",
       "      <th></th>\n",
       "      <th></th>\n",
       "      <th></th>\n",
       "      <th></th>\n",
       "      <th></th>\n",
       "      <th></th>\n",
       "      <th></th>\n",
       "    </tr>\n",
       "  </thead>\n",
       "  <tbody>\n",
       "    <tr>\n",
       "      <th>0</th>\n",
       "      <td>1</td>\n",
       "      <td>'Arica y Parinacota'</td>\n",
       "      <td>'XV'</td>\n",
       "      <td>1</td>\n",
       "      <td>'Arica'</td>\n",
       "      <td>1</td>\n",
       "      <td>'Arica'</td>\n",
       "    </tr>\n",
       "    <tr>\n",
       "      <th>1</th>\n",
       "      <td>1</td>\n",
       "      <td>'Arica y Parinacota'</td>\n",
       "      <td>'XV'</td>\n",
       "      <td>1</td>\n",
       "      <td>'Arica'</td>\n",
       "      <td>2</td>\n",
       "      <td>'Camarones'</td>\n",
       "    </tr>\n",
       "    <tr>\n",
       "      <th>2</th>\n",
       "      <td>1</td>\n",
       "      <td>'Arica y Parinacota'</td>\n",
       "      <td>'XV'</td>\n",
       "      <td>2</td>\n",
       "      <td>'Parinacota'</td>\n",
       "      <td>3</td>\n",
       "      <td>'General Lagos'</td>\n",
       "    </tr>\n",
       "    <tr>\n",
       "      <th>3</th>\n",
       "      <td>1</td>\n",
       "      <td>'Arica y Parinacota'</td>\n",
       "      <td>'XV'</td>\n",
       "      <td>2</td>\n",
       "      <td>'Parinacota'</td>\n",
       "      <td>4</td>\n",
       "      <td>'Putre'</td>\n",
       "    </tr>\n",
       "    <tr>\n",
       "      <th>4</th>\n",
       "      <td>2</td>\n",
       "      <td>'Tarapacá'</td>\n",
       "      <td>'I'</td>\n",
       "      <td>3</td>\n",
       "      <td>'Iquique'</td>\n",
       "      <td>5</td>\n",
       "      <td>'Alto Hospicio'</td>\n",
       "    </tr>\n",
       "  </tbody>\n",
       "</table>\n",
       "</div>"
      ],
      "text/plain": [
       "    RegionID          RegionNombre RegionOrdinal  ProvinciaID ProvinciaNombre  \\\n",
       "ID                                                                              \n",
       "0          1  'Arica y Parinacota'          'XV'            1         'Arica'   \n",
       "1          1  'Arica y Parinacota'          'XV'            1         'Arica'   \n",
       "2          1  'Arica y Parinacota'          'XV'            2    'Parinacota'   \n",
       "3          1  'Arica y Parinacota'          'XV'            2    'Parinacota'   \n",
       "4          2            'Tarapacá'           'I'            3       'Iquique'   \n",
       "\n",
       "    ComunaID     ComunaNombre  \n",
       "ID                             \n",
       "0          1          'Arica'  \n",
       "1          2      'Camarones'  \n",
       "2          3  'General Lagos'  \n",
       "3          4          'Putre'  \n",
       "4          5  'Alto Hospicio'  "
      ]
     },
     "execution_count": 25,
     "metadata": {},
     "output_type": "execute_result"
    }
   ],
   "source": [
    "regiones_provincias_comunas=pd.merge(regiones_provincias, comunas, how='outer')\n",
    "regiones_provincias_comunas.index.name='ID'\n",
    "regiones_provincias_comunas.head()"
   ]
  },
  {
   "cell_type": "code",
   "execution_count": 26,
   "metadata": {
    "collapsed": true
   },
   "outputs": [],
   "source": [
    "regiones_provincias_comunas.to_csv('data/chile_demographic_merge.csv', index=False)"
   ]
  },
  {
   "cell_type": "code",
   "execution_count": 27,
   "metadata": {},
   "outputs": [
    {
     "data": {
      "text/plain": [
       "RegionID                              1\n",
       "RegionNombre       'Arica y Parinacota'\n",
       "RegionOrdinal                      'XV'\n",
       "ProvinciaID                           2\n",
       "ProvinciaNombre            'Parinacota'\n",
       "ComunaID                              4\n",
       "ComunaNombre                    'Putre'\n",
       "Name: 3, dtype: object"
      ]
     },
     "execution_count": 27,
     "metadata": {},
     "output_type": "execute_result"
    }
   ],
   "source": [
    "regiones_provincias_comunas.loc[3]"
   ]
  },
  {
   "cell_type": "markdown",
   "metadata": {},
   "source": [
    "## 4. Loading ful dataset"
   ]
  },
  {
   "cell_type": "code",
   "execution_count": 28,
   "metadata": {},
   "outputs": [
    {
     "data": {
      "text/html": [
       "<div>\n",
       "<style>\n",
       "    .dataframe thead tr:only-child th {\n",
       "        text-align: right;\n",
       "    }\n",
       "\n",
       "    .dataframe thead th {\n",
       "        text-align: left;\n",
       "    }\n",
       "\n",
       "    .dataframe tbody tr th {\n",
       "        vertical-align: top;\n",
       "    }\n",
       "</style>\n",
       "<table border=\"1\" class=\"dataframe\">\n",
       "  <thead>\n",
       "    <tr style=\"text-align: right;\">\n",
       "      <th></th>\n",
       "      <th>RegionID</th>\n",
       "      <th>Region</th>\n",
       "      <th>Provincia</th>\n",
       "      <th>Comuna</th>\n",
       "      <th>Superficie</th>\n",
       "      <th>Poblacion</th>\n",
       "      <th>Densidad</th>\n",
       "      <th>IDH_2005</th>\n",
       "    </tr>\n",
       "  </thead>\n",
       "  <tbody>\n",
       "    <tr>\n",
       "      <th>0</th>\n",
       "      <td>1</td>\n",
       "      <td>Arica y Parinacota</td>\n",
       "      <td>Arica</td>\n",
       "      <td>Arica</td>\n",
       "      <td>4799.4</td>\n",
       "      <td>210936</td>\n",
       "      <td>38.4</td>\n",
       "      <td>0.736</td>\n",
       "    </tr>\n",
       "    <tr>\n",
       "      <th>1</th>\n",
       "      <td>1</td>\n",
       "      <td>Arica y Parinacota</td>\n",
       "      <td>Arica</td>\n",
       "      <td>Camarones</td>\n",
       "      <td>3927.0</td>\n",
       "      <td>679</td>\n",
       "      <td>0.3</td>\n",
       "      <td>0.751</td>\n",
       "    </tr>\n",
       "    <tr>\n",
       "      <th>2</th>\n",
       "      <td>1</td>\n",
       "      <td>Arica y Parinacota</td>\n",
       "      <td>Parinacota</td>\n",
       "      <td>General Lagos</td>\n",
       "      <td>2244.4</td>\n",
       "      <td>739</td>\n",
       "      <td>0.5</td>\n",
       "      <td>0.670</td>\n",
       "    </tr>\n",
       "    <tr>\n",
       "      <th>3</th>\n",
       "      <td>1</td>\n",
       "      <td>Arica y Parinacota</td>\n",
       "      <td>Parinacota</td>\n",
       "      <td>Putre</td>\n",
       "      <td>5902.5</td>\n",
       "      <td>1462</td>\n",
       "      <td>0.2</td>\n",
       "      <td>0.707</td>\n",
       "    </tr>\n",
       "    <tr>\n",
       "      <th>4</th>\n",
       "      <td>1</td>\n",
       "      <td>Arica y Parinacota</td>\n",
       "      <td>Iquique</td>\n",
       "      <td>Alto Hospicio</td>\n",
       "      <td>572.9</td>\n",
       "      <td>94455</td>\n",
       "      <td>87.6</td>\n",
       "      <td>NaN</td>\n",
       "    </tr>\n",
       "  </tbody>\n",
       "</table>\n",
       "</div>"
      ],
      "text/plain": [
       "   RegionID              Region   Provincia         Comuna  Superficie  \\\n",
       "0         1  Arica y Parinacota       Arica          Arica      4799.4   \n",
       "1         1  Arica y Parinacota       Arica      Camarones      3927.0   \n",
       "2         1  Arica y Parinacota  Parinacota  General Lagos      2244.4   \n",
       "3         1  Arica y Parinacota  Parinacota          Putre      5902.5   \n",
       "4         1  Arica y Parinacota     Iquique  Alto Hospicio       572.9   \n",
       "\n",
       "   Poblacion  Densidad  IDH_2005  \n",
       "0     210936      38.4     0.736  \n",
       "1        679       0.3     0.751  \n",
       "2        739       0.5     0.670  \n",
       "3       1462       0.2     0.707  \n",
       "4      94455      87.6       NaN  "
      ]
     },
     "execution_count": 28,
     "metadata": {},
     "output_type": "execute_result"
    }
   ],
   "source": [
    "data_file='data/chile_demographic.csv'\n",
    "data=pd.read_csv(data_file, header=0, sep=',')\n",
    "data.head()"
   ]
  },
  {
   "cell_type": "code",
   "execution_count": 29,
   "metadata": {
    "scrolled": true
   },
   "outputs": [
    {
     "data": {
      "text/html": [
       "<div>\n",
       "<style>\n",
       "    .dataframe thead tr:only-child th {\n",
       "        text-align: right;\n",
       "    }\n",
       "\n",
       "    .dataframe thead th {\n",
       "        text-align: left;\n",
       "    }\n",
       "\n",
       "    .dataframe tbody tr th {\n",
       "        vertical-align: top;\n",
       "    }\n",
       "</style>\n",
       "<table border=\"1\" class=\"dataframe\">\n",
       "  <thead>\n",
       "    <tr style=\"text-align: right;\">\n",
       "      <th></th>\n",
       "      <th>RegionID</th>\n",
       "      <th>Region</th>\n",
       "      <th>Provincia</th>\n",
       "      <th>Comuna</th>\n",
       "      <th>Superficie</th>\n",
       "      <th>Poblacion</th>\n",
       "      <th>Densidad</th>\n",
       "      <th>IDH_2005</th>\n",
       "    </tr>\n",
       "  </thead>\n",
       "  <tbody>\n",
       "    <tr>\n",
       "      <th>335</th>\n",
       "      <td>15</td>\n",
       "      <td>Magallanes y de la Antártica Chilena</td>\n",
       "      <td>Antártica Chilena</td>\n",
       "      <td>Antártica</td>\n",
       "      <td>1250257.6</td>\n",
       "      <td>127</td>\n",
       "      <td>0.0</td>\n",
       "      <td>NaN</td>\n",
       "    </tr>\n",
       "    <tr>\n",
       "      <th>15</th>\n",
       "      <td>3</td>\n",
       "      <td>Antofagasta</td>\n",
       "      <td>El Loa</td>\n",
       "      <td>Ollagüe</td>\n",
       "      <td>2964.0</td>\n",
       "      <td>332</td>\n",
       "      <td>0.1</td>\n",
       "      <td>0.679</td>\n",
       "    </tr>\n",
       "    <tr>\n",
       "      <th>342</th>\n",
       "      <td>15</td>\n",
       "      <td>Magallanes y de la Antártica Chilena</td>\n",
       "      <td>Magallanes</td>\n",
       "      <td>Río Verde</td>\n",
       "      <td>17248.0</td>\n",
       "      <td>363</td>\n",
       "      <td>0.0</td>\n",
       "      <td>0.784</td>\n",
       "    </tr>\n",
       "    <tr>\n",
       "      <th>334</th>\n",
       "      <td>14</td>\n",
       "      <td>Aisén del General Carlos Ibáñez del Campo</td>\n",
       "      <td>Capitán Prat</td>\n",
       "      <td>Tortel</td>\n",
       "      <td>19710.6</td>\n",
       "      <td>531</td>\n",
       "      <td>0.0</td>\n",
       "      <td>0.655</td>\n",
       "    </tr>\n",
       "    <tr>\n",
       "      <th>337</th>\n",
       "      <td>15</td>\n",
       "      <td>Magallanes y de la Antártica Chilena</td>\n",
       "      <td>Magallanes</td>\n",
       "      <td>Laguna Blanca</td>\n",
       "      <td>3695.6</td>\n",
       "      <td>631</td>\n",
       "      <td>0.0</td>\n",
       "      <td>0.785</td>\n",
       "    </tr>\n",
       "  </tbody>\n",
       "</table>\n",
       "</div>"
      ],
      "text/plain": [
       "     RegionID                                     Region          Provincia  \\\n",
       "335        15       Magallanes y de la Antártica Chilena  Antártica Chilena   \n",
       "15          3                                Antofagasta             El Loa   \n",
       "342        15       Magallanes y de la Antártica Chilena         Magallanes   \n",
       "334        14  Aisén del General Carlos Ibáñez del Campo       Capitán Prat   \n",
       "337        15       Magallanes y de la Antártica Chilena         Magallanes   \n",
       "\n",
       "            Comuna  Superficie  Poblacion  Densidad  IDH_2005  \n",
       "335      Antártica   1250257.6        127       0.0       NaN  \n",
       "15         Ollagüe      2964.0        332       0.1     0.679  \n",
       "342      Río Verde     17248.0        363       0.0     0.784  \n",
       "334         Tortel     19710.6        531       0.0     0.655  \n",
       "337  Laguna Blanca      3695.6        631       0.0     0.785  "
      ]
     },
     "execution_count": 29,
     "metadata": {},
     "output_type": "execute_result"
    }
   ],
   "source": [
    "# Podemos ordenar el dataframe usando el campo Poblacion\n",
    "\n",
    "data_sort=data.sort_values('Poblacion')\n",
    "data_sort.head()"
   ]
  },
  {
   "cell_type": "code",
   "execution_count": 30,
   "metadata": {
    "scrolled": true
   },
   "outputs": [
    {
     "data": {
      "text/html": [
       "<div>\n",
       "<style>\n",
       "    .dataframe thead tr:only-child th {\n",
       "        text-align: right;\n",
       "    }\n",
       "\n",
       "    .dataframe thead th {\n",
       "        text-align: left;\n",
       "    }\n",
       "\n",
       "    .dataframe tbody tr th {\n",
       "        vertical-align: top;\n",
       "    }\n",
       "</style>\n",
       "<table border=\"1\" class=\"dataframe\">\n",
       "  <thead>\n",
       "    <tr style=\"text-align: right;\">\n",
       "      <th></th>\n",
       "      <th>RegionID</th>\n",
       "      <th>Region</th>\n",
       "      <th>Provincia</th>\n",
       "      <th>Comuna</th>\n",
       "      <th>Superficie</th>\n",
       "      <th>Poblacion</th>\n",
       "      <th>Densidad</th>\n",
       "      <th>IDH_2005</th>\n",
       "    </tr>\n",
       "  </thead>\n",
       "  <tbody>\n",
       "    <tr>\n",
       "      <th>107</th>\n",
       "      <td>7</td>\n",
       "      <td>Metropolitana de Santiago</td>\n",
       "      <td>Santiago</td>\n",
       "      <td>Maipú</td>\n",
       "      <td>135.5</td>\n",
       "      <td>805000</td>\n",
       "      <td>3876.2</td>\n",
       "      <td>0.902</td>\n",
       "    </tr>\n",
       "    <tr>\n",
       "      <th>119</th>\n",
       "      <td>7</td>\n",
       "      <td>Metropolitana de Santiago</td>\n",
       "      <td>Cordillera</td>\n",
       "      <td>Puente Alto</td>\n",
       "      <td>88.0</td>\n",
       "      <td>757721</td>\n",
       "      <td>6664.8</td>\n",
       "      <td>0.773</td>\n",
       "    </tr>\n",
       "    <tr>\n",
       "      <th>97</th>\n",
       "      <td>7</td>\n",
       "      <td>Metropolitana de Santiago</td>\n",
       "      <td>Santiago</td>\n",
       "      <td>La Florida</td>\n",
       "      <td>70.2</td>\n",
       "      <td>397497</td>\n",
       "      <td>5209.0</td>\n",
       "      <td>0.804</td>\n",
       "    </tr>\n",
       "    <tr>\n",
       "      <th>11</th>\n",
       "      <td>3</td>\n",
       "      <td>Antofagasta</td>\n",
       "      <td>Antofagasta</td>\n",
       "      <td>Antofagasta</td>\n",
       "      <td>30718.1</td>\n",
       "      <td>348669</td>\n",
       "      <td>9.7</td>\n",
       "      <td>0.734</td>\n",
       "    </tr>\n",
       "    <tr>\n",
       "      <th>80</th>\n",
       "      <td>6</td>\n",
       "      <td>Valparaíso</td>\n",
       "      <td>Valparaíso</td>\n",
       "      <td>Viña del Mar</td>\n",
       "      <td>121.6</td>\n",
       "      <td>311399</td>\n",
       "      <td>2560.8</td>\n",
       "      <td>0.766</td>\n",
       "    </tr>\n",
       "  </tbody>\n",
       "</table>\n",
       "</div>"
      ],
      "text/plain": [
       "     RegionID                     Region    Provincia        Comuna  \\\n",
       "107         7  Metropolitana de Santiago     Santiago         Maipú   \n",
       "119         7  Metropolitana de Santiago   Cordillera   Puente Alto   \n",
       "97          7  Metropolitana de Santiago     Santiago    La Florida   \n",
       "11          3                Antofagasta  Antofagasta   Antofagasta   \n",
       "80          6                 Valparaíso   Valparaíso  Viña del Mar   \n",
       "\n",
       "     Superficie  Poblacion  Densidad  IDH_2005  \n",
       "107       135.5     805000    3876.2     0.902  \n",
       "119        88.0     757721    6664.8     0.773  \n",
       "97         70.2     397497    5209.0     0.804  \n",
       "11      30718.1     348669       9.7     0.734  \n",
       "80        121.6     311399    2560.8     0.766  "
      ]
     },
     "execution_count": 30,
     "metadata": {},
     "output_type": "execute_result"
    }
   ],
   "source": [
    "# Podemos ordenarlo de mayor a menor\n",
    "\n",
    "data_sort=data.sort_values('Poblacion', ascending=False)\n",
    "data_sort.head()"
   ]
  },
  {
   "cell_type": "code",
   "execution_count": 31,
   "metadata": {},
   "outputs": [
    {
     "data": {
      "text/html": [
       "<div>\n",
       "<style>\n",
       "    .dataframe thead tr:only-child th {\n",
       "        text-align: right;\n",
       "    }\n",
       "\n",
       "    .dataframe thead th {\n",
       "        text-align: left;\n",
       "    }\n",
       "\n",
       "    .dataframe tbody tr th {\n",
       "        vertical-align: top;\n",
       "    }\n",
       "</style>\n",
       "<table border=\"1\" class=\"dataframe\">\n",
       "  <thead>\n",
       "    <tr style=\"text-align: right;\">\n",
       "      <th></th>\n",
       "      <th>Poblacion</th>\n",
       "      <th>Superficie</th>\n",
       "    </tr>\n",
       "    <tr>\n",
       "      <th>Region</th>\n",
       "      <th></th>\n",
       "      <th></th>\n",
       "    </tr>\n",
       "  </thead>\n",
       "  <tbody>\n",
       "    <tr>\n",
       "      <th>Aisén del General Carlos Ibáñez del Campo</th>\n",
       "      <td>106893</td>\n",
       "      <td>107449.40</td>\n",
       "    </tr>\n",
       "    <tr>\n",
       "      <th>Antofagasta</th>\n",
       "      <td>551627</td>\n",
       "      <td>126048.80</td>\n",
       "    </tr>\n",
       "    <tr>\n",
       "      <th>Arica y Parinacota</th>\n",
       "      <td>308271</td>\n",
       "      <td>17446.20</td>\n",
       "    </tr>\n",
       "    <tr>\n",
       "      <th>Atacama</th>\n",
       "      <td>292054</td>\n",
       "      <td>74806.30</td>\n",
       "    </tr>\n",
       "    <tr>\n",
       "      <th>Biobío</th>\n",
       "      <td>2025995</td>\n",
       "      <td>37068.70</td>\n",
       "    </tr>\n",
       "    <tr>\n",
       "      <th>Coquimbo</th>\n",
       "      <td>714856</td>\n",
       "      <td>40967.80</td>\n",
       "    </tr>\n",
       "    <tr>\n",
       "      <th>La Araucanía</th>\n",
       "      <td>933537</td>\n",
       "      <td>31842.30</td>\n",
       "    </tr>\n",
       "    <tr>\n",
       "      <th>Libertador General Bernardo O'Higgins</th>\n",
       "      <td>903248</td>\n",
       "      <td>16583.30</td>\n",
       "    </tr>\n",
       "    <tr>\n",
       "      <th>Los Lagos</th>\n",
       "      <td>835829</td>\n",
       "      <td>48583.30</td>\n",
       "    </tr>\n",
       "    <tr>\n",
       "      <th>Los Ríos</th>\n",
       "      <td>380618</td>\n",
       "      <td>18577.60</td>\n",
       "    </tr>\n",
       "    <tr>\n",
       "      <th>Magallanes y de la Antártica Chilena</th>\n",
       "      <td>158828</td>\n",
       "      <td>1392783.70</td>\n",
       "    </tr>\n",
       "    <tr>\n",
       "      <th>Maule</th>\n",
       "      <td>1073635</td>\n",
       "      <td>30340.30</td>\n",
       "    </tr>\n",
       "    <tr>\n",
       "      <th>Metropolitana de Santiago</th>\n",
       "      <td>7150480</td>\n",
       "      <td>15547.00</td>\n",
       "    </tr>\n",
       "    <tr>\n",
       "      <th>Tarapacá</th>\n",
       "      <td>205566</td>\n",
       "      <td>41632.60</td>\n",
       "    </tr>\n",
       "    <tr>\n",
       "      <th>Valparaíso</th>\n",
       "      <td>1859312</td>\n",
       "      <td>12646.28</td>\n",
       "    </tr>\n",
       "  </tbody>\n",
       "</table>\n",
       "</div>"
      ],
      "text/plain": [
       "                                           Poblacion  Superficie\n",
       "Region                                                          \n",
       "Aisén del General Carlos Ibáñez del Campo     106893   107449.40\n",
       "Antofagasta                                   551627   126048.80\n",
       "Arica y Parinacota                            308271    17446.20\n",
       "Atacama                                       292054    74806.30\n",
       "Biobío                                       2025995    37068.70\n",
       "Coquimbo                                      714856    40967.80\n",
       "La Araucanía                                  933537    31842.30\n",
       "Libertador General Bernardo O'Higgins         903248    16583.30\n",
       "Los Lagos                                     835829    48583.30\n",
       "Los Ríos                                      380618    18577.60\n",
       "Magallanes y de la Antártica Chilena          158828  1392783.70\n",
       "Maule                                        1073635    30340.30\n",
       "Metropolitana de Santiago                    7150480    15547.00\n",
       "Tarapacá                                      205566    41632.60\n",
       "Valparaíso                                   1859312    12646.28"
      ]
     },
     "execution_count": 31,
     "metadata": {},
     "output_type": "execute_result"
    }
   ],
   "source": [
    "(data.groupby(data['Region'])['Poblacion','Superficie'].sum())"
   ]
  },
  {
   "cell_type": "code",
   "execution_count": 32,
   "metadata": {
    "scrolled": false
   },
   "outputs": [
    {
     "data": {
      "text/html": [
       "<div>\n",
       "<style>\n",
       "    .dataframe thead tr:only-child th {\n",
       "        text-align: right;\n",
       "    }\n",
       "\n",
       "    .dataframe thead th {\n",
       "        text-align: left;\n",
       "    }\n",
       "\n",
       "    .dataframe tbody tr th {\n",
       "        vertical-align: top;\n",
       "    }\n",
       "</style>\n",
       "<table border=\"1\" class=\"dataframe\">\n",
       "  <thead>\n",
       "    <tr style=\"text-align: right;\">\n",
       "      <th></th>\n",
       "      <th>Poblacion</th>\n",
       "      <th>Superficie</th>\n",
       "    </tr>\n",
       "    <tr>\n",
       "      <th>Region</th>\n",
       "      <th></th>\n",
       "      <th></th>\n",
       "    </tr>\n",
       "  </thead>\n",
       "  <tbody>\n",
       "    <tr>\n",
       "      <th>Aisén del General Carlos Ibáñez del Campo</th>\n",
       "      <td>106893</td>\n",
       "      <td>107449.40</td>\n",
       "    </tr>\n",
       "    <tr>\n",
       "      <th>Antofagasta</th>\n",
       "      <td>551627</td>\n",
       "      <td>126048.80</td>\n",
       "    </tr>\n",
       "    <tr>\n",
       "      <th>Arica y Parinacota</th>\n",
       "      <td>308271</td>\n",
       "      <td>17446.20</td>\n",
       "    </tr>\n",
       "    <tr>\n",
       "      <th>Atacama</th>\n",
       "      <td>292054</td>\n",
       "      <td>74806.30</td>\n",
       "    </tr>\n",
       "    <tr>\n",
       "      <th>Biobío</th>\n",
       "      <td>2025995</td>\n",
       "      <td>37068.70</td>\n",
       "    </tr>\n",
       "    <tr>\n",
       "      <th>Coquimbo</th>\n",
       "      <td>714856</td>\n",
       "      <td>40967.80</td>\n",
       "    </tr>\n",
       "    <tr>\n",
       "      <th>La Araucanía</th>\n",
       "      <td>933537</td>\n",
       "      <td>31842.30</td>\n",
       "    </tr>\n",
       "    <tr>\n",
       "      <th>Libertador General Bernardo O'Higgins</th>\n",
       "      <td>903248</td>\n",
       "      <td>16583.30</td>\n",
       "    </tr>\n",
       "    <tr>\n",
       "      <th>Los Lagos</th>\n",
       "      <td>835829</td>\n",
       "      <td>48583.30</td>\n",
       "    </tr>\n",
       "    <tr>\n",
       "      <th>Los Ríos</th>\n",
       "      <td>380618</td>\n",
       "      <td>18577.60</td>\n",
       "    </tr>\n",
       "    <tr>\n",
       "      <th>Magallanes y de la Antártica Chilena</th>\n",
       "      <td>158828</td>\n",
       "      <td>1392783.70</td>\n",
       "    </tr>\n",
       "    <tr>\n",
       "      <th>Maule</th>\n",
       "      <td>1073635</td>\n",
       "      <td>30340.30</td>\n",
       "    </tr>\n",
       "    <tr>\n",
       "      <th>Metropolitana de Santiago</th>\n",
       "      <td>7150480</td>\n",
       "      <td>15547.00</td>\n",
       "    </tr>\n",
       "    <tr>\n",
       "      <th>Tarapacá</th>\n",
       "      <td>205566</td>\n",
       "      <td>41632.60</td>\n",
       "    </tr>\n",
       "    <tr>\n",
       "      <th>Valparaíso</th>\n",
       "      <td>1859312</td>\n",
       "      <td>12646.28</td>\n",
       "    </tr>\n",
       "  </tbody>\n",
       "</table>\n",
       "</div>"
      ],
      "text/plain": [
       "                                           Poblacion  Superficie\n",
       "Region                                                          \n",
       "Aisén del General Carlos Ibáñez del Campo     106893   107449.40\n",
       "Antofagasta                                   551627   126048.80\n",
       "Arica y Parinacota                            308271    17446.20\n",
       "Atacama                                       292054    74806.30\n",
       "Biobío                                       2025995    37068.70\n",
       "Coquimbo                                      714856    40967.80\n",
       "La Araucanía                                  933537    31842.30\n",
       "Libertador General Bernardo O'Higgins         903248    16583.30\n",
       "Los Lagos                                     835829    48583.30\n",
       "Los Ríos                                      380618    18577.60\n",
       "Magallanes y de la Antártica Chilena          158828  1392783.70\n",
       "Maule                                        1073635    30340.30\n",
       "Metropolitana de Santiago                    7150480    15547.00\n",
       "Tarapacá                                      205566    41632.60\n",
       "Valparaíso                                   1859312    12646.28"
      ]
     },
     "execution_count": 32,
     "metadata": {},
     "output_type": "execute_result"
    }
   ],
   "source": [
    "x=data.groupby(data['Region'])\n",
    "x['Poblacion','Superficie'].sum()"
   ]
  },
  {
   "cell_type": "code",
   "execution_count": 33,
   "metadata": {},
   "outputs": [
    {
     "data": {
      "text/html": [
       "<div>\n",
       "<style>\n",
       "    .dataframe thead tr:only-child th {\n",
       "        text-align: right;\n",
       "    }\n",
       "\n",
       "    .dataframe thead th {\n",
       "        text-align: left;\n",
       "    }\n",
       "\n",
       "    .dataframe tbody tr th {\n",
       "        vertical-align: top;\n",
       "    }\n",
       "</style>\n",
       "<table border=\"1\" class=\"dataframe\">\n",
       "  <thead>\n",
       "    <tr style=\"text-align: right;\">\n",
       "      <th></th>\n",
       "      <th>Poblacion</th>\n",
       "      <th>Superficie</th>\n",
       "    </tr>\n",
       "    <tr>\n",
       "      <th>Region</th>\n",
       "      <th></th>\n",
       "      <th></th>\n",
       "    </tr>\n",
       "  </thead>\n",
       "  <tbody>\n",
       "    <tr>\n",
       "      <th>Aisén del General Carlos Ibáñez del Campo</th>\n",
       "      <td>106893</td>\n",
       "      <td>107449.40</td>\n",
       "    </tr>\n",
       "    <tr>\n",
       "      <th>Magallanes y de la Antártica Chilena</th>\n",
       "      <td>158828</td>\n",
       "      <td>1392783.70</td>\n",
       "    </tr>\n",
       "    <tr>\n",
       "      <th>Tarapacá</th>\n",
       "      <td>205566</td>\n",
       "      <td>41632.60</td>\n",
       "    </tr>\n",
       "    <tr>\n",
       "      <th>Atacama</th>\n",
       "      <td>292054</td>\n",
       "      <td>74806.30</td>\n",
       "    </tr>\n",
       "    <tr>\n",
       "      <th>Arica y Parinacota</th>\n",
       "      <td>308271</td>\n",
       "      <td>17446.20</td>\n",
       "    </tr>\n",
       "    <tr>\n",
       "      <th>Los Ríos</th>\n",
       "      <td>380618</td>\n",
       "      <td>18577.60</td>\n",
       "    </tr>\n",
       "    <tr>\n",
       "      <th>Antofagasta</th>\n",
       "      <td>551627</td>\n",
       "      <td>126048.80</td>\n",
       "    </tr>\n",
       "    <tr>\n",
       "      <th>Coquimbo</th>\n",
       "      <td>714856</td>\n",
       "      <td>40967.80</td>\n",
       "    </tr>\n",
       "    <tr>\n",
       "      <th>Los Lagos</th>\n",
       "      <td>835829</td>\n",
       "      <td>48583.30</td>\n",
       "    </tr>\n",
       "    <tr>\n",
       "      <th>Libertador General Bernardo O'Higgins</th>\n",
       "      <td>903248</td>\n",
       "      <td>16583.30</td>\n",
       "    </tr>\n",
       "    <tr>\n",
       "      <th>La Araucanía</th>\n",
       "      <td>933537</td>\n",
       "      <td>31842.30</td>\n",
       "    </tr>\n",
       "    <tr>\n",
       "      <th>Maule</th>\n",
       "      <td>1073635</td>\n",
       "      <td>30340.30</td>\n",
       "    </tr>\n",
       "    <tr>\n",
       "      <th>Valparaíso</th>\n",
       "      <td>1859312</td>\n",
       "      <td>12646.28</td>\n",
       "    </tr>\n",
       "    <tr>\n",
       "      <th>Biobío</th>\n",
       "      <td>2025995</td>\n",
       "      <td>37068.70</td>\n",
       "    </tr>\n",
       "    <tr>\n",
       "      <th>Metropolitana de Santiago</th>\n",
       "      <td>7150480</td>\n",
       "      <td>15547.00</td>\n",
       "    </tr>\n",
       "  </tbody>\n",
       "</table>\n",
       "</div>"
      ],
      "text/plain": [
       "                                           Poblacion  Superficie\n",
       "Region                                                          \n",
       "Aisén del General Carlos Ibáñez del Campo     106893   107449.40\n",
       "Magallanes y de la Antártica Chilena          158828  1392783.70\n",
       "Tarapacá                                      205566    41632.60\n",
       "Atacama                                       292054    74806.30\n",
       "Arica y Parinacota                            308271    17446.20\n",
       "Los Ríos                                      380618    18577.60\n",
       "Antofagasta                                   551627   126048.80\n",
       "Coquimbo                                      714856    40967.80\n",
       "Los Lagos                                     835829    48583.30\n",
       "Libertador General Bernardo O'Higgins         903248    16583.30\n",
       "La Araucanía                                  933537    31842.30\n",
       "Maule                                        1073635    30340.30\n",
       "Valparaíso                                   1859312    12646.28\n",
       "Biobío                                       2025995    37068.70\n",
       "Metropolitana de Santiago                    7150480    15547.00"
      ]
     },
     "execution_count": 33,
     "metadata": {},
     "output_type": "execute_result"
    }
   ],
   "source": [
    "(data.groupby(data['Region'])['Poblacion','Superficie'].sum()) \\\n",
    "    .sort_values(['Poblacion'])"
   ]
  },
  {
   "cell_type": "code",
   "execution_count": null,
   "metadata": {
    "collapsed": true
   },
   "outputs": [],
   "source": []
  },
  {
   "cell_type": "code",
   "execution_count": null,
   "metadata": {
    "collapsed": true
   },
   "outputs": [],
   "source": []
  }
 ],
 "metadata": {
  "kernelspec": {
   "display_name": "Python 3",
   "language": "python",
   "name": "python3"
  },
  "language_info": {
   "codemirror_mode": {
    "name": "ipython",
    "version": 3
   },
   "file_extension": ".py",
   "mimetype": "text/x-python",
   "name": "python",
   "nbconvert_exporter": "python",
   "pygments_lexer": "ipython3",
   "version": "3.6.3"
  }
 },
 "nbformat": 4,
 "nbformat_minor": 1
}
