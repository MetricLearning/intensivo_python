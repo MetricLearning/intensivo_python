{
 "cells": [
  {
   "cell_type": "markdown",
   "metadata": {},
   "source": [
    "# Definición de funciones y clases\n",
    "\n",
    "**Autor:** Roberto Muñoz <br />\n",
    "**E-mail:** <rmunoz@metricarts.com>\n",
    "\n",
    "Python es un lenguaje de programación que soporta múltiples paradigmas de programación, tales como programación orientada a objetos, imperativo y funcional.\n",
    "\n",
    "El soporte multiparadigma entrega un gran nivel de flexibilidad a Python."
   ]
  },
  {
   "cell_type": "markdown",
   "metadata": {},
   "source": [
    "# 1. Definición de funciones\n",
    "\n",
    "La palabra reservada **def** se usa para definir funciones. Debe seguirle el nombre de la función y la lista de parámetros formales entre paréntesis. Las sentencias que forman el cuerpo de la función empiezan en la línea siguiente, y deben estar con sangría.\n",
    "\n",
    "La primer sentencia del cuerpo de la función puede ser opcionalmente una cadena de texto literal; esta es la cadena de texto de documentación de la función, o docstring. (Podés encontrar más acerca de docstrings en la sección Cadenas de texto de documentación.)"
   ]
  },
  {
   "cell_type": "code",
   "execution_count": null,
   "metadata": {
    "collapsed": true
   },
   "outputs": [],
   "source": [
    "def suma(x, y = 2):\n",
    "    return x + y"
   ]
  },
  {
   "cell_type": "code",
   "execution_count": null,
   "metadata": {},
   "outputs": [],
   "source": [
    "# Llamamos a la función suma con un solo parámetro\n",
    "\n",
    "suma(4)"
   ]
  },
  {
   "cell_type": "code",
   "execution_count": null,
   "metadata": {},
   "outputs": [],
   "source": [
    "# Llamamos a la función suma usando los dos parámetros\n",
    "\n",
    "suma(4,10)"
   ]
  },
  {
   "cell_type": "markdown",
   "metadata": {},
   "source": [
    "Otra forma de escribir funciones, aunque menos utilizada, es con la palabra clave lambda. Las funciones Lambda pueden ser usadas en cualquier lugar donde sea requerido un objeto de tipo función. Están sintácticamente restringidas a una sola expresión."
   ]
  },
  {
   "cell_type": "code",
   "execution_count": null,
   "metadata": {
    "collapsed": true
   },
   "outputs": [],
   "source": [
    "suma = lambda x, y = 2: x + y"
   ]
  },
  {
   "cell_type": "code",
   "execution_count": null,
   "metadata": {},
   "outputs": [],
   "source": [
    "suma(4)"
   ]
  },
  {
   "cell_type": "code",
   "execution_count": null,
   "metadata": {},
   "outputs": [],
   "source": [
    "suma(4,10)"
   ]
  },
  {
   "cell_type": "markdown",
   "metadata": {},
   "source": [
    "Al definir una función, podemos usar todos los operadores y sentencias que vimos en los tutoriales anteriores.\n",
    "\n",
    "Por ejemplo, podemos definir una función que calcule los números de Fibonacci"
   ]
  },
  {
   "cell_type": "code",
   "execution_count": null,
   "metadata": {
    "collapsed": true
   },
   "outputs": [],
   "source": [
    "def fib(n):  # escribe la serie de Fibonacci hasta n\n",
    "    \"\"\"Escribe la serie de Fibonacci hasta n.\"\"\"\n",
    "    a, b = 0, 1\n",
    "    while a < n:\n",
    "        print(a, end=' ')\n",
    "        a, b = b, a+b\n",
    "    print()"
   ]
  },
  {
   "cell_type": "code",
   "execution_count": null,
   "metadata": {},
   "outputs": [],
   "source": [
    "# Ahora llamamos a la funcion fib() que acabamos de definir\n",
    "\n",
    "fib(2000)"
   ]
  },
  {
   "cell_type": "markdown",
   "metadata": {},
   "source": [
    "La primer sentencia del cuerpo de la función puede ser opcionalmente una cadena de texto literal. Esta es la cadena de texto de documentación de la función, o docstring."
   ]
  },
  {
   "cell_type": "code",
   "execution_count": null,
   "metadata": {},
   "outputs": [],
   "source": [
    "help(fib)"
   ]
  },
  {
   "cell_type": "markdown",
   "metadata": {},
   "source": [
    "La ejecución de una función introduce una nueva tabla de símbolos usada para las variables locales de la función. Más precisamente, todas las asignaciones de variables en la función almacenan el valor en la tabla de símbolos local; así mismo la referencia a variables primero mira la tabla de símbolos local, luego en la tabla de símbolos local de las funciones externas, luego la tabla de símbolos global, y finalmente la tabla de nombres predefinidos.\n",
    "\n",
    "De esta manera, no se les puede asignar directamente un valor a las variables globales dentro de una función (a menos se las nombre en la sentencia global), aunque si pueden ser referenciadas.\n",
    "\n",
    "La definición de una función introduce el nombre de la función en la tabla de símbolos actual. El valor del nombre de la función tiene un tipo que es reconocido por el interprete como una función definida por el usuario. Este valor puede ser asignado a otro nombre que luego puede ser usado como una función. Esto sirve como un mecanismo general para renombrar:"
   ]
  },
  {
   "cell_type": "code",
   "execution_count": null,
   "metadata": {},
   "outputs": [],
   "source": [
    "fib"
   ]
  },
  {
   "cell_type": "code",
   "execution_count": null,
   "metadata": {},
   "outputs": [],
   "source": [
    "f = fib\n",
    "f(100)"
   ]
  },
  {
   "cell_type": "markdown",
   "metadata": {},
   "source": [
    "Viniendo de otros lenguajes, uno podría objetar que fib() no es una función sino más bien un procedimiento, pues no devuelve un valor."
   ]
  },
  {
   "cell_type": "code",
   "execution_count": null,
   "metadata": {},
   "outputs": [],
   "source": [
    "fib(0)"
   ]
  },
  {
   "cell_type": "markdown",
   "metadata": {},
   "source": [
    "De hecho, técnicamente hablando, los procedimientos sí retornan un valor, aunque uno aburrido. Este valor se llama None (es un nombre predefinido).\n",
    "\n",
    "El intérprete por lo general no escribe el valor None si va a ser el único valor escrito. Si realmente se quiere, se puede verlo usando la función print()"
   ]
  },
  {
   "cell_type": "code",
   "execution_count": null,
   "metadata": {},
   "outputs": [],
   "source": [
    "print(fib(0))"
   ]
  },
  {
   "cell_type": "markdown",
   "metadata": {},
   "source": [
    "Es simple escribir una función que retorne una lista con los números de la serie de Fibonacci en lugar de imprimirlos. Definiremos la función fib2()"
   ]
  },
  {
   "cell_type": "code",
   "execution_count": null,
   "metadata": {
    "collapsed": true
   },
   "outputs": [],
   "source": [
    "def fib2(n): # devuelve la serie de Fibonacci hasta n\n",
    "    \"\"\"Devuelve una lista conteniendo la serie de Fibonacci hasta n.\"\"\"\n",
    "    result = []\n",
    "    a, b = 0, 1\n",
    "    while a < n:\n",
    "        result.append(a)    # ver abajo\n",
    "        a, b = b, a+b\n",
    "    return result"
   ]
  },
  {
   "cell_type": "code",
   "execution_count": null,
   "metadata": {
    "collapsed": true
   },
   "outputs": [],
   "source": [
    "# Llamar a la función fib2()\n",
    "f100 = fib2(100)"
   ]
  },
  {
   "cell_type": "code",
   "execution_count": null,
   "metadata": {},
   "outputs": [],
   "source": [
    "# Imprimir el resultado en pantalla\n",
    "f100"
   ]
  },
  {
   "cell_type": "markdown",
   "metadata": {},
   "source": [
    "## 2. Definición de clases\n",
    "\n",
    "En el contexto de la programación orientada a objetos se habla de objetos, clases, métodos y atributos. En una clase un \"método\" equivale a una \"función\", y un \"atributo\" equivale a una \"variable\".\n",
    "\n",
    "Las clases proveen una forma de empaquetar datos y funcionalidad juntos. Al crear una nueva clase, se crea un nuevo tipo de objeto, permitiendo crear nuevas instancias de ese tipo. Cada instancia de clase puede tener atributos adjuntos para mantener su estado. Las instancias de clase también pueden tener métodos (definidos por su clase) para modificar su estado.\n",
    "\n",
    "Comparado con otros lenguajes de programación, el mecanismo de clases de Python agrega clases con un mínimo de nuevas sintaxis y semánticas. Es una mezcla de los mecanismos de clases encontrados en C++ y Modula-3.\n",
    "\n",
    "Las clases de Python proveen todas las características normales de la Programación Orientada a Objetos:\n",
    "\n",
    "- El mecanismo de la herencia de clases permite múltiples clases base\n",
    "- Una clase derivada puede sobre escribir cualquier método de su(s) clase(s) base\n",
    "- Un método puede llamar al método de la clase base con el mismo nombre\n",
    "\n",
    "Los objetos pueden tener una cantidad arbitraria de datos de cualquier tipo. Igual que con los módulos, las clases participan de la naturaleza dinámica de Python: se crean en tiempo de ejecución, y pueden modificarse luego de la creación."
   ]
  },
  {
   "cell_type": "markdown",
   "metadata": {},
   "source": [
    "### Acerca de nombres y objetos\n",
    "\n",
    "Los objetos tienen individualidad, y múltiples nombres (en muchos ámbitos) pueden vincularse al mismo objeto. Esto se conoce como aliasing en otros lenguajes. Normalmente no se aprecia esto a primera vista en Python, y puede ignorarse sin problemas cuando se maneja tipos básicos inmutables (números, cadenas, tuplas).\n",
    "\n",
    "Sin embargo, el aliasing, o renombrado, tiene un efecto posiblemente sorpresivo sobre la semántica de código Python que involucra objetos mutables como listas, diccionarios, y la mayoría de otros tipos."
   ]
  },
  {
   "cell_type": "markdown",
   "metadata": {},
   "source": [
    "### Espacios de nombres en Python\n",
    "\n",
    "Un **espacio de nombres** es una relación de nombres a objetos. Muchos espacios de nombres están implementados en este momento como diccionarios de Python, pero eso no se nota para nada (excepto por el desempeño), y puede cambiar en el futuro. Como ejemplos de espacios de nombres tienes: el conjunto de nombres incluidos (conteniendo funciones como abs(), y los nombres de excepciones integradas); los nombres globales en un módulo; y los nombres locales en la invocación a una función.\n",
    "\n",
    "Lo que es importante saber de los espacios de nombres es que no hay relación en absoluto entre los nombres de espacios de nombres distintos; por ejemplo, dos módulos diferentes pueden tener definidos los dos una función maximizar sin confusión; los usuarios de los módulos deben usar el nombre del módulo como prefijo.\n",
    "\n",
    "La palabra atributo se usa para cualquier cosa después de un punto; por ejemplo, en la expresión z.real, real es un atributo del objeto z.\n",
    "\n",
    "Estrictamente hablando, las referencias a nombres en módulos son referencias a atributos: en la expresión modulo.funcion, modulo es un objeto módulo y funcion es un atributo de éste. En este caso hay una relación directa entre los atributos del módulo y los nombres globales definidos en el módulo: ¡están compartiendo el mismo espacio de nombres!\n",
    "\n",
    "### Ámbitos en Python\n",
    "\n",
    "Un **ámbito** es una región textual de un programa en Python donde un espacio de nombres es accesible directamente. \"Accesible directamente\" significa que una referencia sin calificar a un nombre intenta encontrar dicho nombre dentro del espacio de nombres.\n",
    "\n",
    "Aunque los alcances se determinan estáticamente, se usan dinámicamente. En cualquier momento durante la ejecución hay por lo menos cuatro alcances anidados cuyos espacios de nombres son directamente accesibles\n",
    "\n",
    "- el ámbito interno, donde se busca primero, contiene los nombres locales\n",
    "- los espacios de nombres de las funciones anexas, en las cuales se busca empezando por el ámbito adjunto más cercano, contiene los nombres no locales pero también los no globales\n",
    "- el ámbito anteúltimo contiene los nombres globales del módulo actual\n",
    "- el ámbito exterior (donde se busca al final) es el espacio de nombres que contiene los nombres incluidos"
   ]
  },
  {
   "cell_type": "markdown",
   "metadata": {},
   "source": [
    "### Sintáxis en la definición de clases\n",
    "\n",
    "La forma más sencilla de definición de una clase se ve así\n",
    "\n",
    "```\n",
    "class Clase:\n",
    "    <declaración-1>\n",
    "    .\n",
    "    .\n",
    "    .\n",
    "    <declaración-N>\n",
    "```\n",
    "\n",
    "Las definiciones de clases, al igual que las definiciones de funciones (instrucciones def) deben ejecutarse antes de que tengan efecto alguno. Es concebible poner una definición de clase dentro de una rama de un if, o dentro de una función.\n",
    "\n",
    "Cuando una definición de clase se finaliza normalmente se crea un objeto clase. Básicamente, este objeto envuelve los contenidos del espacio de nombres creado por la definición de la clase"
   ]
  },
  {
   "cell_type": "markdown",
   "metadata": {},
   "source": [
    "### Objeto clase\n",
    "\n",
    "Los objetos clase soportan dos tipos de operaciones: hacer referencia a atributos e instanciación.\n",
    "\n",
    "#### Referencia a atributos\n",
    "\n",
    "Para hacer referencia a atributos se usa la sintaxis estándar de todas las referencias a atributos en Python: objeto.nombre.\n",
    "\n",
    "Los nombres de atributo válidos son todos los nombres que estaban en el espacio de nombres de la clase cuando ésta se creó. Por lo tanto, si la definición de la clase es así"
   ]
  },
  {
   "cell_type": "code",
   "execution_count": null,
   "metadata": {
    "collapsed": true
   },
   "outputs": [],
   "source": [
    "class MiClase:\n",
    "    \"\"\"Simple clase de ejemplo\"\"\"\n",
    "    i = 12345\n",
    "    def f(self):\n",
    "        return 'Hola mundo'"
   ]
  },
  {
   "cell_type": "markdown",
   "metadata": {},
   "source": [
    "entonces MiClase.i y MiClase.f son referencias de atributos válidas, que devuelven un entero y un objeto función respectivamente.\n",
    "\n",
    "Los atributos de clase también pueden ser asignados, o sea que se pueden cambiar el valor de MiClase.i mediante asignación."
   ]
  },
  {
   "cell_type": "markdown",
   "metadata": {},
   "source": [
    "#### Instantación de clases\n",
    "\n",
    "La instanciación de clases usa la notación de funciones. Suponga que el objeto de clase es una función sin parámetros que devuelve una nueva instancia de la clase. Por ejemplo,"
   ]
  },
  {
   "cell_type": "code",
   "execution_count": null,
   "metadata": {},
   "outputs": [],
   "source": [
    "x=MiClase()"
   ]
  },
  {
   "cell_type": "markdown",
   "metadata": {},
   "source": [
    "crea una nueva instancia de la clase y asigna este objeto a la variable local x.\n",
    "\n",
    "Podemos ejecutar el método f() del objeto x."
   ]
  },
  {
   "cell_type": "code",
   "execution_count": null,
   "metadata": {},
   "outputs": [],
   "source": [
    "x.f()"
   ]
  },
  {
   "cell_type": "markdown",
   "metadata": {},
   "source": [
    "Cuando una clase define un método __init__(), la instanciación de la clase automáticamente invoca a __init__() para la instancia recién creada."
   ]
  },
  {
   "cell_type": "code",
   "execution_count": null,
   "metadata": {},
   "outputs": [],
   "source": [
    "class Complejo:\n",
    "    def __init__(self, partereal, parteimaginaria):\n",
    "        self.r = partereal\n",
    "        self.i = parteimaginaria"
   ]
  },
  {
   "cell_type": "code",
   "execution_count": null,
   "metadata": {},
   "outputs": [],
   "source": [
    "x = Complejo(3.0, -4.5)\n",
    "x.r, x.i"
   ]
  },
  {
   "cell_type": "markdown",
   "metadata": {},
   "source": [
    "### Variables de clase y de instancia\n",
    "\n",
    "En general, las variables de instancia son para datos únicos de cada instancia y las variables de clase son para atributos y métodos compartidos por todas las instancias de la clase:"
   ]
  },
  {
   "cell_type": "code",
   "execution_count": null,
   "metadata": {
    "collapsed": true
   },
   "outputs": [],
   "source": [
    "class Perro:\n",
    "\n",
    "    tipo = 'canino'                 # variable de clase compartida por todas las instancias\n",
    "\n",
    "    def __init__(self, nombre):\n",
    "        self.nombre = nombre        # variable de instancia única para la instancia"
   ]
  },
  {
   "cell_type": "code",
   "execution_count": null,
   "metadata": {
    "collapsed": true
   },
   "outputs": [],
   "source": [
    "d = Perro('Fido')\n",
    "e = Perro('Buddy')"
   ]
  },
  {
   "cell_type": "code",
   "execution_count": null,
   "metadata": {},
   "outputs": [],
   "source": [
    "# Variable compartida por todos los perros\n",
    "\n",
    "print(d.tipo)\n",
    "print(e.tipo)"
   ]
  },
  {
   "cell_type": "code",
   "execution_count": null,
   "metadata": {},
   "outputs": [],
   "source": [
    "# Única para cada objeto\n",
    "\n",
    "print(d.nombre)\n",
    "print(e.nombre)"
   ]
  },
  {
   "cell_type": "markdown",
   "metadata": {},
   "source": [
    "# Ejercicios\n",
    "\n",
    "Realice los siguientes ejercicios. En caso de tener dudas, puede apoyarse con sus compañeros, preguntarle al profesor y hacer búsquedas en internet.\n"
   ]
  },
  {
   "cell_type": "markdown",
   "metadata": {},
   "source": [
    "1. Cree una función llamada **resta** la cual permita restar dos valores que son ingresados como parámetros. El primer parámetro se llama x y es obligatorio, mientras que el segundo es opcional y por defecto tiene un valor igual a 0\n",
    "2. Evalue la función resta de dos maneras: usando solo un parámetro y luego usando ambos parámetros de la función"
   ]
  },
  {
   "cell_type": "code",
   "execution_count": null,
   "metadata": {
    "collapsed": true
   },
   "outputs": [],
   "source": []
  },
  {
   "cell_type": "markdown",
   "metadata": {},
   "source": [
    "1. Cree una clase llamada **Gato**, la cual debe cotener una variable llamada tipo y cuyo valor sea 'felino'. La clase debe permitir ser instanciada con dos valores, el primero que corresponda al nombre del gato y el segundo al color del pelo.\n",
    "2. Cree dos objetos del tipo Gato. El primer objeto se llamara gato1, el nombre del gato es \"Garfield\" y el color de pelo es \"naranjo\". El seguno objeto se llama gato2, el nombre del gato es \"Silvestre\" y el color del pelo es \"gris\"."
   ]
  },
  {
   "cell_type": "code",
   "execution_count": null,
   "metadata": {
    "collapsed": true
   },
   "outputs": [],
   "source": []
  }
 ],
 "metadata": {
  "kernelspec": {
   "display_name": "Python 3",
   "language": "python",
   "name": "python3"
  },
  "language_info": {
   "codemirror_mode": {
    "name": "ipython",
    "version": 3
   },
   "file_extension": ".py",
   "mimetype": "text/x-python",
   "name": "python",
   "nbconvert_exporter": "python",
   "pygments_lexer": "ipython3",
   "version": "3.6.3"
  }
 },
 "nbformat": 4,
 "nbformat_minor": 2
}
