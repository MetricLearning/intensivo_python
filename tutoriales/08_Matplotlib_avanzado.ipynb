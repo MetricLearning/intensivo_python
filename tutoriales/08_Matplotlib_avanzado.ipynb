{
 "cells": [
  {
   "cell_type": "markdown",
   "metadata": {},
   "source": [
    "# Matplotlib avanzado\n",
    "\n",
    "**Autor:** Roberto Muñoz <br />\n",
    "**E-mail:** <rmunoz@metricarts.com>\n"
   ]
  },
  {
   "cell_type": "markdown",
   "metadata": {},
   "source": [
    "## Importar los paquetes Numpy y Matplotlib"
   ]
  },
  {
   "cell_type": "code",
   "execution_count": null,
   "metadata": {
    "collapsed": true
   },
   "outputs": [],
   "source": [
    "import numpy as np\n",
    "import matplotlib.pyplot as plt\n",
    "\n",
    "%matplotlib inline"
   ]
  },
  {
   "cell_type": "markdown",
   "metadata": {},
   "source": [
    "## Gráficos de puntos\n",
    "\n",
    "Un gráfico muy empleado en análisis de datos corresponde al gráfico de puntos o de dispersión.\n",
    "\n",
    "Partimos usando el método getfromtxt() de Numpy para leer datos del archivo galaxies_hcn_hco.dat"
   ]
  },
  {
   "cell_type": "code",
   "execution_count": null,
   "metadata": {},
   "outputs": [],
   "source": [
    "data = np.genfromtxt('data/galaxies_hcn_hco.dat',\n",
    "                     usecols=(1, 2, 3, 4, 5, 6, 7, 8, 9),\n",
    "                     dtype=[('LprimeHCN', float),\n",
    "                            ('LprimeerrHCN', float),\n",
    "                            ('HCNlim', int),\n",
    "                            ('LprimeHCO', float),\n",
    "                            ('LprimeerrHCO', float),\n",
    "                            ('HCOlim', int),\n",
    "                            ('PAH62', float),\n",
    "                            ('PAH62err', float),\n",
    "                            ('PAH62lim', int)])"
   ]
  },
  {
   "cell_type": "code",
   "execution_count": null,
   "metadata": {},
   "outputs": [],
   "source": [
    "data[0]"
   ]
  },
  {
   "cell_type": "markdown",
   "metadata": {},
   "source": [
    "Calculamos algunas cantidades de interés, como la razón entre la intensidad de las líneas HCN y HCO.\n",
    "\n",
    "Es importante limpiar los datos antes de graficarlos"
   ]
  },
  {
   "cell_type": "code",
   "execution_count": null,
   "metadata": {
    "collapsed": true
   },
   "outputs": [],
   "source": [
    "ratio = data['LprimeHCN'] / data['LprimeHCO']\n",
    "ratioerr = ratio * np.sqrt((data['LprimeerrHCN']/data['LprimeHCN'])**2 + \n",
    "                           (data['LprimeerrHCO']/data['LprimeHCO'])**2)\n",
    "\n",
    "# Definimos 4 máscaras. valid contiene los valores válidos del ratio,\n",
    "# nolim aquellos valores que no tienen límiter inferior ni superior,\n",
    "# uplim aquellos que tienen limite superior,\n",
    "# lolim aquellos que tienen limite inferior\n",
    "\n",
    "valid = np.invert(np.logical_and(data['HCNlim'], data['HCOlim']))\n",
    "nolim = np.invert(np.logical_or(data['HCNlim'], data['HCOlim']))\n",
    "uplim = (valid * data['HCNlim']) > 0\n",
    "lolim = (valid * data['HCOlim']) > 0"
   ]
  },
  {
   "cell_type": "markdown",
   "metadata": {},
   "source": [
    "Ahora graficamos los datos. En el eje X usaremos el campo 'PAH62' que corresponde al ancho equivalente de una línea de emisión y en el eje Y usaremos el campo ratio que calculamos anteriormente."
   ]
  },
  {
   "cell_type": "code",
   "execution_count": null,
   "metadata": {},
   "outputs": [],
   "source": [
    "# Crear la figura que contendrá el gráfico\n",
    "\n",
    "f = plt.figure()\n",
    "plt.plot(data['PAH62'][nolim],\n",
    "         ratio[nolim],\n",
    "         marker='o',\n",
    "         color='black',\n",
    "         linestyle='',\n",
    "         label='IRAM 30m and Spitzer data')\n",
    "\n",
    "# let's label our axes\n",
    "plt.xlabel(r'PAH EQW ($\\mu m$)', fontsize='large')\n",
    "plt.ylabel(r'HCN/HCO$^+$', fontsize='large')\n",
    "\n",
    "# i like showing minor tickmarks\n",
    "plt.minorticks_on()\n",
    "\n",
    "# let's show a legend\n",
    "plt.legend(loc='best', frameon=True)"
   ]
  },
  {
   "cell_type": "markdown",
   "metadata": {},
   "source": [
    "El gráfico se ve bien. Que tal si agregamos las barras de error."
   ]
  },
  {
   "cell_type": "code",
   "execution_count": null,
   "metadata": {},
   "outputs": [],
   "source": [
    "plt.figure()\n",
    "plt.errorbar(data['PAH62'][nolim],\n",
    "             ratio[nolim],\n",
    "             marker='o',\n",
    "             linestyle='',\n",
    "             xerr=data['PAH62err'][nolim],\n",
    "             yerr=ratioerr[nolim],\n",
    "             label='Data')\n",
    "plt.xlabel(r'PAH EQW ($\\mu m$)', fontsize='large')\n",
    "plt.ylabel(r'HCN/HCO$^+$', fontsize='large')\n",
    "plt.minorticks_on()\n",
    "\n",
    "# there's no simple theoretical model for this, so let's just plot a couple lines\n",
    "# on top of the data\n",
    "plt.plot([0,0.7],\n",
    "         [2.0, 0.6],\n",
    "         color='red',\n",
    "         linestyle=':',\n",
    "         label='Random line 1')\n",
    "plt.plot([0,0.7],\n",
    "         [1.5, 2.6],\n",
    "         color='green',\n",
    "         linestyle='--',\n",
    "         label='Random line 2')\n",
    "plt.legend(loc='best', frameon=False)"
   ]
  },
  {
   "cell_type": "markdown",
   "metadata": {},
   "source": [
    "Algunos de estos valores tienen límites superiores e inferiores, los cuales pueden ser representados como flechas en el gráfico."
   ]
  },
  {
   "cell_type": "code",
   "execution_count": null,
   "metadata": {},
   "outputs": [],
   "source": [
    "plt.figure()\n",
    "plt.minorticks_on()\n",
    "plt.errorbar(data['PAH62'][nolim],\n",
    "             ratio[nolim],\n",
    "             marker='o',\n",
    "             color='black',\n",
    "             linestyle='',\n",
    "             ecolor='gray',\n",
    "             xerr=data['PAH62err'][nolim],\n",
    "             yerr=ratioerr[nolim],\n",
    "             label='Good ratios')\n",
    "plt.xlabel(r'PAH EQW ($\\mu m$)', fontsize='large')\n",
    "plt.ylabel(r'HCN/HCO$^+$', fontsize='large')\n",
    "\n",
    "# we can issue multiple plot commands to put things on the same figure axes\n",
    "# (dividing and multiplying by 3 to make them 3-sigma limits)\n",
    "nlim = len(data['PAH62'][uplim])\n",
    "arrowlen = 0.2 * np.ones(nlim)\n",
    "plt.errorbar(data['PAH62'][uplim],\n",
    "             3*ratio[uplim],\n",
    "             marker='o',\n",
    "             color='green',\n",
    "             linestyle='',\n",
    "             xerr=data['PAH62err'][uplim],\n",
    "             yerr=arrowlen,\n",
    "             ecolor='gray',\n",
    "             uplims=True,\n",
    "             label=r'3$\\sigma$ upper limits')\n",
    "\n",
    "nlim = len(data['PAH62'][lolim])\n",
    "arrowlen = 0.2 * np.ones(nlim)\n",
    "plt.errorbar(data['PAH62'][lolim],\n",
    "             ratio[lolim]/3.,\n",
    "             marker='o',\n",
    "             color='blue',\n",
    "             linestyle='',\n",
    "             xerr=data['PAH62err'][lolim],\n",
    "             yerr=arrowlen,\n",
    "             ecolor='gray',\n",
    "             lolims=True,\n",
    "             label=r'3$\\sigma$ lower limits')\n",
    "plt.legend(loc='best', frameon=False)"
   ]
  },
  {
   "cell_type": "markdown",
   "metadata": {},
   "source": [
    "Let's colorize the points by something. How about the PAH EQW?\n",
    "\n",
    "There are [lots of colormaps](http://matplotlib.org/users/colormaps.html), but we'll use `viridis`, since it's perceptual and colorblind-friendly.\n",
    "\n",
    "Here we'll plot the points separately from their limits.\n",
    "\n",
    "I'll leave adding the upper limits as an exercise for the reader :)"
   ]
  },
  {
   "cell_type": "code",
   "execution_count": null,
   "metadata": {},
   "outputs": [],
   "source": [
    "plt.figure()\n",
    "plt.minorticks_on()\n",
    "# first plot the errobars \n",
    "plt.errorbar(data['PAH62'][nolim],\n",
    "             ratio[nolim],\n",
    "             marker='',\n",
    "             linestyle='',\n",
    "             ecolor='gray',\n",
    "             xerr=data['PAH62err'][nolim],\n",
    "             yerr=ratioerr[nolim])\n",
    "\n",
    "# now, overplot the points colored by PAH EQW\n",
    "plt.scatter(data['PAH62'][nolim],\n",
    "            ratio[nolim],\n",
    "            s=60,\n",
    "            c=data['PAH62'][nolim],\n",
    "            cmap=plt.get_cmap('viridis'))\n",
    "plt.xlabel(r'PAH EQW ($\\mu m$)', fontsize='large')\n",
    "plt.ylabel(r'HCN/HCO$^+$', fontsize='large')\n",
    "\n",
    "# show and label the color bar\n",
    "cbar = plt.colorbar()\n",
    "cbar.set_label(r'PAH EQW ($\\mu m$)')\n",
    "\n",
    "# manually set the scaling, because otherwise it goes past 0 on the x-axis\n",
    "plt.xlim([0,0.75])\n",
    "# this is the same as the autoscaling for the y-axis, but just to show you can\n",
    "# adjust it too\n",
    "plt.ylim([0, 3.])"
   ]
  },
  {
   "cell_type": "markdown",
   "metadata": {},
   "source": [
    "## Histogramas\n",
    "\n",
    "Let's start with a standard histogram. We'll let matplotlib pick the bins, but you can provide your own as an array via the `bins` argument."
   ]
  },
  {
   "cell_type": "code",
   "execution_count": null,
   "metadata": {
    "scrolled": true
   },
   "outputs": [],
   "source": [
    "n, bins, patches = plt.hist(ratio[nolim])\n",
    "plt.xlabel(r'HCN/HCO$^+$', fontsize='large')\n",
    "plt.ylabel('N', fontsize='large')"
   ]
  },
  {
   "cell_type": "markdown",
   "metadata": {},
   "source": [
    "Es posible también definir manualmente los bins"
   ]
  },
  {
   "cell_type": "code",
   "execution_count": null,
   "metadata": {},
   "outputs": [],
   "source": [
    "mybins = np.arange(0, 2.5, 0.4)\n",
    "n, bins, patches = plt.hist(ratio[nolim],\n",
    "                            bins=mybins,\n",
    "                            color='gray',\n",
    "                            normed=False) \n",
    "plt.ylabel('N', fontsize='large')"
   ]
  },
  {
   "cell_type": "markdown",
   "metadata": {},
   "source": [
    "## Gráficos de cajas\n",
    "\n",
    "Let's revisit the plot of the HCN/HCO+ ratio against PAH EQW, and look at the distribution of points, via a boxplot."
   ]
  },
  {
   "cell_type": "code",
   "execution_count": null,
   "metadata": {},
   "outputs": [],
   "source": [
    "plt.boxplot([ratio[nolim][data[nolim]['PAH62']<0.2],\n",
    "             ratio[nolim][data[nolim]['PAH62']>=0.2]],\n",
    "            showcaps=True,\n",
    "            showmeans=True,\n",
    "            labels=['AGN', 'Starbursts and\\nComposites'])\n",
    "plt.ylabel(r'HCN/HCO$^+$')"
   ]
  },
  {
   "cell_type": "markdown",
   "metadata": {},
   "source": [
    "## Gráfico tipo violín\n",
    "\n",
    "A slightly more information-dense version of this is the `violin` plot, which adds a kernel estimated density distribution."
   ]
  },
  {
   "cell_type": "code",
   "execution_count": null,
   "metadata": {},
   "outputs": [],
   "source": [
    "fig = plt.figure()\n",
    "res = plt.violinplot([ratio[nolim][data[nolim]['PAH62']<0.2],\n",
    "                ratio[nolim][data[nolim]['PAH62']>=0.2]],\n",
    "               showmedians=True,\n",
    "               showmeans=False,\n",
    "               showextrema=True)\n",
    "\n",
    "# it takes a bit more work to add labels to this plot\n",
    "plt.xticks(np.arange(1,3,1), ['AGN', 'Composites and\\nStarbursts'])\n",
    "\n",
    "# let's change the default colors\n",
    "for elem in res['bodies']:\n",
    "    elem.set_facecolor('blue')\n",
    "    elem.set_edgecolor('purple')"
   ]
  },
  {
   "cell_type": "markdown",
   "metadata": {},
   "source": [
    "### Crear figuras multipanel\n",
    "\n",
    "Let's say we want to show the boxplot and the data next to each other. How do we do that?"
   ]
  },
  {
   "cell_type": "code",
   "execution_count": null,
   "metadata": {
    "scrolled": false
   },
   "outputs": [],
   "source": [
    "fig, ax = plt.subplots(1, 3,\n",
    "                       sharey=True,\n",
    "                       squeeze=False,\n",
    "                       figsize=(15,4))\n",
    "# now, ax is a 1x3 array\n",
    "print(ax.shape)\n",
    "\n",
    "# we can do the same commands as above. But now instead of issuing plot commands\n",
    "# via \"plt.\", we assign them directly to the axes.\n",
    "ax[0][0].errorbar(data['PAH62'][nolim],\n",
    "             ratio[nolim],\n",
    "             marker='',\n",
    "             linestyle='',\n",
    "             ecolor='gray',\n",
    "             xerr=data['PAH62err'][nolim],\n",
    "             yerr=ratioerr[nolim])\n",
    "\n",
    "# now, overplot the points colored by PAH EQW\n",
    "im = ax[0][0].scatter(data['PAH62'][nolim],\n",
    "                      ratio[nolim],\n",
    "                      s=60,\n",
    "                      c=data['PAH62'][nolim],\n",
    "                      cmap=plt.get_cmap('viridis'))\n",
    "\n",
    "# setting labels using the axis is slightly different\n",
    "ax[0][0].set_xlabel(r'PAH EQW ($\\mu m$)', fontsize='large')\n",
    "ax[0][0].set_ylabel(r'HCN/HCO$^+$', fontsize='large')\n",
    "\n",
    "# show and label the color bar\n",
    "#cbar = ax[0][0].colorbar()\n",
    "#cbar.set_label(r'PAH EQW ($\\mu m$)')\n",
    "\n",
    "# manually set the scaling, because otherwise it goes past 0 on the x-axis\n",
    "ax[0][0].set_xlim([0,0.75])\n",
    "# this is the same as the autoscaling for the y-axis, but just to show you can\n",
    "# adjust it too\n",
    "ax[0][0].set_ylim([0, 3.])\n",
    "\n",
    "ax[0][1].boxplot([ratio[nolim][data[nolim]['PAH62']<0.2],\n",
    "             ratio[nolim][data[nolim]['PAH62']>=0.2]],\n",
    "            labels=['AGN', 'Starbursts and\\nComposites'])\n",
    "\n",
    "res = ax[0][2].violinplot([ratio[nolim][data[nolim]['PAH62']<0.2],\n",
    "                ratio[nolim][data[nolim]['PAH62']>=0.2]],\n",
    "               showmedians=True,\n",
    "               showmeans=False,\n",
    "               showextrema=True)\n",
    "\n",
    "# it takes a bit more work to add labels to this plot\n",
    "ax[0][2].set_xticks(np.arange(1,3,1))\n",
    "ax[0][2].set_xticklabels(['AGN', 'Composites and\\nStarbursts'])\n",
    "\n",
    "# let's change the default colors\n",
    "for elem in res['bodies']:\n",
    "    elem.set_facecolor('blue')\n",
    "    elem.set_edgecolor('purple')\n",
    "\n",
    "# now let's make the two plots without any space between them\n",
    "fig.subplots_adjust(hspace=0, wspace=0)\n",
    "\n",
    "# adding a colorbar is slightly more complicated when doing subplots.\n",
    "# here's one way...\n",
    "# not we added a \"im =\", to the scatter plot for this.\n",
    "fig.subplots_adjust(right=0.8)\n",
    "cbar_ax = fig.add_axes([0.85, 0.10, 0.03, 0.8])\n",
    "cbar = fig.colorbar(im, cax=cbar_ax)\n",
    "cbar.set_label(r'PAH EQW ($\\mu m$)', fontsize='12')"
   ]
  },
  {
   "cell_type": "code",
   "execution_count": null,
   "metadata": {
    "collapsed": true
   },
   "outputs": [],
   "source": []
  }
 ],
 "metadata": {
  "kernelspec": {
   "display_name": "Python 3",
   "language": "python",
   "name": "python3"
  },
  "language_info": {
   "codemirror_mode": {
    "name": "ipython",
    "version": 3
   },
   "file_extension": ".py",
   "mimetype": "text/x-python",
   "name": "python",
   "nbconvert_exporter": "python",
   "pygments_lexer": "ipython3",
   "version": "3.6.3"
  }
 },
 "nbformat": 4,
 "nbformat_minor": 2
}
